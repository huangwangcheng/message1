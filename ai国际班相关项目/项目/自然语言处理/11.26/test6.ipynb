{
 "cells": [
  {
   "cell_type": "code",
   "execution_count": 1,
   "metadata": {
    "collapsed": true,
    "pycharm": {
     "is_executing": false
    }
   },
   "outputs": [],
   "source": [
    "from collections import defaultdict\n",
    "import math\n",
    "\n"
   ]
  },
  {
   "cell_type": "code",
   "execution_count": 2,
   "outputs": [],
   "source": [
    "def defItemIndex(DictUser):\n",
    "    DictItem=defaultdict(defaultdict)\n",
    "    for key in DictUser:   ##遍历每个⽤户\n",
    "        for i in DictUser[key]:  ##遍历⽤户k的购买记录\n",
    "            DictItem[i][key]=[key,DictUser[key][i]]\n",
    "    return DictItem\n",
    "\n"
   ],
   "metadata": {
    "collapsed": false,
    "pycharm": {
     "name": "#%%\n",
     "is_executing": false
    }
   }
  },
  {
   "cell_type": "code",
   "execution_count": 3,
   "outputs": [
    {
     "name": "stdout",
     "text": [
      "defaultdict(<class 'collections.defaultdict'>, {'A': defaultdict(None, {'B': 1.0, 'C': 1.0}), 'B': defaultdict(None, {'A': 1.0, 'C': 1.0}), 'C': defaultdict(None, {'A': 1.0, 'B': 1.0}), 'D': defaultdict(None, {'A': 1.0, 'C': 1.0, 'F': 1.0}), 'F': defaultdict(None, {'A': 1.0, 'C': 1.0, 'D': 1.0}), 'E': defaultdict(None, {'C': 1.0})})\n"
     ],
     "output_type": "stream"
    }
   ],
   "source": [
    "def defUserSimilarity(DictItem):\n",
    "    N=dict() #⽤户购买的数量\n",
    "    C=defaultdict(defaultdict)\n",
    "    W=defaultdict(defaultdict)\n",
    "    for key in DictItem:  ##遍历每个物品\n",
    "        for x in DictItem[key]:\n",
    "            i = DictItem[key][x]\n",
    "            if i[0] not in N.keys():  #i[0]表示⽤户的id ，如果未计算过，则初始化为0\n",
    "                N[i[0]]=0\n",
    "                N[i[0]]+=1\n",
    "    \n",
    "                for j in DictItem[key]:  ## (i,j)是物品k同时被购买的⽤户两两匹配对\n",
    "                    if i[0]==j[0]:\n",
    "                        continue\n",
    "                    if j[0] not in C[i[0]].keys():\n",
    "                        C[i[0]][j[0]]=0\n",
    "                        C[i[0]][j[0]]+=1  #C[i[0]][j[0]]表示⽤户i和j购买同样物品的数量\n",
    "    for i,related_user in C.items():\n",
    "        for j,cij in related_user.items():\n",
    "            W[i][j]=cij/math.sqrt(N[i]*N[j])\n",
    "    return W\n",
    "\n",
    "if __name__ == '__main__':\n",
    "    Train_Data = {\n",
    "        'A':{ '苹果':1,'⾹蕉':1,'⻄⽠':1},\n",
    "        'B':{'苹果':1,'⻄⽠':1},\n",
    "        'C':{'苹果':1,'⾹蕉':1,'菠萝':1},\n",
    "        'D':{'⾹蕉':1,'葡萄':1},\n",
    "        'E':{'葡萄':1,'菠萝':1},\n",
    "        'F':{'⾹蕉':1,'⻄⽠':1}\n",
    "    }\n",
    "    W=defItemIndex(Train_Data)\n",
    "    print(defUserSimilarity(W))\n",
    "\n"
   ],
   "metadata": {
    "collapsed": false,
    "pycharm": {
     "name": "#%%\n",
     "is_executing": false
    }
   }
  }
 ],
 "metadata": {
  "kernelspec": {
   "display_name": "Python 3",
   "language": "python",
   "name": "python3"
  },
  "language_info": {
   "codemirror_mode": {
    "name": "ipython",
    "version": 2
   },
   "file_extension": ".py",
   "mimetype": "text/x-python",
   "name": "python",
   "nbconvert_exporter": "python",
   "pygments_lexer": "ipython2",
   "version": "2.7.6"
  },
  "pycharm": {
   "stem_cell": {
    "cell_type": "raw",
    "source": [],
    "metadata": {
     "collapsed": false
    }
   }
  }
 },
 "nbformat": 4,
 "nbformat_minor": 0
}