{
 "cells": [
  {
   "cell_type": "code",
   "execution_count": 17,
   "metadata": {
    "pycharm": {
     "is_executing": false
    }
   },
   "outputs": [],
   "source": [
    "import matplotlib.pyplot as plt\n",
    "import tensorflow as tf\n",
    "tf.enable_eager_execution()\n",
    "%matplotlib inline"
   ]
  },
  {
   "cell_type": "code",
   "execution_count": 18,
   "metadata": {
    "pycharm": {
     "is_executing": false
    }
   },
   "outputs": [
    {
     "data": {
      "text/plain": "<matplotlib.collections.PathCollection at 0x1bb0b086438>"
     },
     "metadata": {},
     "output_type": "execute_result",
     "execution_count": 18
    },
    {
     "data": {
      "text/plain": "<Figure size 432x288 with 1 Axes>",
      "image/png": "[encoded data removed]"
     },
     "metadata": {
      "needs_background": "light"
     },
     "output_type": "display_data"
    }
   ],
   "source": [
    "####### >>>>>填写<<<<<   设置你想要的真实斜率和截距， 以及数据点(50-200) >>>>>填写<<<<< ############\n",
    "true_w = 5    # 斜率\n",
    "true_b = 3    # 截距\n",
    "num_samples = 200   # 数据点\n",
    "\n",
    "############################################################################################\n",
    "\n",
    "\n",
    "# 初始化随机数据\n",
    "X = tf.random.normal(shape=[num_samples, 1]).numpy()\n",
    "noise = tf.random.normal(shape=[num_samples, 1]).numpy()\n",
    "\n",
    "####### >>>>>填写<<<<< 在下述函数尾端，添加噪音项, 注意删除下划线 >>>>>填写<<<<<  ################################\n",
    "y = X * true_w  + true_b + noise\n",
    "#######################################\n",
    "\n",
    "plt.scatter(X, y)"
   ]
  },
  {
   "cell_type": "code",
   "execution_count": 15,
   "metadata": {
    "pycharm": {
     "is_executing": false
    }
   },
   "outputs": [],
   "source": [
    "# 随机初始化参数\n",
    "W = tf.Variable(tf.random.uniform([1]))  \n",
    "b = tf.Variable(tf.random.uniform([1]))\n",
    "\n",
    "# >>>>>填写<<<<<  定义一个随机一元一次线性函数  y = W * x + b   >>>>>填写<<<<<  ##\n",
    "# 思考 这里的x为什么是小写？ #\n",
    "def random_line(x):\n",
    "    \n",
    "    y = W * x + b\n",
    "    return y\n"
   ]
  },
  {
   "cell_type": "code",
   "execution_count": 16,
   "metadata": {
    "pycharm": {
     "is_executing": false
    }
   },
   "outputs": [
    {
     "data": {
      "text/plain": "[<matplotlib.lines.Line2D at 0x1bb0afdb860>]"
     },
     "metadata": {},
     "output_type": "execute_result",
     "execution_count": 16
    },
    {
     "data": {
      "text/plain": "<Figure size 432x288 with 1 Axes>",
      "image/png": "[encoded data removed]"
     },
     "metadata": {
      "needs_background": "light"
     },
     "output_type": "display_data"
    }
   ],
   "source": [
    "plt.scatter(X, y)\n",
    "plt.plot(X, random_line(X), c='r')"
   ]
  },
  {
   "cell_type": "code",
   "execution_count": 7,
   "metadata": {
    "pycharm": {
     "is_executing": false
    }
   },
   "outputs": [],
   "source": [
    "def loss_fn( x, y):\n",
    "    y_ = random_line(x)\n",
    "    return tf.reduce_mean(tf.square(y_ - y))"
   ]
  },
  {
   "cell_type": "code",
   "execution_count": 8,
   "metadata": {
    "pycharm": {
     "is_executing": false
    }
   },
   "outputs": [
    {
     "name": "stdout",
     "text": [
      "Epoch [0/50], loss [30.020], W is [0.160], b is [0.114]\nEpoch [1/50], loss [28.998], W is [0.246], b is [0.166]\nEpoch [2/50], loss [28.012], W is [0.329], b is [0.217]\nEpoch [3/50], loss [27.061], W is [0.411], b is [0.267]\nEpoch [4/50], loss [26.143], W is [0.492], b is [0.316]\nEpoch [5/50], loss [25.258], W is [0.571], b is [0.364]\nEpoch [6/50], loss [24.403], W is [0.649], b is [0.412]\nEpoch [7/50], loss [23.579], W is [0.726], b is [0.459]\nEpoch [8/50], loss [22.783], W is [0.801], b is [0.504]\nEpoch [9/50], loss [22.016], W is [0.875], b is [0.549]\nEpoch [10/50], loss [21.275], W is [0.947], b is [0.593]\nEpoch [11/50], loss [20.561], W is [1.019], b is [0.637]\nEpoch [12/50], loss [19.872], W is [1.089], b is [0.679]\nEpoch [13/50], loss [19.207], W is [1.157], b is [0.721]\nEpoch [14/50], loss [18.565], W is [1.225], b is [0.762]\nEpoch [15/50], loss [17.946], W is [1.291], b is [0.802]\nEpoch [16/50], loss [17.348], W is [1.356], b is [0.842]\nEpoch [17/50], loss [16.772], W is [1.420], b is [0.881]\nEpoch [18/50], loss [16.216], W is [1.483], b is [0.919]\nEpoch [19/50], loss [15.679], W is [1.545], b is [0.956]\nEpoch [20/50], loss [15.161], W is [1.606], b is [0.993]\nEpoch [21/50], loss [14.662], W is [1.666], b is [1.029]\nEpoch [22/50], loss [14.180], W is [1.724], b is [1.065]\nEpoch [23/50], loss [13.715], W is [1.782], b is [1.100]\nEpoch [24/50], loss [13.266], W is [1.838], b is [1.134]\nEpoch [25/50], loss [12.833], W is [1.894], b is [1.167]\nEpoch [26/50], loss [12.415], W is [1.948], b is [1.200]\nEpoch [27/50], loss [12.012], W is [2.002], b is [1.233]\nEpoch [28/50], loss [11.623], W is [2.055], b is [1.265]\nEpoch [29/50], loss [11.248], W is [2.106], b is [1.296]\nEpoch [30/50], loss [10.886], W is [2.157], b is [1.326]\nEpoch [31/50], loss [10.537], W is [2.207], b is [1.357]\nEpoch [32/50], loss [10.200], W is [2.256], b is [1.386]\nEpoch [33/50], loss [9.874], W is [2.304], b is [1.415]\nEpoch [34/50], loss [9.561], W is [2.352], b is [1.444]\nEpoch [35/50], loss [9.258], W is [2.398], b is [1.472]\nEpoch [36/50], loss [8.966], W is [2.444], b is [1.499]\nEpoch [37/50], loss [8.684], W is [2.489], b is [1.526]\nEpoch [38/50], loss [8.412], W is [2.533], b is [1.553]\nEpoch [39/50], loss [8.150], W is [2.576], b is [1.579]\nEpoch [40/50], loss [7.896], W is [2.619], b is [1.604]\nEpoch [41/50], loss [7.652], W is [2.661], b is [1.629]\n",
      "Epoch [42/50], loss [7.416], W is [2.702], b is [1.654]\nEpoch [43/50], loss [7.189], W is [2.742], b is [1.678]\nEpoch [44/50], loss [6.970], W is [2.782], b is [1.702]\nEpoch [45/50], loss [6.758], W is [2.821], b is [1.725]\nEpoch [46/50], loss [6.554], W is [2.859], b is [1.748]\nEpoch [47/50], loss [6.357], W is [2.896], b is [1.771]\nEpoch [48/50], loss [6.167], W is [2.933], b is [1.793]\nEpoch [49/50], loss [5.983], W is [2.970], b is [1.815]\n"
     ],
     "output_type": "stream"
    }
   ],
   "source": [
    "### >>>>>填写<<<<< 通过改变epochs 的值，推荐起始10， 和learning rate 学习率 推荐0.1起始 观察梯度下降学习的线性函数w b的值，以及loss函数的变化>>>>>填写<<<<<  ######\n",
    "\n",
    "EPOCHS = 50\n",
    "LEARNING_RATE = 0.01\n",
    "#######################################################################################################################################\n",
    "\n",
    "\n",
    "\n",
    "for epoch in range(EPOCHS):  # 迭代次数\n",
    "    with tf.GradientTape() as tape:  # 追踪梯度\n",
    "        loss = loss_fn(X, y)  # 计算损失\n",
    "    dW, db = tape.gradient(loss, [W, b])  # 计算梯度\n",
    "    W.assign_sub(LEARNING_RATE * dW)  # 更新梯度\n",
    "    b.assign_sub(LEARNING_RATE * db)\n",
    "    # 输出计算过程\n",
    "    print('Epoch [{}/{}], loss [{:.3f}], W is [{:.3f}], b is [{:.3f}]'.format(epoch, EPOCHS, loss,\n",
    "                                                                     float(W.numpy()),\n",
    "                                                                     float(b.numpy())))"
   ]
  },
  {
   "cell_type": "code",
   "execution_count": null,
   "metadata": {},
   "outputs": [],
   "source": []
  }
 ],
 "metadata": {
  "kernelspec": {
   "display_name": "Python 3",
   "language": "python",
   "name": "python3"
  },
  "language_info": {
   "codemirror_mode": {
    "name": "ipython",
    "version": 3
   },
   "file_extension": ".py",
   "mimetype": "text/x-python",
   "name": "python",
   "nbconvert_exporter": "python",
   "pygments_lexer": "ipython3",
   "version": "3.7.3"
  },
  "pycharm": {
   "stem_cell": {
    "cell_type": "raw",
    "source": [],
    "metadata": {
     "collapsed": false
    }
   }
  }
 },
 "nbformat": 4,
 "nbformat_minor": 2
}