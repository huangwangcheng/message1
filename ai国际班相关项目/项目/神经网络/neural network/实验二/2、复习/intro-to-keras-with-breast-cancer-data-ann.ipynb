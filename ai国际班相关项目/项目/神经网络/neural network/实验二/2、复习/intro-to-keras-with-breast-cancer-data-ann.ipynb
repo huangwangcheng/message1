{
 "cells": [
  {
   "cell_type": "markdown",
   "metadata": {
    "_cell_guid": "b1076dfc-b9ad-4769-8c92-a6c4dae69d19",
    "_uuid": "8f2839f25d086af736a60e9eeb907d3b93b6e0e5"
   },
   "source": [
    "# Aim\n",
    "This is a small yet useful kernel for providing an introduction to **Artificial Neural Networks** for people who want to begin their journey into the field of **deep learning**. For this, I have used Keras which is a high-level Neural Networks API built on top of low level neural networks APIs like Tensorflow and Theano. As it is high-level, many things are already taken care of therefore it is easy to work with and a great tool to start with. [Here's the documentation for keras](https://keras.io/)\n",
    "\n",
    "# What is Deep learning?\n",
    "Deep Learning is a subfield of machine learning concerned with algorithms inspired by the structure and function of the brain called artificial neural networks. Deep learning is a machine learning technique that teaches computers to do what comes naturally to humans: learn by example. Deep learning is a key technology behind driverless cars, enabling them to recognize a stop sign, or to distinguish a pedestrian from a lamppost. It is the key to voice control in consumer devices like phones, tablets, TVs, and hands-free speakers. Deep learning is getting lots of attention lately and for good reason. It’s achieving results that were not possible before.\n",
    "\n",
    "\n",
    "# What are artificial neural networks?\n",
    "An artificial neuron network (ANN) is a computational model based on the structure and functions of biological neural networks. Information that flows through the network affects the structure of the ANN because a neural network changes - or learns, in a sense - based on that input and output. ANNs are considered nonlinear statistical data modeling tools where the complex relationships between inputs and outputs are modeled or patterns are found. ANN is also known as a neural network.\n"
   ]
  },
  {
   "cell_type": "markdown",
   "metadata": {
    "_cell_guid": "79c7e3d0-c299-4dcb-8224-4455121ee9b0",
    "_uuid": "d629ff2d2480ee46fbb7e2d37f6b5fab8052498a",
    "collapsed": true
   },
   "source": [
    "<img src=\"https://cdn-images-1.medium.com/max/1000/1*ZX05x1xYgaVoa4Vn2kKS9g.png\">"
   ]
  },
  {
   "cell_type": "markdown",
   "metadata": {
    "_cell_guid": "17fa9862-de9f-4964-a688-fe9e666f0fd5",
    "_uuid": "5a1835cc73f103d85fe770ff84e0afae99ba692f"
   },
   "source": [
    "A single neuron is known as a perceptron. It consists of a layer of inputs(corresponds to columns of a dataframe). Each input has a weight which controls the magnitude of an input.\n",
    "The summation of the products of these input values and weights is fed to the activation function. Activation functions are really important for a Artificial Neural Network to learn and make sense of something really complicated and Non-linear complex functional mappings between the inputs and response variable. \n",
    "\n",
    "They introduce non-linear properties to our Network.Their main purpose is to convert a input signal of a node in a A-NN to an output signal. That output signal now is used as a input in the next layer in the stack.  Specifically in A-NN we do the sum of products of inputs(X) and their corresponding Weights(W) and apply a Activation function f(x) to it to get the output of that layer and feed it as an input to the next layer. [Refer to this article for more info.](https://towardsdatascience.com/activation-functions-and-its-types-which-is-better-a9a5310cc8f)\n",
    "<img src=\"https://cdnpythonmachinelearning.azureedge.net/wp-content/uploads/2017/09/Single-Perceptron.png\">\n",
    "**Concept of backpropagation** - Backpropagation, short for \"backward propagation of errors,\" is an algorithm for supervised learning of artificial neural networks using gradient descent. Given an artificial neural network and an error function, the method calculates the gradient of the error function with respect to the neural network's weights. It is a generalization of the delta rule for perceptrons to multilayer feedforward neural networks.\n",
    "<img src=\"https://www.researchgate.net/profile/Hassan_Al-Haj_Ibrahim/publication/235338024/figure/fig6/AS:299794191929349@1448487913220/Flow-chart-for-the-back-propagation-BP-learning-algorithm.png\">\n",
    "**Gradient Descent** - To explain Gradient Descent I’ll use the classic mountaineering example. Suppose you are at the top of a mountain, and you have to reach a lake which is at the lowest point of the mountain (a.k.a valley). A twist is that you are blindfolded and you have zero visibility to see where you are headed. So, what approach will you take to reach the lake? The best way is to check the ground near you and observe where the land tends to descend. This will give an idea in what direction you should take your first step. If you follow the descending path, it is very likely you would reach the lake. [Refer to this article for more information.](https://www.analyticsvidhya.com/blog/2017/03/introduction-to-gradient-descent-algorithm-along-its-variants/)"
   ]
  },
  {
   "cell_type": "markdown",
   "metadata": {
    "_cell_guid": "0de730e5-6631-4d4f-882e-4c34b4a0c37a",
    "_uuid": "e43e4e6f84cb95700e1d05f07f20fb740bcdfd31"
   },
   "source": [
    "About Breast Cancer Wisconsin (Diagnostic) Data Set\n",
    "Features are computed from a digitized image of a fine needle aspirate (FNA) of a breast mass. They describe characteristics of the cell nuclei present in the image. n the 3-dimensional space is that described in: [K. P. Bennett and O. L. Mangasarian: \"Robust Linear Programming Discrimination of Two Linearly Inseparable Sets\", Optimization Methods and Software 1, 1992, 23-34].\n",
    "\n",
    "This database is also available through the UW CS ftp server: ftp ftp.cs.wisc.edu cd math-prog/cpo-dataset/machine-learn/WDBC/\n",
    "\n",
    "Also can be found on UCI Machine Learning Repository: https://archive.ics.uci.edu/ml/datasets/Breast+Cancer+Wisconsin+%28Diagnostic%29\n",
    "\n",
    "Attribute Information:\n",
    "\n",
    "1) ID number 2) Diagnosis (M = malignant, B = benign) 3-32)\n",
    "\n",
    "Ten real-valued features are computed for each cell nucleus:\n",
    "\n",
    "a) radius (mean of distances from center to points on the perimeter) b) texture (standard deviation of gray-scale values) c) perimeter d) area e) smoothness (local variation in radius lengths) f) compactness (perimeter^2 / area - 1.0) g) concavity (severity of concave portions of the contour) h) concave points (number of concave portions of the contour) i) symmetry j) fractal dimension (\"coastline approximation\" - 1)\n",
    "\n",
    "The mean, standard error and \"worst\" or largest (mean of the three largest values) of these features were computed for each image, resulting in 30 features. For instance, field 3 is Mean Radius, field 13 is Radius SE, field 23 is Worst Radius.\n",
    "\n",
    "All feature values are recoded with four significant digits.\n",
    "\n",
    "Missing attribute values: none\n",
    "\n",
    "Class distribution: 357 benign, 212 malignant"
   ]
  },
  {
   "cell_type": "code",
   "execution_count": 3,
   "metadata": {
    "_cell_guid": "466b1182-f052-4452-abb5-4fbe3cd92095",
    "_uuid": "6f747b567b4b89f9aaa48e503ddddabf214cb278",
    "pycharm": {
     "is_executing": false
    }
   },
   "outputs": [],
   "source": [
    "# Importing libraries\n",
    "import pandas as pd\n",
    "import numpy as np\n",
    "import matplotlib.pyplot as plt\n",
    "import seaborn as sns\n",
    "\n",
    "# Importing data\n",
    "data = pd.read_csv('C:/Users/H\\Desktop/AI/nurual network/实验二/1、数据/data.csv')\n",
    "del data['Unnamed: 32']                      #######删掉噪声"
   ]
  },
  {
   "cell_type": "code",
   "execution_count": 5,
   "metadata": {
    "_cell_guid": "962b3671-f704-438d-bd54-931767e877cf",
    "_uuid": "f6af18d53dcaabb44c49b50c13ba3dafe7bbae10",
    "pycharm": {
     "is_executing": false
    }
   },
   "outputs": [],
   "source": [
    "X = data.iloc[:, 2:].values                #######拆分特征和标签\n",
    "y = data.iloc[:, 1].values\n",
    "\n",
    "\n",
    "# Encoding categorical data\n",
    "from sklearn.preprocessing import LabelEncoder     #将数据中的类别编码\n",
    "\n",
    "labelencoder_X_1 = LabelEncoder()              ##########将字母标签转为数字形式\n",
    "y = labelencoder_X_1.fit_transform(y)\n",
    "\n",
    "\n",
    "\n",
    "# Splitting the dataset into the Training set and Test set\n",
    "from sklearn.model_selection import train_test_split\n",
    "X_train, X_test, y_train, y_test = train_test_split(X, y, test_size = 0.1, random_state = 0)\n",
    "\n",
    "#Feature Scaling\n",
    "from sklearn.preprocessing import StandardScaler\n",
    "sc = StandardScaler()\n",
    "X_train = sc.fit_transform(X_train)       #fit_transform()的作用就是先拟合数据，然后转化它将其转化为标准形式。\n",
    "X_test = sc.transform(X_test)            #已经找到了转换规则，我们把这个规则利用在训练集上，同样，我们可以直接将其运用到测试集上"
   ]
  },
  {
   "cell_type": "code",
   "execution_count": 9,
   "outputs": [],
   "source": [],
   "metadata": {
    "collapsed": false,
    "pycharm": {
     "name": "#%%\n",
     "is_executing": false
    }
   }
  },
  {
   "cell_type": "markdown",
   "metadata": {
    "_cell_guid": "a0d8f2ca-a51c-44e5-9399-345ec7f36509",
    "_uuid": "d9f057a42b57df5d2ad73b20fc6d81b5e33628e9"
   },
   "source": [
    "**Now that we have prepared data, we will import Keras and its packages.**"
   ]
  },
  {
   "cell_type": "code",
   "execution_count": 13,
   "metadata": {
    "_cell_guid": "51ab3d86-d1fd-40b6-a463-012e24a5c0a0",
    "_uuid": "c01850e3c738b8a55146cce28e5f6fe82378032e",
    "scrolled": false,
    "pycharm": {
     "is_executing": false
    }
   },
   "outputs": [],
   "source": [
    "import keras\n",
    "from keras.models import Sequential\n",
    "from keras.layers import Dense, Dropout"
   ]
  },
  {
   "cell_type": "code",
   "execution_count": 16,
   "metadata": {
    "_cell_guid": "5e19dee2-9602-42c9-bc3b-41d912e0aa1d",
    "_uuid": "f07a3637824959ff96269ff3806b994c4f64d117",
    "pycharm": {
     "is_executing": false
    }
   },
   "outputs": [],
   "source": [
    "# Initialising the ANN\n",
    "classifier = Sequential()                        #建立顺序模型"
   ]
  },
  {
   "cell_type": "code",
   "execution_count": 17,
   "metadata": {
    "_cell_guid": "b1338309-a776-44b0-b04a-a8bdbf25d10e",
    "_uuid": "cce53ac057db311d8221c027afe2d286bf0a5b51",
    "pycharm": {
     "is_executing": false
    }
   },
   "outputs": [
    {
     "name": "stderr",
     "text": [
      "D:\\aconda3\\lib\\site-packages\\ipykernel_launcher.py:2: UserWarning: Update your `Dense` call to the Keras 2 API: `Dense(activation=\"relu\", input_dim=30, units=16, kernel_initializer=\"uniform\")`\n  \nD:\\aconda3\\lib\\site-packages\\ipykernel_launcher.py:4: UserWarning: Update your `Dropout` call to the Keras 2 API: `Dropout(rate=0.1)`\n  after removing the cwd from sys.path.\n"
     ],
     "output_type": "stream"
    }
   ],
   "source": [
    "# Adding the input layer and the first hidden layer\n",
    "classifier.add(Dense(output_dim=16, init='uniform', activation='relu', input_dim=30))        #output_dim表示该层神经元是16个，'uniform'表示用均匀分布去初始化，activation代表激活函数，input_dim代表输入层特征个数\n",
    "# Adding dropout to prevent overfitting\n",
    "classifier.add(Dropout(p=0.1))                    #在隐藏层中删掉一些神经元，增加随机性，避免过拟合"
   ]
  },
  {
   "cell_type": "markdown",
   "metadata": {
    "_cell_guid": "dd954d81-d773-4e90-aaa3-34d1dcb99e68",
    "_uuid": "3d42817e7446a061dca811ea75ece45b15a4fdd9"
   },
   "source": [
    "input_dim - number of columns of the dataset \n",
    "\n",
    "output_dim - number of outputs to be fed to the next layer, if any\n",
    "\n",
    "activation - activation function which is ReLU in this case\n",
    "\n",
    "init - the way in which weights should be provided to an ANN\n",
    " \n",
    "The **ReLU** function is f(x)=max(0,x). Usually this is applied element-wise to the output of some other function, such as a matrix-vector product. In MLP usages, rectifier units replace all other activation functions except perhaps the readout layer. But I suppose you could mix-and-match them if you'd like. One way ReLUs improve neural networks is by speeding up training. The gradient computation is very simple (either 0 or 1 depending on the sign of x). Also, the computational step of a ReLU is easy: any negative elements are set to 0.0 -- no exponentials, no multiplication or division operations. Gradients of logistic and hyperbolic tangent networks are smaller than the positive portion of the ReLU. This means that the positive portion is updated more rapidly as training progresses. However, this comes at a cost. The 0 gradient on the left-hand side is has its own problem, called \"dead neurons,\" in which a gradient update sets the incoming values to a ReLU such that the output is always zero; modified ReLU units such as ELU (or Leaky ReLU etc.) can minimize this. Source : [StackExchange](https://stats.stackexchange.com/questions/226923/why-do-we-use-relu-in-neural-networks-and-how-do-we-use-it)"
   ]
  },
  {
   "cell_type": "code",
   "execution_count": 18,
   "metadata": {
    "_cell_guid": "7d6c2e16-5ffb-43b1-b238-c7434faa8808",
    "_uuid": "6105fb90265fdd6082648004657d55a43b187217",
    "pycharm": {
     "is_executing": false
    }
   },
   "outputs": [
    {
     "name": "stderr",
     "text": [
      "D:\\aconda3\\lib\\site-packages\\ipykernel_launcher.py:2: UserWarning: Update your `Dense` call to the Keras 2 API: `Dense(activation=\"relu\", units=16, kernel_initializer=\"uniform\")`\n  \nD:\\aconda3\\lib\\site-packages\\ipykernel_launcher.py:4: UserWarning: Update your `Dropout` call to the Keras 2 API: `Dropout(rate=0.1)`\n  after removing the cwd from sys.path.\n"
     ],
     "output_type": "stream"
    }
   ],
   "source": [
    "# Adding the second hidden layer\n",
    "classifier.add(Dense(output_dim=16, init='uniform', activation='relu'))\n",
    "# Adding dropout to prevent overfitting\n",
    "classifier.add(Dropout(p=0.1))"
   ]
  },
  {
   "cell_type": "code",
   "execution_count": 19,
   "metadata": {
    "_cell_guid": "628b8221-c76b-40bd-b5b9-b5aff04cbf31",
    "_uuid": "ed51c97f1ea1a10af8bee99604de076b92cb2627",
    "pycharm": {
     "is_executing": false
    }
   },
   "outputs": [
    {
     "name": "stderr",
     "text": [
      "D:\\aconda3\\lib\\site-packages\\ipykernel_launcher.py:2: UserWarning: Update your `Dense` call to the Keras 2 API: `Dense(activation=\"sigmoid\", units=1, kernel_initializer=\"uniform\")`\n  \n"
     ],
     "output_type": "stream"
    }
   ],
   "source": [
    "# Adding the output layer\n",
    "classifier.add(Dense(output_dim=1, init='uniform', activation='sigmoid'))"
   ]
  },
  {
   "cell_type": "markdown",
   "metadata": {
    "_cell_guid": "8f80ed07-4a4a-48a4-aa84-b53fc713c61b",
    "_uuid": "71c445f1e371d37d28f4ff405b45d5497ea8bdde"
   },
   "source": [
    "output_dim is 1 as we want only 1 output from the final layer.\n",
    "\n",
    "Sigmoid function is used when dealing with classfication problems with 2 types of results.(Submax function is used for 3 or more classification results)\n",
    "<img src=\"https://cdn-images-1.medium.com/max/1000/1*Xu7B5y9gp0iL5ooBj7LtWw.png\">"
   ]
  },
  {
   "cell_type": "code",
   "execution_count": 20,
   "metadata": {
    "_cell_guid": "9fc5ca11-edd6-4ddd-92b0-c5b6866abbec",
    "_uuid": "01ff691f323d264792730ae9d3af72a1e9106271",
    "pycharm": {
     "is_executing": false
    }
   },
   "outputs": [
    {
     "name": "stdout",
     "text": [
      "WARNING:tensorflow:From D:\\aconda3\\lib\\site-packages\\keras\\optimizers.py:790: The name tf.train.Optimizer is deprecated. Please use tf.compat.v1.train.Optimizer instead.\n\n",
      "WARNING:tensorflow:From D:\\aconda3\\lib\\site-packages\\keras\\backend\\tensorflow_backend.py:3376: The name tf.log is deprecated. Please use tf.math.log instead.\n\n",
      "WARNING:tensorflow:From D:\\aconda3\\lib\\site-packages\\tensorflow\\python\\ops\\nn_impl.py:180: add_dispatch_support.<locals>.wrapper (from tensorflow.python.ops.array_ops) is deprecated and will be removed in a future version.\nInstructions for updating:\nUse tf.where in 2.0, which has the same broadcast rule as np.where\n"
     ],
     "output_type": "stream"
    }
   ],
   "source": [
    "# Compiling the ANN\n",
    "from keras.optimizers import Adam\n",
    "adam = Adam(lr=0.01)\n",
    "classifier.compile(optimizer=adam, loss='binary_crossentropy', metrics=['accuracy'])"
   ]
  },
  {
   "cell_type": "markdown",
   "metadata": {
    "_cell_guid": "6375e2f2-5cf5-42e4-a199-338dbc34a07a",
    "_uuid": "d198bbf1616b2bcd99d138f24559d0eff2a07d01"
   },
   "source": [
    "Optimizer is chosen as adam for gradient descent.\n",
    "\n",
    "Binary_crossentropy is the loss function used. \n",
    "\n",
    "Cross-entropy loss, or log loss, measures the performance of a classification model whose output is a probability value between 0 and 1. Cross-entropy loss increases as the predicted probability diverges from the actual label. So predicting a probability of .012 when the actual observation label is 1 would be bad and result in a high loss value. A perfect model would have a log loss of 0. [More about this](http://ml-cheatsheet.readthedocs.io/en/latest/loss_functions.html)"
   ]
  },
  {
   "cell_type": "code",
   "execution_count": 26,
   "metadata": {
    "_cell_guid": "deb09534-714c-4fd2-bac5-d5dff9c474ef",
    "_uuid": "6e2d2d3f17102bc9c4e8f093c914c58412b28ee3",
    "scrolled": true,
    "pycharm": {
     "is_executing": false
    }
   },
   "outputs": [
    {
     "name": "stdout",
     "text": [
      "Epoch 1/150\n\r100/512 [====>.........................] - ETA: 0s - loss: 3.5531e-04 - acc: 1.0000",
      "\b\b\b\b\b\b\b\b\b\b\b\b\b\b\b\b\b\b\b\b\b\b\b\b\b\b\b\b\b\b\b\b\b\b\b\b\b\b\b\b\b\b\b\b\b\b\b\b\b\b\b\b\b\b\b\b\b\b\b\b\b\b\b\b\b\b\b\b\b\b\b\b\b\b\b\b\b\b\b\b\b\b\b\r512/512 [==============================] - 0s 44us/step - loss: 0.0042 - acc: 0.9980\n",
      "Epoch 2/150\n\r100/512 [====>.........................] - ETA: 0s - loss: 0.0022 - acc: 1.0000",
      "\b\b\b\b\b\b\b\b\b\b\b\b\b\b\b\b\b\b\b\b\b\b\b\b\b\b\b\b\b\b\b\b\b\b\b\b\b\b\b\b\b\b\b\b\b\b\b\b\b\b\b\b\b\b\b\b\b\b\b\b\b\b\b\b\b\b\b\b\b\b\b\b\b\b\b\b\b\b\b\r512/512 [==============================] - 0s 47us/step - loss: 0.0011 - acc: 1.0000\n",
      "Epoch 3/150\n\r100/512 [====>.........................] - ETA: 0s - loss: 0.0011 - acc: 1.0000",
      "\b\b\b\b\b\b\b\b\b\b\b\b\b\b\b\b\b\b\b\b\b\b\b\b\b\b\b\b\b\b\b\b\b\b\b\b\b\b\b\b\b\b\b\b\b\b\b\b\b\b\b\b\b\b\b\b\b\b\b\b\b\b\b\b\b\b\b\b\b\b\b\b\b\b\b\b\b\b\b\r512/512 [==============================] - 0s 33us/step - loss: 9.6211e-04 - acc: 1.0000\n",
      "Epoch 4/150\n\r100/512 [====>.........................] - ETA: 0s - loss: 9.0041e-04 - acc: 1.0000",
      "\b\b\b\b\b\b\b\b\b\b\b\b\b\b\b\b\b\b\b\b\b\b\b\b\b\b\b\b\b\b\b\b\b\b\b\b\b\b\b\b\b\b\b\b\b\b\b\b\b\b\b\b\b\b\b\b\b\b\b\b\b\b\b\b\b\b\b\b\b\b\b\b\b\b\b\b\b\b\b\b\b\b\b\r512/512 [==============================] - 0s 33us/step - loss: 6.1320e-04 - acc: 1.0000\n",
      "Epoch 5/150\n\r100/512 [====>.........................] - ETA: 0s - loss: 1.4573e-04 - acc: 1.0000",
      "\b\b\b\b\b\b\b\b\b\b\b\b\b\b\b\b\b\b\b\b\b\b\b\b\b\b\b\b\b\b\b\b\b\b\b\b\b\b\b\b\b\b\b\b\b\b\b\b\b\b\b\b\b\b\b\b\b\b\b\b\b\b\b\b\b\b\b\b\b\b\b\b\b\b\b\b\b\b\b\b\b\b\b\r512/512 [==============================] - 0s 35us/step - loss: 0.0010 - acc: 1.0000\n",
      "Epoch 6/150\n\r100/512 [====>.........................] - ETA: 0s - loss: 0.0017 - acc: 1.0000",
      "\b\b\b\b\b\b\b\b\b\b\b\b\b\b\b\b\b\b\b\b\b\b\b\b\b\b\b\b\b\b\b\b\b\b\b\b\b\b\b\b\b\b\b\b\b\b\b\b\b\b\b\b\b\b\b\b\b\b\b\b\b\b\b\b\b\b\b\b\b\b\b\b\b\b\b\b\b\b\b\r512/512 [==============================] - 0s 33us/step - loss: 0.0139 - acc: 0.9980\n",
      "Epoch 7/150\n\r100/512 [====>.........................] - ETA: 0s - loss: 8.1989e-04 - acc: 1.0000",
      "\b\b\b\b\b\b\b\b\b\b\b\b\b\b\b\b\b\b\b\b\b\b\b\b\b\b\b\b\b\b\b\b\b\b\b\b\b\b\b\b\b\b\b\b\b\b\b\b\b\b\b\b\b\b\b\b\b\b\b\b\b\b\b\b\b\b\b\b\b\b\b\b\b\b\b\b\b\b\b\b\b\b\b\r512/512 [==============================] - 0s 49us/step - loss: 4.8577e-04 - acc: 1.0000\n",
      "Epoch 8/150\n\r100/512 [====>.........................] - ETA: 0s - loss: 1.7064e-04 - acc: 1.0000",
      "\b\b\b\b\b\b\b\b\b\b\b\b\b\b\b\b\b\b\b\b\b\b\b\b\b\b\b\b\b\b\b\b\b\b\b\b\b\b\b\b\b\b\b\b\b\b\b\b\b\b\b\b\b\b\b\b\b\b\b\b\b\b\b\b\b\b\b\b\b\b\b\b\b\b\b\b\b\b\b\b\b\b\b\r512/512 [==============================] - 0s 43us/step - loss: 5.6439e-04 - acc: 1.0000\n",
      "Epoch 9/150\n",
      "\r100/512 [====>.........................] - ETA: 0s - loss: 0.0011 - acc: 1.0000",
      "\b\b\b\b\b\b\b\b\b\b\b\b\b\b\b\b\b\b\b\b\b\b\b\b\b\b\b\b\b\b\b\b\b\b\b\b\b\b\b\b\b\b\b\b\b\b\b\b\b\b\b\b\b\b\b\b\b\b\b\b\b\b\b\b\b\b\b\b\b\b\b\b\b\b\b\b\b\b\b",
      "\r512/512 [==============================] - 0s 45us/step - loss: 0.0017 - acc: 1.0000\n",
      "Epoch 10/150\n\r100/512 [====>.........................] - ETA: 0s - loss: 1.6602e-04 - acc: 1.0000",
      "\b\b\b\b\b\b\b\b\b\b\b\b\b\b\b\b\b\b\b\b\b\b\b\b\b\b\b\b\b\b\b\b\b\b\b\b\b\b\b\b\b\b\b\b\b\b\b\b\b\b\b\b\b\b\b\b\b\b\b\b\b\b\b\b\b\b\b\b\b\b\b\b\b\b\b\b\b\b\b\b\b\b\b",
      "\r512/512 [==============================] - 0s 43us/step - loss: 8.9387e-04 - acc: 1.0000\n",
      "Epoch 11/150\n\r100/512 [====>.........................] - ETA: 0s - loss: 2.1141e-04 - acc: 1.0000",
      "\b\b\b\b\b\b\b\b\b\b\b\b\b\b\b\b\b\b\b\b\b\b\b\b\b\b\b\b\b\b\b\b\b\b\b\b\b\b\b\b\b\b\b\b\b\b\b\b\b\b\b\b\b\b\b\b\b\b\b\b\b\b\b\b\b\b\b\b\b\b\b\b\b\b\b\b\b\b\b\b\b\b\b",
      "\r512/512 [==============================] - 0s 36us/step - loss: 8.5543e-04 - acc: 1.0000\n",
      "Epoch 12/150\n\r100/512 [====>.........................] - ETA: 0s - loss: 0.0011 - acc: 1.0000",
      "\b\b\b\b\b\b\b\b\b\b\b\b\b\b\b\b\b\b\b\b\b\b\b\b\b\b\b\b\b\b\b\b\b\b\b\b\b\b\b\b\b\b\b\b\b\b\b\b\b\b\b\b\b\b\b\b\b\b\b\b\b\b\b\b\b\b\b\b\b\b\b\b\b\b\b\b\b\b\b",
      "\r512/512 [==============================] - 0s 37us/step - loss: 4.6207e-04 - acc: 1.0000\n",
      "Epoch 13/150\n",
      "\r100/512 [====>.........................] - ETA: 0s - loss: 2.9852e-05 - acc: 1.0000",
      "\b\b\b\b\b\b\b\b\b\b\b\b\b\b\b\b\b\b\b\b\b\b\b\b\b\b\b\b\b\b\b\b\b\b\b\b\b\b\b\b\b\b\b\b\b\b\b\b\b\b\b\b\b\b\b\b\b\b\b\b\b\b\b\b\b\b\b\b\b\b\b\b\b\b\b\b\b\b\b\b\b\b\b",
      "\r512/512 [==============================] - 0s 43us/step - loss: 0.0013 - acc: 1.0000\n",
      "Epoch 14/150\n\r100/512 [====>.........................] - ETA: 0s - loss: 3.0207e-04 - acc: 1.0000",
      "\b\b\b\b\b\b\b\b\b\b\b\b\b\b\b\b\b\b\b\b\b\b\b\b\b\b\b\b\b\b\b\b\b\b\b\b\b\b\b\b\b\b\b\b\b\b\b\b\b\b\b\b\b\b\b\b\b\b\b\b\b\b\b\b\b\b\b\b\b\b\b\b\b\b\b\b\b\b\b\b\b\b\b",
      "\r512/512 [==============================] - 0s 37us/step - loss: 0.0015 - acc: 1.0000\n",
      "Epoch 15/150\n\r100/512 [====>.........................] - ETA: 0s - loss: 2.7532e-04 - acc: 1.0000",
      "\b\b\b\b\b\b\b\b\b\b\b\b\b\b\b\b\b\b\b\b\b\b\b\b\b\b\b\b\b\b\b\b\b\b\b\b\b\b\b\b\b\b\b\b\b\b\b\b\b\b\b\b\b\b\b\b\b\b\b\b\b\b\b\b\b\b\b\b\b\b\b\b\b\b\b\b\b\b\b\b\b\b\b\r512/512 [==============================] - 0s 29us/step - loss: 5.3462e-04 - acc: 1.0000\n",
      "Epoch 16/150\n",
      "\r100/512 [====>.........................] - ETA: 0s - loss: 2.7657e-04 - acc: 1.0000",
      "\b\b\b\b\b\b\b\b\b\b\b\b\b\b\b\b\b\b\b\b\b\b\b\b\b\b\b\b\b\b\b\b\b\b\b\b\b\b\b\b\b\b\b\b\b\b\b\b\b\b\b\b\b\b\b\b\b\b\b\b\b\b\b\b\b\b\b\b\b\b\b\b\b\b\b\b\b\b\b\b\b\b\b\r512/512 [==============================] - 0s 31us/step - loss: 3.7150e-04 - acc: 1.0000\n",
      "Epoch 17/150\n",
      "\r100/512 [====>.........................] - ETA: 0s - loss: 2.9439e-04 - acc: 1.0000",
      "\b\b\b\b\b\b\b\b\b\b\b\b\b\b\b\b\b\b\b\b\b\b\b\b\b\b\b\b\b\b\b\b\b\b\b\b\b\b\b\b\b\b\b\b\b\b\b\b\b\b\b\b\b\b\b\b\b\b\b\b\b\b\b\b\b\b\b\b\b\b\b\b\b\b\b\b\b\b\b\b\b\b\b",
      "\r512/512 [==============================] - 0s 33us/step - loss: 4.4186e-04 - acc: 1.0000\n",
      "Epoch 18/150\n\r100/512 [====>.........................] - ETA: 0s - loss: 2.8368e-05 - acc: 1.0000",
      "\b\b\b\b\b\b\b\b\b\b\b\b\b\b\b\b\b\b\b\b\b\b\b\b\b\b\b\b\b\b\b\b\b\b\b\b\b\b\b\b\b\b\b\b\b\b\b\b\b\b\b\b\b\b\b\b\b\b\b\b\b\b\b\b\b\b\b\b\b\b\b\b\b\b\b\b\b\b\b\b\b\b\b",
      "\r512/512 [==============================] - 0s 49us/step - loss: 0.0032 - acc: 0.9980\n",
      "Epoch 19/150\n\r100/512 [====>.........................] - ETA: 0s - loss: 0.0011 - acc: 1.0000",
      "\b\b\b\b\b\b\b\b\b\b\b\b\b\b\b\b\b\b\b\b\b\b\b\b\b\b\b\b\b\b\b\b\b\b\b\b\b\b\b\b\b\b\b\b\b\b\b\b\b\b\b\b\b\b\b\b\b\b\b\b\b\b\b\b\b\b\b\b\b\b\b\b\b\b\b\b\b\b\b",
      "\r512/512 [==============================] - 0s 49us/step - loss: 3.4638e-04 - acc: 1.0000\n",
      "Epoch 20/150\n\r100/512 [====>.........................] - ETA: 0s - loss: 5.7041e-04 - acc: 1.0000",
      "\b\b\b\b\b\b\b\b\b\b\b\b\b\b\b\b\b\b\b\b\b\b\b\b\b\b\b\b\b\b\b\b\b\b\b\b\b\b\b\b\b\b\b\b\b\b\b\b\b\b\b\b\b\b\b\b\b\b\b\b\b\b\b\b\b\b\b\b\b\b\b\b\b\b\b\b\b\b\b\b\b\b\b",
      "\r512/512 [==============================] - 0s 35us/step - loss: 3.4411e-04 - acc: 1.0000\n",
      "Epoch 21/150\n\r100/512 [====>.........................] - ETA: 0s - loss: 8.5354e-04 - acc: 1.0000",
      "\b\b\b\b\b\b\b\b\b\b\b\b\b\b\b\b\b\b\b\b\b\b\b\b\b\b\b\b\b\b\b\b\b\b\b\b\b\b\b\b\b\b\b\b\b\b\b\b\b\b\b\b\b\b\b\b\b\b\b\b\b\b\b\b\b\b\b\b\b\b\b\b\b\b\b\b\b\b\b\b\b\b\b",
      "\r512/512 [==============================] - 0s 35us/step - loss: 5.1911e-04 - acc: 1.0000\n",
      "Epoch 22/150\n\r100/512 [====>.........................] - ETA: 0s - loss: 5.1481e-04 - acc: 1.0000",
      "\b\b\b\b\b\b\b\b\b\b\b\b\b\b\b\b\b\b\b\b\b\b\b\b\b\b\b\b\b\b\b\b\b\b\b\b\b\b\b\b\b\b\b\b\b\b\b\b\b\b\b\b\b\b\b\b\b\b\b\b\b\b\b\b\b\b\b\b\b\b\b\b\b\b\b\b\b\b\b\b\b\b\b",
      "\r512/512 [==============================] - 0s 39us/step - loss: 0.0019 - acc: 1.0000\n",
      "Epoch 23/150\n",
      "\r100/512 [====>.........................] - ETA: 0s - loss: 2.7241e-04 - acc: 1.0000",
      "\b\b\b\b\b\b\b\b\b\b\b\b\b\b\b\b\b\b\b\b\b\b\b\b\b\b\b\b\b\b\b\b\b\b\b\b\b\b\b\b\b\b\b\b\b\b\b\b\b\b\b\b\b\b\b\b\b\b\b\b\b\b\b\b\b\b\b\b\b\b\b\b\b\b\b\b\b\b\b\b\b\b\b",
      "\r512/512 [==============================] - 0s 46us/step - loss: 3.7243e-04 - acc: 1.0000\n",
      "Epoch 24/150\n\r100/512 [====>.........................] - ETA: 0s - loss: 1.1226e-04 - acc: 1.0000",
      "\b\b\b\b\b\b\b\b\b\b\b\b\b\b\b\b\b\b\b\b\b\b\b\b\b\b\b\b\b\b\b\b\b\b\b\b\b\b\b\b\b\b\b\b\b\b\b\b\b\b\b\b\b\b\b\b\b\b\b\b\b\b\b\b\b\b\b\b\b\b\b\b\b\b\b\b\b\b\b\b\b\b\b",
      "\r512/512 [==============================] - 0s 31us/step - loss: 5.4293e-04 - acc: 1.0000\n",
      "Epoch 25/150\n",
      "\r100/512 [====>.........................] - ETA: 0s - loss: 3.2371e-05 - acc: 1.0000",
      "\b\b\b\b\b\b\b\b\b\b\b\b\b\b\b\b\b\b\b\b\b\b\b\b\b\b\b\b\b\b\b\b\b\b\b\b\b\b\b\b\b\b\b\b\b\b\b\b\b\b\b\b\b\b\b\b\b\b\b\b\b\b\b\b\b\b\b\b\b\b\b\b\b\b\b\b\b\b\b\b\b\b\b",
      "\r512/512 [==============================] - 0s 41us/step - loss: 2.5298e-04 - acc: 1.0000\n",
      "Epoch 26/150\n\r100/512 [====>.........................] - ETA: 0s - loss: 2.9530e-04 - acc: 1.0000",
      "\b\b\b\b\b\b\b\b\b\b\b\b\b\b\b\b\b\b\b\b\b\b\b\b\b\b\b\b\b\b\b\b\b\b\b\b\b\b\b\b\b\b\b\b\b\b\b\b\b\b\b\b\b\b\b\b\b\b\b\b\b\b\b\b\b\b\b\b\b\b\b\b\b\b\b\b\b\b\b\b\b\b\b",
      "\r512/512 [==============================] - 0s 33us/step - loss: 6.9738e-04 - acc: 1.0000\n",
      "Epoch 27/150\n\r100/512 [====>.........................] - ETA: 0s - loss: 1.6184e-04 - acc: 1.0000",
      "\b\b\b\b\b\b\b\b\b\b\b\b\b\b\b\b\b\b\b\b\b\b\b\b\b\b\b\b\b\b\b\b\b\b\b\b\b\b\b\b\b\b\b\b\b\b\b\b\b\b\b\b\b\b\b\b\b\b\b\b\b\b\b\b\b\b\b\b\b\b\b\b\b\b\b\b\b\b\b\b\b\b\b\r512/512 [==============================] - 0s 30us/step - loss: 2.6963e-04 - acc: 1.0000\n",
      "Epoch 28/150\n\r100/512 [====>.........................] - ETA: 0s - loss: 2.0412e-04 - acc: 1.0000",
      "\b\b\b\b\b\b\b\b\b\b\b\b\b\b\b\b\b\b\b\b\b\b\b\b\b\b\b\b\b\b\b\b\b\b\b\b\b\b\b\b\b\b\b\b\b\b\b\b\b\b\b\b\b\b\b\b\b\b\b\b\b\b\b\b\b\b\b\b\b\b\b\b\b\b\b\b\b\b\b\b\b\b\b",
      "\r512/512 [==============================] - 0s 37us/step - loss: 2.3168e-04 - acc: 1.0000\n",
      "Epoch 29/150\n\r100/512 [====>.........................] - ETA: 0s - loss: 2.2341e-05 - acc: 1.0000",
      "\b\b\b\b\b\b\b\b\b\b\b\b\b\b\b\b\b\b\b\b\b\b\b\b\b\b\b\b\b\b\b\b\b\b\b\b\b\b\b\b\b\b\b\b\b\b\b\b\b\b\b\b\b\b\b\b\b\b\b\b\b\b\b\b\b\b\b\b\b\b\b\b\b\b\b\b\b\b\b\b\b\b\b\r512/512 [==============================] - 0s 31us/step - loss: 0.0015 - acc: 1.0000\n",
      "Epoch 30/150",
      "\n\r100/512 [====>.........................] - ETA: 0s - loss: 1.1521e-04 - acc: 1.0000",
      "\b\b\b\b\b\b\b\b\b\b\b\b\b\b\b\b\b\b\b\b\b\b\b\b\b\b\b\b\b\b\b\b\b\b\b\b\b\b\b\b\b\b\b\b\b\b\b\b\b\b\b\b\b\b\b\b\b\b\b\b\b\b\b\b\b\b\b\b\b\b\b\b\b\b\b\b\b\b\b\b\b\b\b",
      "\r512/512 [==============================] - 0s 43us/step - loss: 9.8324e-04 - acc: 1.0000\n",
      "Epoch 31/150\n\r100/512 [====>.........................] - ETA: 0s - loss: 2.5598e-04 - acc: 1.0000",
      "\b\b\b\b\b\b\b\b\b\b\b\b\b\b\b\b\b\b\b\b\b\b\b\b\b\b\b\b\b\b\b\b\b\b\b\b\b\b\b\b\b\b\b\b\b\b\b\b\b\b\b\b\b\b\b\b\b\b\b\b\b\b\b\b\b\b\b\b\b\b\b\b\b\b\b\b\b\b\b\b\b\b\b",
      "\r512/512 [==============================] - 0s 31us/step - loss: 2.5780e-04 - acc: 1.0000\n",
      "Epoch 32/150\n\r100/512 [====>.........................] - ETA: 0s - loss: 5.0721e-05 - acc: 1.0000",
      "\b\b\b\b\b\b\b\b\b\b\b\b\b\b\b\b\b\b\b\b\b\b\b\b\b\b\b\b\b\b\b\b\b\b\b\b\b\b\b\b\b\b\b\b\b\b\b\b\b\b\b\b\b\b\b\b\b\b\b\b\b\b\b\b\b\b\b\b\b\b\b\b\b\b\b\b\b\b\b\b\b\b\b",
      "\r512/512 [==============================] - 0s 37us/step - loss: 3.2321e-04 - acc: 1.0000\n",
      "Epoch 33/150\n\r100/512 [====>.........................] - ETA: 0s - loss: 9.7834e-04 - acc: 1.0000",
      "\b\b\b\b\b\b\b\b\b\b\b\b\b\b\b\b\b\b\b\b\b\b\b\b\b\b\b\b\b\b\b\b\b\b\b\b\b\b\b\b\b\b\b\b\b\b\b\b\b\b\b\b\b\b\b\b\b\b\b\b\b\b\b\b\b\b\b\b\b\b\b\b\b\b\b\b\b\b\b\b\b\b\b",
      "\r512/512 [==============================] - 0s 35us/step - loss: 6.1188e-04 - acc: 1.0000\n",
      "Epoch 34/150\n\r100/512 [====>.........................] - ETA: 0s - loss: 4.1759e-05 - acc: 1.0000",
      "\b\b\b\b\b\b\b\b\b\b\b\b\b\b\b\b\b\b\b\b\b\b\b\b\b\b\b\b\b\b\b\b\b\b\b\b\b\b\b\b\b\b\b\b\b\b\b\b\b\b\b\b\b\b\b\b\b\b\b\b\b\b\b\b\b\b\b\b\b\b\b\b\b\b\b\b\b\b\b\b\b\b\b",
      "\r512/512 [==============================] - 0s 43us/step - loss: 4.4559e-04 - acc: 1.0000\n",
      "Epoch 35/150\n",
      "\r100/512 [====>.........................] - ETA: 0s - loss: 5.1758e-06 - acc: 1.0000",
      "\b\b\b\b\b\b\b\b\b\b\b\b\b\b\b\b\b\b\b\b\b\b\b\b\b\b\b\b\b\b\b\b\b\b\b\b\b\b\b\b\b\b\b\b\b\b\b\b\b\b\b\b\b\b\b\b\b\b\b\b\b\b\b\b\b\b\b\b\b\b\b\b\b\b\b\b\b\b\b\b\b\b\b",
      "\r512/512 [==============================] - 0s 31us/step - loss: 1.1013e-04 - acc: 1.0000\n",
      "Epoch 36/150\n\r100/512 [====>.........................] - ETA: 0s - loss: 2.0994e-04 - acc: 1.0000",
      "\b\b\b\b\b\b\b\b\b\b\b\b\b\b\b\b\b\b\b\b\b\b\b\b\b\b\b\b\b\b\b\b\b\b\b\b\b\b\b\b\b\b\b\b\b\b\b\b\b\b\b\b\b\b\b\b\b\b\b\b\b\b\b\b\b\b\b\b\b\b\b\b\b\b\b\b\b\b\b\b\b\b\b",
      "\r512/512 [==============================] - 0s 29us/step - loss: 0.0029 - acc: 0.9980\n",
      "Epoch 37/150\n\r100/512 [====>.........................] - ETA: 0s - loss: 0.0023 - acc: 1.0000",
      "\b\b\b\b\b\b\b\b\b\b\b\b\b\b\b\b\b\b\b\b\b\b\b\b\b\b\b\b\b\b\b\b\b\b\b\b\b\b\b\b\b\b\b\b\b\b\b\b\b\b\b\b\b\b\b\b\b\b\b\b\b\b\b\b\b\b\b\b\b\b\b\b\b\b\b\b\b\b\b",
      "\r512/512 [==============================] - 0s 29us/step - loss: 5.6930e-04 - acc: 1.0000\n",
      "Epoch 38/150\n\r100/512 [====>.........................] - ETA: 0s - loss: 0.0116 - acc: 0.9900",
      "\b\b\b\b\b\b\b\b\b\b\b\b\b\b\b\b\b\b\b\b\b\b\b\b\b\b\b\b\b\b\b\b\b\b\b\b\b\b\b\b\b\b\b\b\b\b\b\b\b\b\b\b\b\b\b\b\b\b\b\b\b\b\b\b\b\b\b\b\b\b\b\b\b\b\b\b\b\b\b",
      "\r512/512 [==============================] - 0s 28us/step - loss: 0.0058 - acc: 0.9961\n",
      "Epoch 39/150\n\r100/512 [====>.........................] - ETA: 0s - loss: 5.4213e-05 - acc: 1.0000",
      "\b\b\b\b\b\b\b\b\b\b\b\b\b\b\b\b\b\b\b\b\b\b\b\b\b\b\b\b\b\b\b\b\b\b\b\b\b\b\b\b\b\b\b\b\b\b\b\b\b\b\b\b\b\b\b\b\b\b\b\b\b\b\b\b\b\b\b\b\b\b\b\b\b\b\b\b\b\b\b\b\b\b\b",
      "\r512/512 [==============================] - 0s 41us/step - loss: 2.0985e-04 - acc: 1.0000\n",
      "Epoch 40/150\n\r100/512 [====>.........................]",
      " - ETA: 0s - loss: 4.9689e-05 - acc: 1.0000",
      "\b\b\b\b\b\b\b\b\b\b\b\b\b\b\b\b\b\b\b\b\b\b\b\b\b\b\b\b\b\b\b\b\b\b\b\b\b\b\b\b\b\b\b\b\b\b\b\b\b\b\b\b\b\b\b\b\b\b\b\b\b\b\b\b\b\b\b\b\b\b\b\b\b\b\b\b\b\b\b\b\b\b\b\r512/512 [==============================] - 0s 31us/step - loss: 4.5328e-04 - acc: 1.0000\n",
      "Epoch 41/150\n\r100/512 [====>.........................] - ETA: 0s - loss: 1.9635e-04 - acc: 1.0000",
      "\b\b\b\b\b\b\b\b\b\b\b\b\b\b\b\b\b\b\b\b\b\b\b\b\b\b\b\b\b\b\b\b\b\b\b\b\b\b\b\b\b\b\b\b\b\b\b\b\b\b\b\b\b\b\b\b\b\b\b\b\b\b\b\b\b\b\b\b\b\b\b\b\b\b\b\b\b\b\b\b\b\b\b\r512/512 [==============================] - 0s 31us/step - loss: 0.0026 - acc: 0.9980\n",
      "Epoch 42/150\n\r100/512 [====>.........................] - ETA: 0s - loss: 0.0014 - acc: 1.0000",
      "\b\b\b\b\b\b\b\b\b\b\b\b\b\b\b\b\b\b\b\b\b\b\b\b\b\b\b\b\b\b\b\b\b\b\b\b\b\b\b\b\b\b\b\b\b\b\b\b\b\b\b\b\b\b\b\b\b\b\b\b\b\b\b\b\b\b\b\b\b\b\b\b\b\b\b\b\b\b\b",
      "\r512/512 [==============================] - 0s 29us/step - loss: 4.7772e-04 - acc: 1.0000\n",
      "Epoch 43/150\n\r100/512 [====>.........................] - ETA: 0s - loss: 8.9880e-05 - acc: 1.0000",
      "\b\b\b\b\b\b\b\b\b\b\b\b\b\b\b\b\b\b\b\b\b\b\b\b\b\b\b\b\b\b\b\b\b\b\b\b\b\b\b\b\b\b\b\b\b\b\b\b\b\b\b\b\b\b\b\b\b\b\b\b\b\b\b\b\b\b\b\b\b\b\b\b\b\b\b\b\b\b\b\b\b\b\b",
      "\r512/512 [==============================] - 0s 31us/step - loss: 1.6184e-04 - acc: 1.0000\n",
      "Epoch 44/150\n\r100/512 [====>.........................] - ETA: 0s - loss: 8.3744e-04 - acc: 1.0000",
      "\b\b\b\b\b\b\b\b\b\b\b\b\b\b\b\b\b\b\b\b\b\b\b\b\b\b\b\b\b\b\b\b\b\b\b\b\b\b\b\b\b\b\b\b\b\b\b\b\b\b\b\b\b\b\b\b\b\b\b\b\b\b\b\b\b\b\b\b\b\b\b\b\b\b\b\b\b\b\b\b\b\b\b",
      "\r512/512 [==============================] - 0s 31us/step - loss: 0.0120 - acc: 0.9980\n",
      "Epoch 45/150\n",
      "\r100/512 [====>.........................] - ETA: 0s - loss: 8.3369e-04 - acc: 1.0000",
      "\b\b\b\b\b\b\b\b\b\b\b\b\b\b\b\b\b\b\b\b\b\b\b\b\b\b\b\b\b\b\b\b\b\b\b\b\b\b\b\b\b\b\b\b\b\b\b\b\b\b\b\b\b\b\b\b\b\b\b\b\b\b\b\b\b\b\b\b\b\b\b\b\b\b\b\b\b\b\b\b\b\b\b",
      "\r512/512 [==============================] - 0s 64us/step - loss: 7.8368e-04 - acc: 1.0000\n",
      "Epoch 46/150\n",
      "\r100/512 [====>.........................] - ETA: 0s - loss: 4.2511e-04 - acc: 1.0000",
      "\b\b\b\b\b\b\b\b\b\b\b\b\b\b\b\b\b\b\b\b\b\b\b\b\b\b\b\b\b\b\b\b\b\b\b\b\b\b\b\b\b\b\b\b\b\b\b\b\b\b\b\b\b\b\b\b\b\b\b\b\b\b\b\b\b\b\b\b\b\b\b\b\b\b\b\b\b\b\b\b\b\b\b",
      "\r512/512 [==============================] - 0s 40us/step - loss: 2.0361e-04 - acc: 1.0000\n",
      "Epoch 47/150\n\r100/512 [====>.........................] - ETA: 0s - loss: 6.6851e-04 - acc: 1.0000",
      "\b\b\b\b\b\b\b\b\b\b\b\b\b\b\b\b\b\b\b\b\b\b\b\b\b\b\b\b\b\b\b\b\b\b\b\b\b\b\b\b\b\b\b\b\b\b\b\b\b\b\b\b\b\b\b\b\b\b\b\b\b\b\b\b\b\b\b\b\b\b\b\b\b\b\b\b\b\b\b\b\b\b\b\r512/512 [==============================] - 0s 37us/step - loss: 0.0012 - acc: 1.0000\n",
      "Epoch 48/150\n",
      "\r100/512 [====>.........................] - ETA: 0s - loss: 0.0015 - acc: 1.0000",
      "\b\b\b\b\b\b\b\b\b\b\b\b\b\b\b\b\b\b\b\b\b\b\b\b\b\b\b\b\b\b\b\b\b\b\b\b\b\b\b\b\b\b\b\b\b\b\b\b\b\b\b\b\b\b\b\b\b\b\b\b\b\b\b\b\b\b\b\b\b\b\b\b\b\b\b\b\b\b\b\r512/512 [==============================] - 0s 32us/step - loss: 4.8632e-04 - acc: 1.0000\n",
      "Epoch 49/150\n\r100/512 [====>.........................] - ETA: 0s - loss: 2.5761e-04 - acc: 1.0000",
      "\b\b\b\b\b\b\b\b\b\b\b\b\b\b\b\b\b\b\b\b\b\b\b\b\b\b\b\b\b\b\b\b\b\b\b\b\b\b\b\b\b\b\b\b\b\b\b\b\b\b\b\b\b\b\b\b\b\b\b\b\b\b\b\b\b\b\b\b\b\b\b\b\b\b\b\b\b\b\b\b\b\b\b",
      "\r512/512 [==============================] - 0s 39us/step - loss: 4.9639e-04 - acc: 1.0000\n",
      "Epoch 50/150\n\r100/512 [====>.........................] - ETA: 0s - loss: 9.8879e-05 - acc: 1.0000",
      "\b\b\b\b\b\b\b\b\b\b\b\b\b\b\b\b\b\b\b\b\b\b\b\b\b\b\b\b\b\b\b\b\b\b\b\b\b\b\b\b\b\b\b\b\b\b\b\b\b\b\b\b\b\b\b\b\b\b\b\b\b\b\b\b\b\b\b\b\b\b\b\b\b\b\b\b\b\b\b\b\b\b\b",
      "\r512/512 [==============================] - 0s 37us/step - loss: 1.8628e-04 - acc: 1.0000\n",
      "Epoch 51/150\n",
      "\r100/512 [====>.........................] - ETA: 0s - loss: 3.1262e-05 - acc: 1.0000",
      "\b\b\b\b\b\b\b\b\b\b\b\b\b\b\b\b\b\b\b\b\b\b\b\b\b\b\b\b\b\b\b\b\b\b\b\b\b\b\b\b\b\b\b\b\b\b\b\b\b\b\b\b\b\b\b\b\b\b\b\b\b\b\b\b\b\b\b\b\b\b\b\b\b\b\b\b\b\b\b\b\b\b\b",
      "\r512/512 [==============================] - 0s 55us/step - loss: 2.1795e-04 - acc: 1.0000\n",
      "Epoch 52/150\n",
      "\r100/512 [====>.........................] - ETA: 0s - loss: 1.0584e-04 - acc: 1.0000",
      "\b\b\b\b\b\b\b\b\b\b\b\b\b\b\b\b\b\b\b\b\b\b\b\b\b\b\b\b\b\b\b\b\b\b\b\b\b\b\b\b\b\b\b\b\b\b\b\b\b\b\b\b\b\b\b\b\b\b\b\b\b\b\b\b\b\b\b\b\b\b\b\b\b\b\b\b\b\b\b\b\b\b\b",
      "\r512/512 [==============================] - 0s 60us/step - loss: 4.1172e-04 - acc: 1.0000\n",
      "Epoch 53/150",
      "\n\r100/512 [====>.........................] - ETA: 0s - loss: 1.0766e-04 - acc: 1.0000",
      "\b\b\b\b\b\b\b\b\b\b\b\b\b\b\b\b\b\b\b\b\b\b\b\b\b\b\b\b\b\b\b\b\b\b\b\b\b\b\b\b\b\b\b\b\b\b\b\b\b\b\b\b\b\b\b\b\b\b\b\b\b\b\b\b\b\b\b\b\b\b\b\b\b\b\b\b\b\b\b\b\b\b\b",
      "\r512/512 [==============================] - 0s 45us/step - loss: 0.0021 - acc: 0.9980\n",
      "Epoch 54/150\n\r100/512 [====>.........................] - ETA: 0s - loss: 2.8365e-04 - acc: 1.0000",
      "\b\b\b\b\b\b\b\b\b\b\b\b\b\b\b\b\b\b\b\b\b\b\b\b\b\b\b\b\b\b\b\b\b\b\b\b\b\b\b\b\b\b\b\b\b\b\b\b\b\b\b\b\b\b\b\b\b\b\b\b\b\b\b\b\b\b\b\b\b\b\b\b\b\b\b\b\b\b\b\b\b\b\b",
      "\r512/512 [==============================] - 0s 41us/step - loss: 4.2130e-04 - acc: 1.0000\n",
      "Epoch 55/150\n\r100/512 [====>.........................] - ETA: 0s - loss: 4.2606e-05 - acc: 1.0000",
      "\b\b\b\b\b\b\b\b\b\b\b\b\b\b\b\b\b\b\b\b\b\b\b\b\b\b\b\b\b\b\b\b\b\b\b\b\b\b\b\b\b\b\b\b\b\b\b\b\b\b\b\b\b\b\b\b\b\b\b\b\b\b\b\b\b\b\b\b\b\b\b\b\b\b\b\b\b\b\b\b\b\b\b",
      "\r512/512 [==============================] - 0s 47us/step - loss: 7.6795e-04 - acc: 1.0000\n",
      "Epoch 56/150\n",
      "\r100/512 [====>.........................] - ETA: 0s - loss: 0.0021 - acc: 1.0000",
      "\b\b\b\b\b\b\b\b\b\b\b\b\b\b\b\b\b\b\b\b\b\b\b\b\b\b\b\b\b\b\b\b\b\b\b\b\b\b\b\b\b\b\b\b\b\b\b\b\b\b\b\b\b\b\b\b\b\b\b\b\b\b\b\b\b\b\b\b\b\b\b\b\b\b\b\b\b\b\b",
      "\r512/512 [==============================] - 0s 46us/step - loss: 0.0016 - acc: 1.0000\n",
      "Epoch 57/150\n\r100/512 [====>.........................] - ETA: 0s - loss: 5.3999e-04 - acc: 1.0000",
      "\b\b\b\b\b\b\b\b\b\b\b\b\b\b\b\b\b\b\b\b\b\b\b\b\b\b\b\b\b\b\b\b\b\b\b\b\b\b\b\b\b\b\b\b\b\b\b\b\b\b\b\b\b\b\b\b\b\b\b\b\b\b\b\b\b\b\b\b\b\b\b\b\b\b\b\b\b\b\b\b\b\b\b",
      "\r512/512 [==============================] - 0s 45us/step - loss: 5.1960e-04 - acc: 1.0000\n",
      "Epoch 58/150\n\r100/512 [====>.........................] - ETA: 0s - loss: 5.9770e-05 - acc: 1.0000",
      "\b\b\b\b\b\b\b\b\b\b\b\b\b\b\b\b\b\b\b\b\b\b\b\b\b\b\b\b\b\b\b\b\b\b\b\b\b\b\b\b\b\b\b\b\b\b\b\b\b\b\b\b\b\b\b\b\b\b\b\b\b\b\b\b\b\b\b\b\b\b\b\b\b\b\b\b\b\b\b\b\b\b\b",
      "\r512/512 [==============================] - 0s 45us/step - loss: 0.0025 - acc: 0.9980\n",
      "Epoch 59/150\n\r100/512 [====>.........................] - ETA: 0s - loss: 1.6928e-04 - acc: 1.0000",
      "\b\b\b\b\b\b\b\b\b\b\b\b\b\b\b\b\b\b\b\b\b\b\b\b\b\b\b\b\b\b\b\b\b\b\b\b\b\b\b\b\b\b\b\b\b\b\b\b\b\b\b\b\b\b\b\b\b\b\b\b\b\b\b\b\b\b\b\b\b\b\b\b\b\b\b\b\b\b\b\b\b\b\b",
      "\r512/512 [==============================] - 0s 35us/step - loss: 6.7065e-04 - acc: 1.0000\n",
      "Epoch 60/150\n\r100/512 [====>.........................] - ETA: 0s - loss: 0.0464 - acc: 0.9900",
      "\b\b\b\b\b\b\b\b\b\b\b\b\b\b\b\b\b\b\b\b\b\b\b\b\b\b\b\b\b\b\b\b\b\b\b\b\b\b\b\b\b\b\b\b\b\b\b\b\b\b\b\b\b\b\b\b\b\b\b\b\b\b\b\b\b\b\b\b\b\b\b\b\b\b\b\b\b\b\b",
      "\r512/512 [==============================] - 0s 33us/step - loss: 0.0124 - acc: 0.9961\n",
      "Epoch 61/150\n\r100/512 [====>.........................] - ETA: 0s - loss: 4.5194e-05 - acc: 1.0000",
      "\b\b\b\b\b\b\b\b\b\b\b\b\b\b\b\b\b\b\b\b\b\b\b\b\b\b\b\b\b\b\b\b\b\b\b\b\b\b\b\b\b\b\b\b\b\b\b\b\b\b\b\b\b\b\b\b\b\b\b\b\b\b\b\b\b\b\b\b\b\b\b\b\b\b\b\b\b\b\b\b\b\b\b\r512/512 [==============================] - 0s 39us/step - loss: 1.7368e-04 - acc: 1.0000\n",
      "Epoch 62/150\n\r100/512 [====>.........................] - ETA: 0s - loss: 2.8774e-05 - acc: 1.0000",
      "\b\b\b\b\b\b\b\b\b\b\b\b\b\b\b\b\b\b\b\b\b\b\b\b\b\b\b\b\b\b\b\b\b\b\b\b\b\b\b\b\b\b\b\b\b\b\b\b\b\b\b\b\b\b\b\b\b\b\b\b\b\b\b\b\b\b\b\b\b\b\b\b\b\b\b\b\b\b\b\b\b\b\b",
      "\r512/512 [==============================] - 0s 38us/step - loss: 0.0011 - acc: 1.0000\n",
      "Epoch 63/150\n\r100/512 [====>.........................] - ETA: 0s - loss: 1.1495e-04 - acc: 1.0000",
      "\b\b\b\b\b\b\b\b\b\b\b\b\b\b\b\b\b\b\b\b\b\b\b\b\b\b\b\b\b\b\b\b\b\b\b\b\b\b\b\b\b\b\b\b\b\b\b\b\b\b\b\b\b\b\b\b\b\b\b\b\b\b\b\b\b\b\b\b\b\b\b\b\b\b\b\b\b\b\b\b\b\b\b",
      "\r512/512 [==============================] - 0s 43us/step - loss: 0.0013 - acc: 1.0000\n",
      "Epoch 64/150\n",
      "\r100/512 [====>.........................] - ETA: 0s - loss: 6.1080e-04 - acc: 1.0000",
      "\b\b\b\b\b\b\b\b\b\b\b\b\b\b\b\b\b\b\b\b\b\b\b\b\b\b\b\b\b\b\b\b\b\b\b\b\b\b\b\b\b\b\b\b\b\b\b\b\b\b\b\b\b\b\b\b\b\b\b\b\b\b\b\b\b\b\b\b\b\b\b\b\b\b\b\b\b\b\b\b\b\b\b",
      "\r512/512 [==============================] - 0s 53us/step - loss: 0.0021 - acc: 0.9980\n",
      "Epoch 65/150\n\r100/512 [====>.........................] - ETA: 0s - loss: 0.0013 - acc: 1.0000",
      "\b\b\b\b\b\b\b\b\b\b\b\b\b\b\b\b\b\b\b\b\b\b\b\b\b\b\b\b\b\b\b\b\b\b\b\b\b\b\b\b\b\b\b\b\b\b\b\b\b\b\b\b\b\b\b\b\b\b\b\b\b\b\b\b\b\b\b\b\b\b\b\b\b\b\b\b\b\b\b",
      "\r512/512 [==============================] - 0s 41us/step - loss: 5.7939e-04 - acc: 1.0000\n",
      "Epoch 66/150\n\r100/512 [====>.........................] - ETA: 0s - loss: 6.5628e-04 - acc: 1.0000",
      "\b\b\b\b\b\b\b\b\b\b\b\b\b\b\b\b\b\b\b\b\b\b\b\b\b\b\b\b\b\b\b\b\b\b\b\b\b\b\b\b\b\b\b\b\b\b\b\b\b\b\b\b\b\b\b\b\b\b\b\b\b\b\b\b\b\b\b\b\b\b\b\b\b\b\b\b\b\b\b\b\b\b\b\r512/512 [==============================] - 0s 47us/step - loss: 3.9206e-04 - acc: 1.0000\n",
      "Epoch 67/150\n",
      "\r100/512 [====>.........................] - ETA: 0s - loss: 0.0112 - acc: 0.9900",
      "\b\b\b\b\b\b\b\b\b\b\b\b\b\b\b\b\b\b\b\b\b\b\b\b\b\b\b\b\b\b\b\b\b\b\b\b\b\b\b\b\b\b\b\b\b\b\b\b\b\b\b\b\b\b\b\b\b\b\b\b\b\b\b\b\b\b\b\b\b\b\b\b\b\b\b\b\b\b\b",
      "\r512/512 [==============================] - 0s 31us/step - loss: 0.0026 - acc: 0.9980\n",
      "Epoch 68/150\n\r100/512 [====>.........................] - ETA: 0s - loss: 2.6502e-04 - acc: 1.0000",
      "\b\b\b\b\b\b\b\b\b\b\b\b\b\b\b\b\b\b\b\b\b\b\b\b\b\b\b\b\b\b\b\b\b\b\b\b\b\b\b\b\b\b\b\b\b\b\b\b\b\b\b\b\b\b\b\b\b\b\b\b\b\b\b\b\b\b\b\b\b\b\b\b\b\b\b\b\b\b\b\b\b\b\b",
      "\r512/512 [==============================] - 0s 32us/step - loss: 4.9581e-04 - acc: 1.0000\n",
      "Epoch 69/150\n\r100/512 [====>.........................] - ETA: 0s - loss: 2.1585e-04 - acc: 1.0000",
      "\b\b\b\b\b\b\b\b\b\b\b\b\b\b\b\b\b\b\b\b\b\b\b\b\b\b\b\b\b\b\b\b\b\b\b\b\b\b\b\b\b\b\b\b\b\b\b\b\b\b\b\b\b\b\b\b\b\b\b\b\b\b\b\b\b\b\b\b\b\b\b\b\b\b\b\b\b\b\b\b\b\b\b",
      "\r512/512 [==============================] - 0s 35us/step - loss: 3.3259e-04 - acc: 1.0000\n",
      "Epoch 70/150\n",
      "\r100/512 [====>.........................] - ETA: 0s - loss: 0.0046 - acc: 1.0000",
      "\b\b\b\b\b\b\b\b\b\b\b\b\b\b\b\b\b\b\b\b\b\b\b\b\b\b\b\b\b\b\b\b\b\b\b\b\b\b\b\b\b\b\b\b\b\b\b\b\b\b\b\b\b\b\b\b\b\b\b\b\b\b\b\b\b\b\b\b\b\b\b\b\b\b\b\b\b\b\b",
      "\r512/512 [==============================] - 0s 51us/step - loss: 0.0045 - acc: 0.9980\n",
      "Epoch 71/150\n\r100/512 [====>.........................] - ETA: 0s - loss: 0.0013 - acc: 1.0000",
      "\b\b\b\b\b\b\b\b\b\b\b\b\b\b\b\b\b\b\b\b\b\b\b\b\b\b\b\b\b\b\b\b\b\b\b\b\b\b\b\b\b\b\b\b\b\b\b\b\b\b\b\b\b\b\b\b\b\b\b\b\b\b\b\b\b\b\b\b\b\b\b\b\b\b\b\b\b\b\b",
      "\r512/512 [==============================] - 0s 45us/step - loss: 0.0043 - acc: 0.9980\n",
      "Epoch 72/150\n\r100/512 [====>.........................] - ETA: 0s - loss: 5.8360e-04 - acc: 1.0000",
      "\b\b\b\b\b\b\b\b\b\b\b\b\b\b\b\b\b\b\b\b\b\b\b\b\b\b\b\b\b\b\b\b\b\b\b\b\b\b\b\b\b\b\b\b\b\b\b\b\b\b\b\b\b\b\b\b\b\b\b\b\b\b\b\b\b\b\b\b\b\b\b\b\b\b\b\b\b\b\b\b\b\b\b",
      "\r512/512 [==============================] - 0s 41us/step - loss: 4.9180e-04 - acc: 1.0000\n",
      "Epoch 73/150\n\r100/512 [====>.........................] - ETA: 0s - loss: 0.0091 - acc: 0.9900",
      "\b\b\b\b\b\b\b\b\b\b\b\b\b\b\b\b\b\b\b\b\b\b\b\b\b\b\b\b\b\b\b\b\b\b\b\b\b\b\b\b\b\b\b\b\b\b\b\b\b\b\b\b\b\b\b\b\b\b\b\b\b\b\b\b\b\b\b\b\b\b\b\b\b\b\b\b\b\b\b\r512/512 [==============================] - 0s 37us/step - loss: 0.0019 - acc: 0.9980\n",
      "Epoch 74/150\n",
      "\r100/512 [====>.........................] - ETA: 0s - loss: 4.7391e-05 - acc: 1.0000",
      "\b\b\b\b\b\b\b\b\b\b\b\b\b\b\b\b\b\b\b\b\b\b\b\b\b\b\b\b\b\b\b\b\b\b\b\b\b\b\b\b\b\b\b\b\b\b\b\b\b\b\b\b\b\b\b\b\b\b\b\b\b\b\b\b\b\b\b\b\b\b\b\b\b\b\b\b\b\b\b\b\b\b\b",
      "\r512/512 [==============================] - 0s 33us/step - loss: 1.2674e-04 - acc: 1.0000\n",
      "Epoch 75/150\n\r100/512 [====>.........................] - ETA: 0s - loss: 4.2191e-04 - acc: 1.0000",
      "\b\b\b\b\b\b\b\b\b\b\b\b\b\b\b\b\b\b\b\b\b\b\b\b\b\b\b\b\b\b\b\b\b\b\b\b\b\b\b\b\b\b\b\b\b\b\b\b\b\b\b\b\b\b\b\b\b\b\b\b\b\b\b\b\b\b\b\b\b\b\b\b\b\b\b\b\b\b\b\b\b\b\b",
      "\r512/512 [==============================] - 0s 47us/step - loss: 0.0017 - acc: 0.9980\n",
      "Epoch 76/150\n",
      "\r100/512 [====>.........................] - ETA: 0s - loss: 2.0031e-04 - acc: 1.0000",
      "\b\b\b\b\b\b\b\b\b\b\b\b\b\b\b\b\b\b\b\b\b\b\b\b\b\b\b\b\b\b\b\b\b\b\b\b\b\b\b\b\b\b\b\b\b\b\b\b\b\b\b\b\b\b\b\b\b\b\b\b\b\b\b\b\b\b\b\b\b\b\b\b\b\b\b\b\b\b\b\b\b\b\b\r512/512 [==============================] - 0s 33us/step - loss: 0.0012 - acc: 1.0000\n",
      "Epoch 77/150\n",
      "\r100/512 [====>.........................] - ETA: 0s - loss: 1.0754e-05 - acc: 1.0000",
      "\b\b\b\b\b\b\b\b\b\b\b\b\b\b\b\b\b\b\b\b\b\b\b\b\b\b\b\b\b\b\b\b\b\b\b\b\b\b\b\b\b\b\b\b\b\b\b\b\b\b\b\b\b\b\b\b\b\b\b\b\b\b\b\b\b\b\b\b\b\b\b\b\b\b\b\b\b\b\b\b\b\b\b",
      "\r512/512 [==============================] - 0s 51us/step - loss: 2.2855e-04 - acc: 1.0000\n",
      "Epoch 78/150\n",
      "\r100/512 [====>.........................] - ETA: 0s - loss: 1.7571e-04 - acc: 1.0000",
      "\b\b\b\b\b\b\b\b\b\b\b\b\b\b\b\b\b\b\b\b\b\b\b\b\b\b\b\b\b\b\b\b\b\b\b\b\b\b\b\b\b\b\b\b\b\b\b\b\b\b\b\b\b\b\b\b\b\b\b\b\b\b\b\b\b\b\b\b\b\b\b\b\b\b\b\b\b\b\b\b\b\b\b\r512/512 [==============================]",
      " - 0s 35us/step - loss: 1.3222e-04 - acc: 1.0000\n",
      "Epoch 79/150\n\r100/512 [====>.........................] - ETA: 0s - loss: 1.6636e-04 - acc: 1.0000",
      "\b\b\b\b\b\b\b\b\b\b\b\b\b\b\b\b\b\b\b\b\b\b\b\b\b\b\b\b\b\b\b\b\b\b\b\b\b\b\b\b\b\b\b\b\b\b\b\b\b\b\b\b\b\b\b\b\b\b\b\b\b\b\b\b\b\b\b\b\b\b\b\b\b\b\b\b\b\b\b\b\b\b\b\r512/512 [==============================] - 0s 39us/step - loss: 1.9868e-04 - acc: 1.0000\n",
      "Epoch 80/150\n\r100/512 [====>.........................]",
      " - ETA: 0s - loss: 5.5601e-05 - acc: 1.0000",
      "\b\b\b\b\b\b\b\b\b\b\b\b\b\b\b\b\b\b\b\b\b\b\b\b\b\b\b\b\b\b\b\b\b\b\b\b\b\b\b\b\b\b\b\b\b\b\b\b\b\b\b\b\b\b\b\b\b\b\b\b\b\b\b\b\b\b\b\b\b\b\b\b\b\b\b\b\b\b\b\b\b\b\b",
      "\r512/512 [==============================] - 0s 51us/step - loss: 1.5528e-04 - acc: 1.0000\n",
      "Epoch 81/150\n\r100/512 [====>.........................] - ETA: 0s - loss: 1.4265e-04 - acc: 1.0000",
      "\b\b\b\b\b\b\b\b\b\b\b\b\b\b\b\b\b\b\b\b\b\b\b\b\b\b\b\b\b\b\b\b\b\b\b\b\b\b\b\b\b\b\b\b\b\b\b\b\b\b\b\b\b\b\b\b\b\b\b\b\b\b\b\b\b\b\b\b\b\b\b\b\b\b\b\b\b\b\b\b\b\b\b",
      "\r512/512 [==============================] - 0s 39us/step - loss: 2.2414e-04 - acc: 1.0000\n",
      "Epoch 82/150\n",
      "\r100/512 [====>.........................] - ETA: 0s - loss: 3.9264e-05 - acc: 1.0000",
      "\b\b\b\b\b\b\b\b\b\b\b\b\b\b\b\b\b\b\b\b\b\b\b\b\b\b\b\b\b\b\b\b\b\b\b\b\b\b\b\b\b\b\b\b\b\b\b\b\b\b\b\b\b\b\b\b\b\b\b\b\b\b\b\b\b\b\b\b\b\b\b\b\b\b\b\b\b\b\b\b\b\b\b\r512/512 [==============================] - 0s 49us/step - loss: 2.6212e-04 - acc: 1.0000\n",
      "Epoch 83/150\n\r100/512 [====>.........................] - ETA: 0s - loss: 3.6941e-04 - acc: 1.0000",
      "\b\b\b\b\b\b\b\b\b\b\b\b\b\b\b\b\b\b\b\b\b\b\b\b\b\b\b\b\b\b\b\b\b\b\b\b\b\b\b\b\b\b\b\b\b\b\b\b\b\b\b\b\b\b\b\b\b\b\b\b\b\b\b\b\b\b\b\b\b\b\b\b\b\b\b\b\b\b\b\b\b\b\b",
      "\r512/512 [==============================] - 0s 43us/step - loss: 2.0967e-04 - acc: 1.0000\n",
      "Epoch 84/150\n\r100/512 [====>.........................] - ETA: 0s - loss: 3.3376e-04 - acc: 1.0000",
      "\b\b\b\b\b\b\b\b\b\b\b\b\b\b\b\b\b\b\b\b\b\b\b\b\b\b\b\b\b\b\b\b\b\b\b\b\b\b\b\b\b\b\b\b\b\b\b\b\b\b\b\b\b\b\b\b\b\b\b\b\b\b\b\b\b\b\b\b\b\b\b\b\b\b\b\b\b\b\b\b\b\b\b",
      "\r512/512 [==============================] - 0s 33us/step - loss: 3.4803e-04 - acc: 1.0000\n",
      "Epoch 85/150\n\r100/512 [====>.........................] - ETA: 0s - loss: 2.2466e-05 - acc: 1.0000",
      "\b\b\b\b\b\b\b\b\b\b\b\b\b\b\b\b\b\b\b\b\b\b\b\b\b\b\b\b\b\b\b\b\b\b\b\b\b\b\b\b\b\b\b\b\b\b\b\b\b\b\b\b\b\b\b\b\b\b\b\b\b\b\b\b\b\b\b\b\b\b\b\b\b\b\b\b\b\b\b\b\b\b\b",
      "\r512/512 [==============================] - 0s 33us/step - loss: 2.2923e-04 - acc: 1.0000\n",
      "Epoch 86/150\n\r100/512 [====>.........................] - ETA: 0s - loss: 4.1485e-05 - acc: 1.0000",
      "\b\b\b\b\b\b\b\b\b\b\b\b\b\b\b\b\b\b\b\b\b\b\b\b\b\b\b\b\b\b\b\b\b\b\b\b\b\b\b\b\b\b\b\b\b\b\b\b\b\b\b\b\b\b\b\b\b\b\b\b\b\b\b\b\b\b\b\b\b\b\b\b\b\b\b\b\b\b\b\b\b\b\b",
      "\r512/512 [==============================] - 0s 29us/step - loss: 2.3789e-04 - acc: 1.0000\n",
      "Epoch 87/150\n\r100/512 [====>.........................] - ETA: 0s - loss: 1.3393e-05 - acc: 1.0000",
      "\b\b\b\b\b\b\b\b\b\b\b\b\b\b\b\b\b\b\b\b\b\b\b\b\b\b\b\b\b\b\b\b\b\b\b\b\b\b\b\b\b\b\b\b\b\b\b\b\b\b\b\b\b\b\b\b\b\b\b\b\b\b\b\b\b\b\b\b\b\b\b\b\b\b\b\b\b\b\b\b\b\b\b",
      "\r512/512 [==============================] - 0s 33us/step - loss: 1.3465e-04 - acc: 1.0000\n",
      "Epoch 88/150\n",
      "\r100/512 [====>.........................] - ETA: 0s - loss: 6.5814e-04 - acc: 1.0000",
      "\b\b\b\b\b\b\b\b\b\b\b\b\b\b\b\b\b\b\b\b\b\b\b\b\b\b\b\b\b\b\b\b\b\b\b\b\b\b\b\b\b\b\b\b\b\b\b\b\b\b\b\b\b\b\b\b\b\b\b\b\b\b\b\b\b\b\b\b\b\b\b\b\b\b\b\b\b\b\b\b\b\b\b",
      "\r512/512 [==============================] - 0s 41us/step - loss: 3.4248e-04 - acc: 1.0000\n",
      "Epoch 89/150\n\r100/512 [====>.........................] - ETA: 0s - loss: 4.5744e-05 - acc: 1.0000",
      "\b\b\b\b\b\b\b\b\b\b\b\b\b\b\b\b\b\b\b\b\b\b\b\b\b\b\b\b\b\b\b\b\b\b\b\b\b\b\b\b\b\b\b\b\b\b\b\b\b\b\b\b\b\b\b\b\b\b\b\b\b\b\b\b\b\b\b\b\b\b\b\b\b\b\b\b\b\b\b\b\b\b\b",
      "\r512/512 [==============================] - 0s 43us/step - loss: 4.7763e-04 - acc: 1.0000\n",
      "Epoch 90/150\n\r100/512 [====>.........................] - ETA: 0s - loss: 5.4525e-07 - acc: 1.0000",
      "\b\b\b\b\b\b\b\b\b\b\b\b\b\b\b\b\b\b\b\b\b\b\b\b\b\b\b\b\b\b\b\b\b\b\b\b\b\b\b\b\b\b\b\b\b\b\b\b\b\b\b\b\b\b\b\b\b\b\b\b\b\b\b\b\b\b\b\b\b\b\b\b\b\b\b\b\b\b\b\b\b\b\b\r512/512 [==============================] - 0s 27us/step - loss: 8.1815e-04 - acc: 1.0000\n",
      "Epoch 91/150",
      "\n\r100/512 [====>.........................] - ETA: 0s - loss: 3.6315e-06 - acc: 1.0000",
      "\b\b\b\b\b\b\b\b\b\b\b\b\b\b\b\b\b\b\b\b\b\b\b\b\b\b\b\b\b\b\b\b\b\b\b\b\b\b\b\b\b\b\b\b\b\b\b\b\b\b\b\b\b\b\b\b\b\b\b\b\b\b\b\b\b\b\b\b\b\b\b\b\b\b\b\b\b\b\b\b\b\b\b",
      "\r512/512 [==============================] - 0s 39us/step - loss: 1.9064e-04 - acc: 1.0000\n",
      "Epoch 92/150\n\r100/512 [====>.........................] - ETA: 0s - loss: 1.1599e-04 - acc: 1.0000",
      "\b\b\b\b\b\b\b\b\b\b\b\b\b\b\b\b\b\b\b\b\b\b\b\b\b\b\b\b\b\b\b\b\b\b\b\b\b\b\b\b\b\b\b\b\b\b\b\b\b\b\b\b\b\b\b\b\b\b\b\b\b\b\b\b\b\b\b\b\b\b\b\b\b\b\b\b\b\b\b\b\b\b\b\r512/512 [==============================] - 0s 33us/step - loss: 8.8979e-04 - acc: 1.0000\n",
      "Epoch 93/150\n\r100/512 [====>.........................] - ETA: 0s - loss: 3.2494e-04 - acc: 1.0000",
      "\b\b\b\b\b\b\b\b\b\b\b\b\b\b\b\b\b\b\b\b\b\b\b\b\b\b\b\b\b\b\b\b\b\b\b\b\b\b\b\b\b\b\b\b\b\b\b\b\b\b\b\b\b\b\b\b\b\b\b\b\b\b\b\b\b\b\b\b\b\b\b\b\b\b\b\b\b\b\b\b\b\b\b\r512/512 [==============================] - 0s 33us/step - loss: 5.9408e-04 - acc: 1.0000\n",
      "Epoch 94/150\n",
      "\r100/512 [====>.........................] - ETA: 0s - loss: 1.7891e-07 - acc: 1.0000",
      "\b\b\b\b\b\b\b\b\b\b\b\b\b\b\b\b\b\b\b\b\b\b\b\b\b\b\b\b\b\b\b\b\b\b\b\b\b\b\b\b\b\b\b\b\b\b\b\b\b\b\b\b\b\b\b\b\b\b\b\b\b\b\b\b\b\b\b\b\b\b\b\b\b\b\b\b\b\b\b\b\b\b\b\r512/512 [==============================] - 0s 28us/step - loss: 1.7097e-04 - acc: 1.0000\n",
      "Epoch 95/150\n",
      "\r100/512 [====>.........................] - ETA: 0s - loss: 6.8581e-06 - acc: 1.0000",
      "\b\b\b\b\b\b\b\b\b\b\b\b\b\b\b\b\b\b\b\b\b\b\b\b\b\b\b\b\b\b\b\b\b\b\b\b\b\b\b\b\b\b\b\b\b\b\b\b\b\b\b\b\b\b\b\b\b\b\b\b\b\b\b\b\b\b\b\b\b\b\b\b\b\b\b\b\b\b\b\b\b\b\b",
      "\r512/512 [==============================] - 0s 37us/step - loss: 2.1710e-04 - acc: 1.0000\n",
      "Epoch 96/150\n\r100/512 [====>.........................] - ETA: 0s - loss: 6.0291e-05 - acc: 1.0000",
      "\b\b\b\b\b\b\b\b\b\b\b\b\b\b\b\b\b\b\b\b\b\b\b\b\b\b\b\b\b\b\b\b\b\b\b\b\b\b\b\b\b\b\b\b\b\b\b\b\b\b\b\b\b\b\b\b\b\b\b\b\b\b\b\b\b\b\b\b\b\b\b\b\b\b\b\b\b\b\b\b\b\b\b",
      "\r512/512 [==============================] - 0s 35us/step - loss: 1.9839e-04 - acc: 1.0000\n",
      "Epoch 97/150\n\r100/512 [====>.........................] - ETA: 0s - loss: 3.6318e-04 - acc: 1.0000",
      "\b\b\b\b\b\b\b\b\b\b\b\b\b\b\b\b\b\b\b\b\b\b\b\b\b\b\b\b\b\b\b\b\b\b\b\b\b\b\b\b\b\b\b\b\b\b\b\b\b\b\b\b\b\b\b\b\b\b\b\b\b\b\b\b\b\b\b\b\b\b\b\b\b\b\b\b\b\b\b\b\b\b\b",
      "\r512/512 [==============================] - 0s 54us/step - loss: 8.8061e-05 - acc: 1.0000\n",
      "Epoch 98/150\n\r100/512 [====>.........................] - ETA: 0s - loss: 4.7123e-04 - acc: 1.0000",
      "\b\b\b\b\b\b\b\b\b\b\b\b\b\b\b\b\b\b\b\b\b\b\b\b\b\b\b\b\b\b\b\b\b\b\b\b\b\b\b\b\b\b\b\b\b\b\b\b\b\b\b\b\b\b\b\b\b\b\b\b\b\b\b\b\b\b\b\b\b\b\b\b\b\b\b\b\b\b\b\b\b\b\b",
      "\r512/512 [==============================] - 0s 51us/step - loss: 0.0150 - acc: 0.9980\n",
      "Epoch 99/150\n\r100/512 [====>.........................] - ETA: 0s - loss: 3.3726e-05 - acc: 1.0000",
      "\b\b\b\b\b\b\b\b\b\b\b\b\b\b\b\b\b\b\b\b\b\b\b\b\b\b\b\b\b\b\b\b\b\b\b\b\b\b\b\b\b\b\b\b\b\b\b\b\b\b\b\b\b\b\b\b\b\b\b\b\b\b\b\b\b\b\b\b\b\b\b\b\b\b\b\b\b\b\b\b\b\b\b",
      "\r512/512 [==============================] - 0s 37us/step - loss: 3.8832e-04 - acc: 1.0000\n",
      "Epoch 100/150\n\r100/512 [====>.........................] - ETA: 0s - loss: 3.4445e-05 - acc: 1.0000",
      "\b\b\b\b\b\b\b\b\b\b\b\b\b\b\b\b\b\b\b\b\b\b\b\b\b\b\b\b\b\b\b\b\b\b\b\b\b\b\b\b\b\b\b\b\b\b\b\b\b\b\b\b\b\b\b\b\b\b\b\b\b\b\b\b\b\b\b\b\b\b\b\b\b\b\b\b\b\b\b\b\b\b\b\r512/512 [==============================] - 0s 35us/step - loss: 3.7087e-04 - acc: 1.0000\n",
      "Epoch 101/150\n\r100/512 [====>.........................] - ETA: 0s - loss: 3.5133e-05 - acc: 1.0000",
      "\b\b\b\b\b\b\b\b\b\b\b\b\b\b\b\b\b\b\b\b\b\b\b\b\b\b\b\b\b\b\b\b\b\b\b\b\b\b\b\b\b\b\b\b\b\b\b\b\b\b\b\b\b\b\b\b\b\b\b\b\b\b\b\b\b\b\b\b\b\b\b\b\b\b\b\b\b\b\b\b\b\b\b\r512/512 [==============================] - 0s 45us/step - loss: 2.3052e-04 - acc: 1.0000\n",
      "Epoch 102/150\n\r100/512 [====>.........................] - ETA: 0s - loss: 0.0016 - acc: 1.0000",
      "\b\b\b\b\b\b\b\b\b\b\b\b\b\b\b\b\b\b\b\b\b\b\b\b\b\b\b\b\b\b\b\b\b\b\b\b\b\b\b\b\b\b\b\b\b\b\b\b\b\b\b\b\b\b\b\b\b\b\b\b\b\b\b\b\b\b\b\b\b\b\b\b\b\b\b\b\b\b\b\r512/512 [==============================] - 0s 35us/step - loss: 0.0017 - acc: 1.0000\n",
      "Epoch 103/150\n\r100/512 [====>.........................] - ETA: 0s - loss: 2.0299e-05 - acc: 1.0000",
      "\b\b\b\b\b\b\b\b\b\b\b\b\b\b\b\b\b\b\b\b\b\b\b\b\b\b\b\b\b\b\b\b\b\b\b\b\b\b\b\b\b\b\b\b\b\b\b\b\b\b\b\b\b\b\b\b\b\b\b\b\b\b\b\b\b\b\b\b\b\b\b\b\b\b\b\b\b\b\b\b\b\b\b",
      "\r512/512 [==============================] - 0s 33us/step - loss: 2.4394e-04 - acc: 1.0000\n",
      "Epoch 104/150\n\r100/512 [====>.........................] - ETA: 0s - loss: 0.0015 - acc: 1.0000",
      "\b\b\b\b\b\b\b\b\b\b\b\b\b\b\b\b\b\b\b\b\b\b\b\b\b\b\b\b\b\b\b\b\b\b\b\b\b\b\b\b\b\b\b\b\b\b\b\b\b\b\b\b\b\b\b\b\b\b\b\b\b\b\b\b\b\b\b\b\b\b\b\b\b\b\b\b\b\b\b",
      "\r512/512 [==============================] - 0s 33us/step - loss: 6.1143e-04 - acc: 1.0000\n",
      "Epoch 105/150\n\r100/512 [====>.........................] - ETA: 0s - loss: 9.3435e-07 - acc: 1.0000",
      "\b\b\b\b\b\b\b\b\b\b\b\b\b\b\b\b\b\b\b\b\b\b\b\b\b\b\b\b\b\b\b\b\b\b\b\b\b\b\b\b\b\b\b\b\b\b\b\b\b\b\b\b\b\b\b\b\b\b\b\b\b\b\b\b\b\b\b\b\b\b\b\b\b\b\b\b\b\b\b\b\b\b\b\r512/512 [==============================] - 0s 29us/step - loss: 2.9189e-04 - acc: 1.0000\n",
      "Epoch 106/150\n\r100/512 [====>.........................] - ETA: 0s - loss: 1.7524e-05 - acc: 1.0000",
      "\b\b\b\b\b\b\b\b\b\b\b\b\b\b\b\b\b\b\b\b\b\b\b\b\b\b\b\b\b\b\b\b\b\b\b\b\b\b\b\b\b\b\b\b\b\b\b\b\b\b\b\b\b\b\b\b\b\b\b\b\b\b\b\b\b\b\b\b\b\b\b\b\b\b\b\b\b\b\b\b\b\b\b",
      "\r512/512 [==============================] - 0s 30us/step - loss: 1.9636e-04 - acc: 1.0000\n",
      "Epoch 107/150\n\r100/512 [====>.........................] - ETA: 0s - loss: 1.9724e-04 - acc: 1.0000",
      "\b\b\b\b\b\b\b\b\b\b\b\b\b\b\b\b\b\b\b\b\b\b\b\b\b\b\b\b\b\b\b\b\b\b\b\b\b\b\b\b\b\b\b\b\b\b\b\b\b\b\b\b\b\b\b\b\b\b\b\b\b\b\b\b\b\b\b\b\b\b\b\b\b\b\b\b\b\b\b\b\b\b\b",
      "\r512/512 [==============================] - 0s 41us/step - loss: 2.3309e-04 - acc: 1.0000\n",
      "Epoch 108/150\n\r100/512 [====>.........................] - ETA: 0s - loss: 2.3132e-04 - acc: 1.0000",
      "\b\b\b\b\b\b\b\b\b\b\b\b\b\b\b\b\b\b\b\b\b\b\b\b\b\b\b\b\b\b\b\b\b\b\b\b\b\b\b\b\b\b\b\b\b\b\b\b\b\b\b\b\b\b\b\b\b\b\b\b\b\b\b\b\b\b\b\b\b\b\b\b\b\b\b\b\b\b\b\b\b\b\b",
      "\r512/512 [==============================] - 0s 45us/step - loss: 0.0088 - acc: 0.9961\n",
      "Epoch 109/150\n",
      "\r100/512 [====>.........................] - ETA: 0s - loss: 0.0079 - acc: 0.9900",
      "\b\b\b\b\b\b\b\b\b\b\b\b\b\b\b\b\b\b\b\b\b\b\b\b\b\b\b\b\b\b\b\b\b\b\b\b\b\b\b\b\b\b\b\b\b\b\b\b\b\b\b\b\b\b\b\b\b\b\b\b\b\b\b\b\b\b\b\b\b\b\b\b\b\b\b\b\b\b\b",
      "\r512/512 [==============================] - 0s 47us/step - loss: 0.0031 - acc: 0.9961\n",
      "Epoch 110/150\n\r100/512 [====>.........................] - ETA: 0s - loss: 5.2391e-05 - acc: 1.0000",
      "\b\b\b\b\b\b\b\b\b\b\b\b\b\b\b\b\b\b\b\b\b\b\b\b\b\b\b\b\b\b\b\b\b\b\b\b\b\b\b\b\b\b\b\b\b\b\b\b\b\b\b\b\b\b\b\b\b\b\b\b\b\b\b\b\b\b\b\b\b\b\b\b\b\b\b\b\b\b\b\b\b\b\b",
      "\r512/512 [==============================] - 0s 34us/step - loss: 0.0017 - acc: 1.0000\n",
      "Epoch 111/150\n",
      "\r100/512 [====>.........................] - ETA: 0s - loss: 7.9222e-05 - acc: 1.0000",
      "\b\b\b\b\b\b\b\b\b\b\b\b\b\b\b\b\b\b\b\b\b\b\b\b\b\b\b\b\b\b\b\b\b\b\b\b\b\b\b\b\b\b\b\b\b\b\b\b\b\b\b\b\b\b\b\b\b\b\b\b\b\b\b\b\b\b\b\b\b\b\b\b\b\b\b\b\b\b\b\b\b\b\b",
      "\r512/512 [==============================] - 0s 41us/step - loss: 0.0021 - acc: 0.9980\n",
      "Epoch 112/150\n\r100/512 [====>.........................] - ETA: 0s - loss: 1.6863e-04 - acc: 1.0000",
      "\b\b\b\b\b\b\b\b\b\b\b\b\b\b\b\b\b\b\b\b\b\b\b\b\b\b\b\b\b\b\b\b\b\b\b\b\b\b\b\b\b\b\b\b\b\b\b\b\b\b\b\b\b\b\b\b\b\b\b\b\b\b\b\b\b\b\b\b\b\b\b\b\b\b\b\b\b\b\b\b\b\b\b\r512/512 [==============================] - 0s 49us/step - loss: 4.4117e-04 - acc: 1.0000\n",
      "Epoch 113/150",
      "\n\r100/512 [====>.........................] - ETA: 0s - loss: 2.5218e-05 - acc: 1.0000",
      "\b\b\b\b\b\b\b\b\b\b\b\b\b\b\b\b\b\b\b\b\b\b\b\b\b\b\b\b\b\b\b\b\b\b\b\b\b\b\b\b\b\b\b\b\b\b\b\b\b\b\b\b\b\b\b\b\b\b\b\b\b\b\b\b\b\b\b\b\b\b\b\b\b\b\b\b\b\b\b\b\b\b\b",
      "\r512/512 [==============================] - 0s 31us/step - loss: 2.4590e-04 - acc: 1.0000\n",
      "Epoch 114/150\n\r100/512 [====>.........................] - ETA: 0s - loss: 0.0106 - acc: 0.9900",
      "\b\b\b\b\b\b\b\b\b\b\b\b\b\b\b\b\b\b\b\b\b\b\b\b\b\b\b\b\b\b\b\b\b\b\b\b\b\b\b\b\b\b\b\b\b\b\b\b\b\b\b\b\b\b\b\b\b\b\b\b\b\b\b\b\b\b\b\b\b\b\b\b\b\b\b\b\b\b\b",
      "\r512/512 [==============================] - 0s 30us/step - loss: 0.0117 - acc: 0.9961\n",
      "Epoch 115/150\n\r100/512 [====>.........................] - ETA: 0s - loss: 0.0080 - acc: 1.0000",
      "\b\b\b\b\b\b\b\b\b\b\b\b\b\b\b\b\b\b\b\b\b\b\b\b\b\b\b\b\b\b\b\b\b\b\b\b\b\b\b\b\b\b\b\b\b\b\b\b\b\b\b\b\b\b\b\b\b\b\b\b\b\b\b\b\b\b\b\b\b\b\b\b\b\b\b\b\b\b\b\r512/512 [==============================] - 0s 33us/step - loss: 0.0018 - acc: 1.0000\n",
      "Epoch 116/150\n\r100/512 [====>.........................] - ETA: 0s - loss: 3.4317e-04 - acc: 1.0000",
      "\b\b\b\b\b\b\b\b\b\b\b\b\b\b\b\b\b\b\b\b\b\b\b\b\b\b\b\b\b\b\b\b\b\b\b\b\b\b\b\b\b\b\b\b\b\b\b\b\b\b\b\b\b\b\b\b\b\b\b\b\b\b\b\b\b\b\b\b\b\b\b\b\b\b\b\b\b\b\b\b\b\b\b\r512/512 [==============================] - 0s 41us/step - loss: 0.0049 - acc: 0.9961\n",
      "Epoch 117/150\n\r100/512 [====>.........................] - ETA: 0s - loss: 7.8475e-05 - acc: 1.0000",
      "\b\b\b\b\b\b\b\b\b\b\b\b\b\b\b\b\b\b\b\b\b\b\b\b\b\b\b\b\b\b\b\b\b\b\b\b\b\b\b\b\b\b\b\b\b\b\b\b\b\b\b\b\b\b\b\b\b\b\b\b\b\b\b\b\b\b\b\b\b\b\b\b\b\b\b\b\b\b\b\b\b\b\b",
      "\r512/512 [==============================] - 0s 31us/step - loss: 0.0065 - acc: 0.9961\n",
      "Epoch 118/150\n\r100/512 [====>.........................] - ETA: 0s - loss: 6.9922e-04 - acc: 1.0000",
      "\b\b\b\b\b\b\b\b\b\b\b\b\b\b\b\b\b\b\b\b\b\b\b\b\b\b\b\b\b\b\b\b\b\b\b\b\b\b\b\b\b\b\b\b\b\b\b\b\b\b\b\b\b\b\b\b\b\b\b\b\b\b\b\b\b\b\b\b\b\b\b\b\b\b\b\b\b\b\b\b\b\b\b",
      "\r512/512 [==============================] - 0s 35us/step - loss: 4.3133e-04 - acc: 1.0000\n",
      "Epoch 119/150\n\r100/512 [====>.........................] - ETA: 0s - loss: 4.8821e-04 - acc: 1.0000",
      "\b\b\b\b\b\b\b\b\b\b\b\b\b\b\b\b\b\b\b\b\b\b\b\b\b\b\b\b\b\b\b\b\b\b\b\b\b\b\b\b\b\b\b\b\b\b\b\b\b\b\b\b\b\b\b\b\b\b\b\b\b\b\b\b\b\b\b\b\b\b\b\b\b\b\b\b\b\b\b\b\b\b\b",
      "\r512/512 [==============================] - 0s 33us/step - loss: 6.6017e-04 - acc: 1.0000\n",
      "Epoch 120/150\n\r100/512 [====>.........................] - ETA: 0s - loss: 0.0011 - acc: 1.0000",
      "\b\b\b\b\b\b\b\b\b\b\b\b\b\b\b\b\b\b\b\b\b\b\b\b\b\b\b\b\b\b\b\b\b\b\b\b\b\b\b\b\b\b\b\b\b\b\b\b\b\b\b\b\b\b\b\b\b\b\b\b\b\b\b\b\b\b\b\b\b\b\b\b\b\b\b\b\b\b\b",
      "\r512/512 [==============================] - 0s 31us/step - loss: 5.4108e-04 - acc: 1.0000\n",
      "Epoch 121/150\n\r100/512 [====>.........................] - ETA: 0s - loss: 1.5794e-05 - acc: 1.0000",
      "\b\b\b\b\b\b\b\b\b\b\b\b\b\b\b\b\b\b\b\b\b\b\b\b\b\b\b\b\b\b\b\b\b\b\b\b\b\b\b\b\b\b\b\b\b\b\b\b\b\b\b\b\b\b\b\b\b\b\b\b\b\b\b\b\b\b\b\b\b\b\b\b\b\b\b\b\b\b\b\b\b\b\b",
      "\r512/512 [==============================] - 0s 43us/step - loss: 0.0049 - acc: 0.9980\n",
      "Epoch 122/150\n\r100/512 [====>.........................] - ETA: 0s - loss: 4.5229e-04 - acc: 1.0000",
      "\b\b\b\b\b\b\b\b\b\b\b\b\b\b\b\b\b\b\b\b\b\b\b\b\b\b\b\b\b\b\b\b\b\b\b\b\b\b\b\b\b\b\b\b\b\b\b\b\b\b\b\b\b\b\b\b\b\b\b\b\b\b\b\b\b\b\b\b\b\b\b\b\b\b\b\b\b\b\b\b\b\b\b",
      "\r512/512 [==============================] - 0s 37us/step - loss: 5.8660e-04 - acc: 1.0000\n",
      "Epoch 123/150\n\r100/512 [====>.........................] - ETA: 0s - loss: 5.9558e-04 - acc: 1.0000",
      "\b\b\b\b\b\b\b\b\b\b\b\b\b\b\b\b\b\b\b\b\b\b\b\b\b\b\b\b\b\b\b\b\b\b\b\b\b\b\b\b\b\b\b\b\b\b\b\b\b\b\b\b\b\b\b\b\b\b\b\b\b\b\b\b\b\b\b\b\b\b\b\b\b\b\b\b\b\b\b\b\b\b\b",
      "\r512/512 [==============================] - 0s 29us/step - loss: 0.0017 - acc: 1.0000\n",
      "Epoch 124/150\n\r",
      "100/512 [====>.........................] - ETA: 0s - loss: 5.6312e-04 - acc: 1.0000",
      "\b\b\b\b\b\b\b\b\b\b\b\b\b\b\b\b\b\b\b\b\b\b\b\b\b\b\b\b\b\b\b\b\b\b\b\b\b\b\b\b\b\b\b\b\b\b\b\b\b\b\b\b\b\b\b\b\b\b\b\b\b\b\b\b\b\b\b\b\b\b\b\b\b\b\b\b\b\b\b\b\b\b\b",
      "\r512/512 [==============================] - 0s 35us/step - loss: 9.1084e-04 - acc: 1.0000\n",
      "Epoch 125/150\n\r100/512 [====>.........................] - ETA: 0s - loss: 0.0105 - acc: 0.9900",
      "\b\b\b\b\b\b\b\b\b\b\b\b\b\b\b\b\b\b\b\b\b\b\b\b\b\b\b\b\b\b\b\b\b\b\b\b\b\b\b\b\b\b\b\b\b\b\b\b\b\b\b\b\b\b\b\b\b\b\b\b\b\b\b\b\b\b\b\b\b\b\b\b\b\b\b\b\b\b\b",
      "\r512/512 [==============================] - 0s 34us/step - loss: 0.0029 - acc: 0.9980\n",
      "Epoch 126/150\n\r100/512 [====>.........................] - ETA: 0s - loss: 5.5234e-04 - acc: 1.0000",
      "\b\b\b\b\b\b\b\b\b\b\b\b\b\b\b\b\b\b\b\b\b\b\b\b\b\b\b\b\b\b\b\b\b\b\b\b\b\b\b\b\b\b\b\b\b\b\b\b\b\b\b\b\b\b\b\b\b\b\b\b\b\b\b\b\b\b\b\b\b\b\b\b\b\b\b\b\b\b\b\b\b\b\b\r512/512 [==============================] - 0s 45us/step - loss: 5.0856e-04 - acc: 1.0000\n",
      "Epoch 127/150\n\r100/512 [====>.........................] - ETA: 0s - loss: 1.6883e-04 - acc: 1.0000",
      "\b\b\b\b\b\b\b\b\b\b\b\b\b\b\b\b\b\b\b\b\b\b\b\b\b\b\b\b\b\b\b\b\b\b\b\b\b\b\b\b\b\b\b\b\b\b\b\b\b\b\b\b\b\b\b\b\b\b\b\b\b\b\b\b\b\b\b\b\b\b\b\b\b\b\b\b\b\b\b\b\b\b\b",
      "\r512/512 [==============================] - 0s 30us/step - loss: 0.0019 - acc: 1.0000\n",
      "Epoch 128/150\n\r100/512 [====>.........................] - ETA: 0s - loss: 5.7062e-04 - acc: 1.0000",
      "\b\b\b\b\b\b\b\b\b\b\b\b\b\b\b\b\b\b\b\b\b\b\b\b\b\b\b\b\b\b\b\b\b\b\b\b\b\b\b\b\b\b\b\b\b\b\b\b\b\b\b\b\b\b\b\b\b\b\b\b\b\b\b\b\b\b\b\b\b\b\b\b\b\b\b\b\b\b\b\b\b\b\b",
      "\r512/512 [==============================] - 0s 27us/step - loss: 4.2259e-04 - acc: 1.0000\n",
      "Epoch 129/150\n\r100/512 [====>.........................] - ETA: 0s - loss: 0.0011 - acc: 1.0000",
      "\b\b\b\b\b\b\b\b\b\b\b\b\b\b\b\b\b\b\b\b\b\b\b\b\b\b\b\b\b\b\b\b\b\b\b\b\b\b\b\b\b\b\b\b\b\b\b\b\b\b\b\b\b\b\b\b\b\b\b\b\b\b\b\b\b\b\b\b\b\b\b\b\b\b\b\b\b\b\b",
      "\r512/512 [==============================] - 0s 29us/step - loss: 9.5477e-04 - acc: 1.0000\n",
      "Epoch 130/150\n\r100/512 [====>.........................] - ETA: 0s - loss: 0.0019 - acc: 1.0000",
      "\b\b\b\b\b\b\b\b\b\b\b\b\b\b\b\b\b\b\b\b\b\b\b\b\b\b\b\b\b\b\b\b\b\b\b\b\b\b\b\b\b\b\b\b\b\b\b\b\b\b\b\b\b\b\b\b\b\b\b\b\b\b\b\b\b\b\b\b\b\b\b\b\b\b\b\b\b\b\b\r512/512 [==============================] - 0s 33us/step - loss: 5.4636e-04 - acc: 1.0000\n",
      "Epoch 131/150\n\r100/512 [====>.........................] - ETA: 0s - loss: 1.8018e-05 - acc: 1.0000",
      "\b\b\b\b\b\b\b\b\b\b\b\b\b\b\b\b\b\b\b\b\b\b\b\b\b\b\b\b\b\b\b\b\b\b\b\b\b\b\b\b\b\b\b\b\b\b\b\b\b\b\b\b\b\b\b\b\b\b\b\b\b\b\b\b\b\b\b\b\b\b\b\b\b\b\b\b\b\b\b\b\b\b\b",
      "\r512/512 [==============================] - 0s 31us/step - loss: 0.0016 - acc: 1.0000\n",
      "Epoch 132/150\n\r100/512 [====>.........................] - ETA: 0s - loss: 0.0011 - acc: 1.0000",
      "\b\b\b\b\b\b\b\b\b\b\b\b\b\b\b\b\b\b\b\b\b\b\b\b\b\b\b\b\b\b\b\b\b\b\b\b\b\b\b\b\b\b\b\b\b\b\b\b\b\b\b\b\b\b\b\b\b\b\b\b\b\b\b\b\b\b\b\b\b\b\b\b\b\b\b\b\b\b\b\r512/512 [==============================] - 0s 31us/step - loss: 9.6965e-04 - acc: 1.0000\n",
      "Epoch 133/150\n",
      "\r100/512 [====>.........................] - ETA: 0s - loss: 2.6466e-04 - acc: 1.0000",
      "\b\b\b\b\b\b\b\b\b\b\b\b\b\b\b\b\b\b\b\b\b\b\b\b\b\b\b\b\b\b\b\b\b\b\b\b\b\b\b\b\b\b\b\b\b\b\b\b\b\b\b\b\b\b\b\b\b\b\b\b\b\b\b\b\b\b\b\b\b\b\b\b\b\b\b\b\b\b\b\b\b\b\b",
      "\r512/512 [==============================] - 0s 72us/step - loss: 1.9291e-04 - acc: 1.0000\n",
      "Epoch 134/150\n\r100/512 [====>.........................] - ETA: 0s - loss: 8.7828e-04 - acc: 1.0000",
      "\b\b\b\b\b\b\b\b\b\b\b\b\b\b\b\b\b\b\b\b\b\b\b\b\b\b\b\b\b\b\b\b\b\b\b\b\b\b\b\b\b\b\b\b\b\b\b\b\b\b\b\b\b\b\b\b\b\b\b\b\b\b\b\b\b\b\b\b\b\b\b\b\b\b\b\b\b\b\b\b\b\b\b",
      "\r512/512 [==============================] - 0s 41us/step - loss: 5.5690e-04 - acc: 1.0000\n",
      "Epoch 135/150\n\r100/512 [====>.........................] - ETA: 0s - loss: 0.0010 - acc: 1.0000",
      "\b\b\b\b\b\b\b\b\b\b\b\b\b\b\b\b\b\b\b\b\b\b\b\b\b\b\b\b\b\b\b\b\b\b\b\b\b\b\b\b\b\b\b\b\b\b\b\b\b\b\b\b\b\b\b\b\b\b\b\b\b\b\b\b\b\b\b\b\b\b\b\b\b\b\b\b\b\b\b\r512/512 [==============================] - 0s 37us/step - loss: 3.3833e-04 - acc: 1.0000\n",
      "Epoch 136/150\n",
      "\r100/512 [====>.........................] - ETA: 0s - loss: 1.7564e-05 - acc: 1.0000",
      "\b\b\b\b\b\b\b\b\b\b\b\b\b\b\b\b\b\b\b\b\b\b\b\b\b\b\b\b\b\b\b\b\b\b\b\b\b\b\b\b\b\b\b\b\b\b\b\b\b\b\b\b\b\b\b\b\b\b\b\b\b\b\b\b\b\b\b\b\b\b\b\b\b\b\b\b\b\b\b\b\b\b\b\r512/512 [==============================] - 0s 29us/step - loss: 2.2345e-04 - acc: 1.0000\n",
      "Epoch 137/150\n\r100/512 [====>.........................] - ETA: 0s - loss: 1.2345e-04 - acc: 1.0000",
      "\b\b\b\b\b\b\b\b\b\b\b\b\b\b\b\b\b\b\b\b\b\b\b\b\b\b\b\b\b\b\b\b\b\b\b\b\b\b\b\b\b\b\b\b\b\b\b\b\b\b\b\b\b\b\b\b\b\b\b\b\b\b\b\b\b\b\b\b\b\b\b\b\b\b\b\b\b\b\b\b\b\b\b\r512/512 [==============================] - 0s 25us/step - loss: 2.4401e-04 - acc: 1.0000\n",
      "Epoch 138/150\n\r100/512 [====>.........................] - ETA: 0s - loss: 2.7374e-05 - acc: 1.0000",
      "\b\b\b\b\b\b\b\b\b\b\b\b\b\b\b\b\b\b\b\b\b\b\b\b\b\b\b\b\b\b\b\b\b\b\b\b\b\b\b\b\b\b\b\b\b\b\b\b\b\b\b\b\b\b\b\b\b\b\b\b\b\b\b\b\b\b\b\b\b\b\b\b\b\b\b\b\b\b\b\b\b\b\b",
      "\r512/512 [==============================] - 0s 33us/step - loss: 1.0735e-04 - acc: 1.0000\n",
      "Epoch 139/150\n\r100/512 [====>.........................] - ETA: 0s - loss: 3.8627e-05 - acc: 1.0000",
      "\b\b\b\b\b\b\b\b\b\b\b\b\b\b\b\b\b\b\b\b\b\b\b\b\b\b\b\b\b\b\b\b\b\b\b\b\b\b\b\b\b\b\b\b\b\b\b\b\b\b\b\b\b\b\b\b\b\b\b\b\b\b\b\b\b\b\b\b\b\b\b\b\b\b\b\b\b\b\b\b\b\b\b",
      "\r512/512 [==============================] - 0s 35us/step - loss: 6.2217e-04 - acc: 1.0000\n",
      "Epoch 140/150\n\r100/512 [====>.........................] - ETA: 0s - loss: 3.8586e-05 - acc: 1.0000",
      "\b\b\b\b\b\b\b\b\b\b\b\b\b\b\b\b\b\b\b\b\b\b\b\b\b\b\b\b\b\b\b\b\b\b\b\b\b\b\b\b\b\b\b\b\b\b\b\b\b\b\b\b\b\b\b\b\b\b\b\b\b\b\b\b\b\b\b\b\b\b\b\b\b\b\b\b\b\b\b\b\b\b\b",
      "\r512/512 [==============================] - 0s 32us/step - loss: 9.1749e-05 - acc: 1.0000\n",
      "Epoch 141/150\n\r100/512 [====>.........................]",
      " - ETA: 0s - loss: 3.3762e-04 - acc: 1.0000",
      "\b\b\b\b\b\b\b\b\b\b\b\b\b\b\b\b\b\b\b\b\b\b\b\b\b\b\b\b\b\b\b\b\b\b\b\b\b\b\b\b\b\b\b\b\b\b\b\b\b\b\b\b\b\b\b\b\b\b\b\b\b\b\b\b\b\b\b\b\b\b\b\b\b\b\b\b\b\b\b\b\b\b\b\r512/512 [==============================] - 0s 39us/step - loss: 0.0020 - acc: 0.9980\n",
      "Epoch 142/150\n\r100/512 [====>.........................] - ETA: 0s - loss: 2.5333e-04 - acc: 1.0000",
      "\b\b\b\b\b\b\b\b\b\b\b\b\b\b\b\b\b\b\b\b\b\b\b\b\b\b\b\b\b\b\b\b\b\b\b\b\b\b\b\b\b\b\b\b\b\b\b\b\b\b\b\b\b\b\b\b\b\b\b\b\b\b\b\b\b\b\b\b\b\b\b\b\b\b\b\b\b\b\b\b\b\b\b\r512/512 [==============================] - 0s 39us/step - loss: 1.8595e-04 - acc: 1.0000\n",
      "Epoch 143/150\n\r100/512 [====>.........................] - ETA: 0s - loss: 5.6329e-05 - acc: 1.0000",
      "\b\b\b\b\b\b\b\b\b\b\b\b\b\b\b\b\b\b\b\b\b\b\b\b\b\b\b\b\b\b\b\b\b\b\b\b\b\b\b\b\b\b\b\b\b\b\b\b\b\b\b\b\b\b\b\b\b\b\b\b\b\b\b\b\b\b\b\b\b\b\b\b\b\b\b\b\b\b\b\b\b\b\b",
      "\r512/512 [==============================] - 0s 33us/step - loss: 4.4096e-04 - acc: 1.0000\n",
      "Epoch 144/150\n\r100/512 [====>.........................] - ETA: 0s - loss: 1.0365e-04 - acc: 1.0000",
      "\b\b\b\b\b\b\b\b\b\b\b\b\b\b\b\b\b\b\b\b\b\b\b\b\b\b\b\b\b\b\b\b\b\b\b\b\b\b\b\b\b\b\b\b\b\b\b\b\b\b\b\b\b\b\b\b\b\b\b\b\b\b\b\b\b\b\b\b\b\b\b\b\b\b\b\b\b\b\b\b\b\b\b",
      "\r512/512 [==============================] - 0s 41us/step - loss: 3.8489e-04 - acc: 1.0000\n",
      "Epoch 145/150\n\r100/512 [====>.........................] - ETA: 0s - loss: 5.5172e-04 - acc: 1.0000",
      "\b\b\b\b\b\b\b\b\b\b\b\b\b\b\b\b\b\b\b\b\b\b\b\b\b\b\b\b\b\b\b\b\b\b\b\b\b\b\b\b\b\b\b\b\b\b\b\b\b\b\b\b\b\b\b\b\b\b\b\b\b\b\b\b\b\b\b\b\b\b\b\b\b\b\b\b\b\b\b\b\b\b\b",
      "\r512/512 [==============================] - 0s 35us/step - loss: 2.6072e-04 - acc: 1.0000\n",
      "Epoch 146/150\n\r100/512 [====>.........................] - ETA: 0s - loss: 9.8210e-05 - acc: 1.0000",
      "\b\b\b\b\b\b\b\b\b\b\b\b\b\b\b\b\b\b\b\b\b\b\b\b\b\b\b\b\b\b\b\b\b\b\b\b\b\b\b\b\b\b\b\b\b\b\b\b\b\b\b\b\b\b\b\b\b\b\b\b\b\b\b\b\b\b\b\b\b\b\b\b\b\b\b\b\b\b\b\b\b\b\b",
      "\r512/512 [==============================] - 0s 35us/step - loss: 4.7897e-04 - acc: 1.0000\n",
      "Epoch 147/150\n",
      "\r100/512 [====>.........................] - ETA: 0s - loss: 2.7842e-04 - acc: 1.0000",
      "\b\b\b\b\b\b\b\b\b\b\b\b\b\b\b\b\b\b\b\b\b\b\b\b\b\b\b\b\b\b\b\b\b\b\b\b\b\b\b\b\b\b\b\b\b\b\b\b\b\b\b\b\b\b\b\b\b\b\b\b\b\b\b\b\b\b\b\b\b\b\b\b\b\b\b\b\b\b\b\b\b\b\b",
      "\r512/512 [==============================] - 0s 37us/step - loss: 1.4090e-04 - acc: 1.0000\n",
      "Epoch 148/150\n\r100/512 [====>.........................] - ETA: 0s - loss: 4.1782e-04 - acc: 1.0000",
      "\b\b\b\b\b\b\b\b\b\b\b\b\b\b\b\b\b\b\b\b\b\b\b\b\b\b\b\b\b\b\b\b\b\b\b\b\b\b\b\b\b\b\b\b\b\b\b\b\b\b\b\b\b\b\b\b\b\b\b\b\b\b\b\b\b\b\b\b\b\b\b\b\b\b\b\b\b\b\b\b\b\b\b",
      "\r512/512 [==============================] - 0s 33us/step - loss: 1.9496e-04 - acc: 1.0000\n",
      "Epoch 149/150\n\r100/512 [====>.........................] - ETA: 0s - loss: 1.6044e-05 - acc: 1.0000",
      "\b\b\b\b\b\b\b\b\b\b\b\b\b\b\b\b\b\b\b\b\b\b\b\b\b\b\b\b\b\b\b\b\b\b\b\b\b\b\b\b\b\b\b\b\b\b\b\b\b\b\b\b\b\b\b\b\b\b\b\b\b\b\b\b\b\b\b\b\b\b\b\b\b\b\b\b\b\b\b\b\b\b\b",
      "\r512/512 [==============================] - 0s 35us/step - loss: 9.9673e-05 - acc: 1.0000\n",
      "Epoch 150/150\n\r100/512 [====>.........................] - ETA: 0s - loss: 9.7990e-04 - acc: 1.0000",
      "\b\b\b\b\b\b\b\b\b\b\b\b\b\b\b\b\b\b\b\b\b\b\b\b\b\b\b\b\b\b\b\b\b\b\b\b\b\b\b\b\b\b\b\b\b\b\b\b\b\b\b\b\b\b\b\b\b\b\b\b\b\b\b\b\b\b\b\b\b\b\b\b\b\b\b\b\b\b\b\b\b\b\b\r512/512 [==============================] - 0s 31us/step - loss: 3.0977e-04 - acc: 1.0000\n"
     ],
     "output_type": "stream"
    },
    {
     "data": {
      "text/plain": "<keras.callbacks.History at 0x15049c5eb38>"
     },
     "metadata": {},
     "output_type": "execute_result",
     "execution_count": 26
    }
   ],
   "source": [
    "# Fitting the ANN to the Training set\n",
    "classifier.fit(X_train, y_train, batch_size=100, epochs=150)\n",
    "# Long scroll ahead but worth\n",
    "# The batch size and number of epochs have been set using trial and error. Still looking for more efficient ways. Open to suggestions. "
   ]
  },
  {
   "cell_type": "markdown",
   "metadata": {
    "_cell_guid": "91cb842e-c693-4ddc-938e-b25dd5fd8d64",
    "_uuid": "e700dd6d93bfc99f1fb10a1914c33764df95b79f"
   },
   "source": [
    "Batch size defines number of samples that going to be propagated through the network.\n",
    "\n",
    "An Epoch is a complete pass through all the training data."
   ]
  },
  {
   "cell_type": "code",
   "execution_count": 27,
   "metadata": {
    "_cell_guid": "cc405d00-4e8c-4882-8251-d83d4b269895",
    "_uuid": "2a668b12248656821e4797a95ed0a878a63d8ee1",
    "pycharm": {
     "is_executing": false
    }
   },
   "outputs": [],
   "source": [
    "# Predicting the Test set results\n",
    "y_pred = classifier.predict(X_test)\n",
    "y_pred = (y_pred > 0.5)"
   ]
  },
  {
   "cell_type": "code",
   "execution_count": 29,
   "metadata": {
    "_cell_guid": "22c127bd-8608-4d8e-909b-4b90b7e24fee",
    "_uuid": "b4c8343b16d7022ccb77f8e64f46e96ac5fbe41c",
    "pycharm": {
     "is_executing": false
    }
   },
   "outputs": [],
   "source": [
    "# Making the Confusion Matrix\n",
    "from sklearn.metrics import confusion_matrix\n",
    "cm = confusion_matrix(y_test, y_pred)"
   ]
  },
  {
   "cell_type": "code",
   "execution_count": 30,
   "metadata": {
    "_cell_guid": "2d631e23-de49-42ff-94e3-528f4131e97e",
    "_uuid": "5ed1db854bfc4bc4fb49782e7adcaaf25fe9d41e",
    "pycharm": {
     "is_executing": false
    }
   },
   "outputs": [
    {
     "name": "stdout",
     "text": [
      "Our accuracy is 100.0%\n"
     ],
     "output_type": "stream"
    }
   ],
   "source": [
    "print(\"Our accuracy is {}%\".format(((cm[0][0] + cm[1][1])/57)*100))"
   ]
  },
  {
   "cell_type": "code",
   "execution_count": 31,
   "metadata": {
    "_uuid": "837036fec6bd2c2ee831bd3232804b001e472678",
    "pycharm": {
     "is_executing": false
    }
   },
   "outputs": [
    {
     "data": {
      "text/plain": "<Figure size 432x288 with 2 Axes>",
      "image/png": "[encoded data removed]"
     },
     "metadata": {
      "needs_background": "light"
     },
     "output_type": "display_data"
    }
   ],
   "source": [
    "sns.heatmap(cm,annot=True)\n",
    "plt.savefig('h.png')"
   ]
  },
  {
   "cell_type": "markdown",
   "metadata": {
    "_cell_guid": "b9ec3bc5-b073-45e5-aefc-a521c4dc9502",
    "_uuid": "68225ba8a764c54a035a068bf3852f6a084819e0",
    "collapsed": true
   },
   "source": [
    "Thanks for reading this. May this help you on your \"deep\" journey into machine learning."
   ]
  }
 ],
 "metadata": {
  "kernelspec": {
   "display_name": "Python 3",
   "language": "python",
   "name": "python3"
  },
  "language_info": {
   "codemirror_mode": {
    "name": "ipython",
    "version": 3
   },
   "file_extension": ".py",
   "mimetype": "text/x-python",
   "name": "python",
   "nbconvert_exporter": "python",
   "pygments_lexer": "ipython3",
   "version": "3.6.8"
  },
  "pycharm": {
   "stem_cell": {
    "cell_type": "raw",
    "source": [],
    "metadata": {
     "collapsed": false
    }
   }
  }
 },
 "nbformat": 4,
 "nbformat_minor": 1
}