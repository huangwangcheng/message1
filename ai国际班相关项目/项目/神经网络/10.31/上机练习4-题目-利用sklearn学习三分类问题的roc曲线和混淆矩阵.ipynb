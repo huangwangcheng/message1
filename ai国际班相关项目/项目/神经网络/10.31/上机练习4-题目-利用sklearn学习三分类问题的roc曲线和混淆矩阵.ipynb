{
 "cells": [
  {
   "cell_type": "code",
   "execution_count": 3,
   "metadata": {
    "pycharm": {
     "is_executing": false
    }
   },
   "outputs": [
    {
     "name": "stdout",
     "text": [
      "Automatically created module for IPython interactive environment\n"
     ],
     "output_type": "stream"
    }
   ],
   "source": [
    "### 导入依赖 ###\n",
    "print(__doc__)\n",
    "import seaborn as sns\n",
    "import pandas as pd\n",
    "import matplotlib.pyplot as plt\n",
    "from itertools import cycle\n",
    "from sklearn.metrics import confusion_matrix\n",
    "from sklearn.metrics import roc_curve, auc"
   ]
  },
  {
   "cell_type": "code",
   "execution_count": 4,
   "metadata": {
    "pycharm": {
     "is_executing": false
    }
   },
   "outputs": [],
   "source": [
    "### 利用一个3分类问题，理解Confusion matrix 和 ROC curve #注意 pd.read_csv中sep参数的选择\n",
    "y_pred = pd.read_csv(\"C:/Users/H/Desktop/AI/10.31/y_predicted_label.csv\",sep='\\t')\n",
    "y_test = pd.read_csv(\"C:/Users/H/Desktop/AI/10.31/y_true.csv\",sep='\\t')\n",
    "y_score = pd.read_csv(\"C:/Users/H/Desktop/AI/10.31/y_predicted_score.csv\",sep='\\t')"
   ]
  },
  {
   "cell_type": "code",
   "execution_count": 5,
   "metadata": {
    "pycharm": {
     "is_executing": false
    }
   },
   "outputs": [
    {
     "data": {
      "text/plain": "    class1  class2  class3\n0        0       0       1\n1        0       1       0\n2        1       0       0\n3        0       0       1\n4        1       0       0\n..     ...     ...     ...\n70       0       0       1\n71       0       1       0\n72       1       0       0\n73       1       0       0\n74       0       1       0\n\n[75 rows x 3 columns]",
      "text/html": "<div>\n<style scoped>\n    .dataframe tbody tr th:only-of-type {\n        vertical-align: middle;\n    }\n\n    .dataframe tbody tr th {\n        vertical-align: top;\n    }\n\n    .dataframe thead th {\n        text-align: right;\n    }\n</style>\n<table border=\"1\" class=\"dataframe\">\n  <thead>\n    <tr style=\"text-align: right;\">\n      <th></th>\n      <th>class1</th>\n      <th>class2</th>\n      <th>class3</th>\n    </tr>\n  </thead>\n  <tbody>\n    <tr>\n      <td>0</td>\n      <td>0</td>\n      <td>0</td>\n      <td>1</td>\n    </tr>\n    <tr>\n      <td>1</td>\n      <td>0</td>\n      <td>1</td>\n      <td>0</td>\n    </tr>\n    <tr>\n      <td>2</td>\n      <td>1</td>\n      <td>0</td>\n      <td>0</td>\n    </tr>\n    <tr>\n      <td>3</td>\n      <td>0</td>\n      <td>0</td>\n      <td>1</td>\n    </tr>\n    <tr>\n      <td>4</td>\n      <td>1</td>\n      <td>0</td>\n      <td>0</td>\n    </tr>\n    <tr>\n      <td>...</td>\n      <td>...</td>\n      <td>...</td>\n      <td>...</td>\n    </tr>\n    <tr>\n      <td>70</td>\n      <td>0</td>\n      <td>0</td>\n      <td>1</td>\n    </tr>\n    <tr>\n      <td>71</td>\n      <td>0</td>\n      <td>1</td>\n      <td>0</td>\n    </tr>\n    <tr>\n      <td>72</td>\n      <td>1</td>\n      <td>0</td>\n      <td>0</td>\n    </tr>\n    <tr>\n      <td>73</td>\n      <td>1</td>\n      <td>0</td>\n      <td>0</td>\n    </tr>\n    <tr>\n      <td>74</td>\n      <td>0</td>\n      <td>1</td>\n      <td>0</td>\n    </tr>\n  </tbody>\n</table>\n<p>75 rows × 3 columns</p>\n</div>"
     },
     "metadata": {},
     "output_type": "execute_result",
     "execution_count": 5
    }
   ],
   "source": [
    "y_test"
   ]
  },
  {
   "cell_type": "code",
   "execution_count": 6,
   "metadata": {
    "pycharm": {
     "is_executing": false
    }
   },
   "outputs": [
    {
     "data": {
      "text/plain": "    class1  class2  class3\n0        0       0       1\n1        0       0       0\n2        1       0       0\n3        0       0       1\n4        0       0       0\n..     ...     ...     ...\n70       0       0       1\n71       0       0       0\n72       1       0       0\n73       1       0       0\n74       0       0       0\n\n[75 rows x 3 columns]",
      "text/html": "<div>\n<style scoped>\n    .dataframe tbody tr th:only-of-type {\n        vertical-align: middle;\n    }\n\n    .dataframe tbody tr th {\n        vertical-align: top;\n    }\n\n    .dataframe thead th {\n        text-align: right;\n    }\n</style>\n<table border=\"1\" class=\"dataframe\">\n  <thead>\n    <tr style=\"text-align: right;\">\n      <th></th>\n      <th>class1</th>\n      <th>class2</th>\n      <th>class3</th>\n    </tr>\n  </thead>\n  <tbody>\n    <tr>\n      <td>0</td>\n      <td>0</td>\n      <td>0</td>\n      <td>1</td>\n    </tr>\n    <tr>\n      <td>1</td>\n      <td>0</td>\n      <td>0</td>\n      <td>0</td>\n    </tr>\n    <tr>\n      <td>2</td>\n      <td>1</td>\n      <td>0</td>\n      <td>0</td>\n    </tr>\n    <tr>\n      <td>3</td>\n      <td>0</td>\n      <td>0</td>\n      <td>1</td>\n    </tr>\n    <tr>\n      <td>4</td>\n      <td>0</td>\n      <td>0</td>\n      <td>0</td>\n    </tr>\n    <tr>\n      <td>...</td>\n      <td>...</td>\n      <td>...</td>\n      <td>...</td>\n    </tr>\n    <tr>\n      <td>70</td>\n      <td>0</td>\n      <td>0</td>\n      <td>1</td>\n    </tr>\n    <tr>\n      <td>71</td>\n      <td>0</td>\n      <td>0</td>\n      <td>0</td>\n    </tr>\n    <tr>\n      <td>72</td>\n      <td>1</td>\n      <td>0</td>\n      <td>0</td>\n    </tr>\n    <tr>\n      <td>73</td>\n      <td>1</td>\n      <td>0</td>\n      <td>0</td>\n    </tr>\n    <tr>\n      <td>74</td>\n      <td>0</td>\n      <td>0</td>\n      <td>0</td>\n    </tr>\n  </tbody>\n</table>\n<p>75 rows × 3 columns</p>\n</div>"
     },
     "metadata": {},
     "output_type": "execute_result",
     "execution_count": 6
    }
   ],
   "source": [
    "y_pred     # 预测标签"
   ]
  },
  {
   "cell_type": "code",
   "execution_count": 7,
   "metadata": {
    "pycharm": {
     "is_executing": false
    }
   },
   "outputs": [
    {
     "data": {
      "text/plain": "      class1    class2    class3\n0  -0.763011 -0.364825  0.123864\n1  -0.202245 -0.631444 -0.166123\n2   0.118015 -0.802631 -0.320559\n3  -0.907809 -0.123955  0.021998\n4  -0.011162 -0.279135 -0.718892\n..       ...       ...       ...\n70 -0.414670 -0.637059  0.048387\n71 -0.304362 -0.084254 -0.618647\n72  0.188697 -0.887959 -0.297131\n73  0.249662 -0.805075 -0.443245\n74 -0.399805 -0.290168 -0.304134\n\n[75 rows x 3 columns]",
      "text/html": "<div>\n<style scoped>\n    .dataframe tbody tr th:only-of-type {\n        vertical-align: middle;\n    }\n\n    .dataframe tbody tr th {\n        vertical-align: top;\n    }\n\n    .dataframe thead th {\n        text-align: right;\n    }\n</style>\n<table border=\"1\" class=\"dataframe\">\n  <thead>\n    <tr style=\"text-align: right;\">\n      <th></th>\n      <th>class1</th>\n      <th>class2</th>\n      <th>class3</th>\n    </tr>\n  </thead>\n  <tbody>\n    <tr>\n      <td>0</td>\n      <td>-0.763011</td>\n      <td>-0.364825</td>\n      <td>0.123864</td>\n    </tr>\n    <tr>\n      <td>1</td>\n      <td>-0.202245</td>\n      <td>-0.631444</td>\n      <td>-0.166123</td>\n    </tr>\n    <tr>\n      <td>2</td>\n      <td>0.118015</td>\n      <td>-0.802631</td>\n      <td>-0.320559</td>\n    </tr>\n    <tr>\n      <td>3</td>\n      <td>-0.907809</td>\n      <td>-0.123955</td>\n      <td>0.021998</td>\n    </tr>\n    <tr>\n      <td>4</td>\n      <td>-0.011162</td>\n      <td>-0.279135</td>\n      <td>-0.718892</td>\n    </tr>\n    <tr>\n      <td>...</td>\n      <td>...</td>\n      <td>...</td>\n      <td>...</td>\n    </tr>\n    <tr>\n      <td>70</td>\n      <td>-0.414670</td>\n      <td>-0.637059</td>\n      <td>0.048387</td>\n    </tr>\n    <tr>\n      <td>71</td>\n      <td>-0.304362</td>\n      <td>-0.084254</td>\n      <td>-0.618647</td>\n    </tr>\n    <tr>\n      <td>72</td>\n      <td>0.188697</td>\n      <td>-0.887959</td>\n      <td>-0.297131</td>\n    </tr>\n    <tr>\n      <td>73</td>\n      <td>0.249662</td>\n      <td>-0.805075</td>\n      <td>-0.443245</td>\n    </tr>\n    <tr>\n      <td>74</td>\n      <td>-0.399805</td>\n      <td>-0.290168</td>\n      <td>-0.304134</td>\n    </tr>\n  </tbody>\n</table>\n<p>75 rows × 3 columns</p>\n</div>"
     },
     "metadata": {},
     "output_type": "execute_result",
     "execution_count": 7
    }
   ],
   "source": [
    "y_score"
   ]
  },
  {
   "cell_type": "code",
   "execution_count": 8,
   "metadata": {
    "pycharm": {
     "is_executing": false
    }
   },
   "outputs": [],
   "source": [
    "###定义初始变量，请将fpr tpr rpc auc 定义成 dict型 ###\n",
    "# label = fpr trp\n",
    "n_classes = 3\n",
    "fpr = dict()\n",
    "tpr = dict()\n",
    "roc_auc = dict()"
   ]
  },
  {
   "cell_type": "code",
   "execution_count": 9,
   "metadata": {
    "pycharm": {
     "is_executing": false
    }
   },
   "outputs": [],
   "source": [
    "# 利用一个简单循环 和 roc_curve 函数roc_curve(y_true, y_score, pos_label=None, sample_weight=None, drop_intermediate=True)\n",
    "# 其中 y_true是 样本的真实标签\n",
    "# y_score 是 样本的预测得分\n",
    "# labels：是所给出的类别，通过这个可对类别进行选择\n",
    "# 提示 利用pandas包 操作时 可以利用 pandas.iloc\n",
    "\n",
    "for i in range(n_classes):\n",
    "    fpr[i], tpr[i], _ = roc_curve(y_test.iloc[:, i], y_score.iloc[:, i])   \n",
    "    roc_auc[i] = auc(fpr[i], tpr[i])"
   ]
  },
  {
   "cell_type": "code",
   "execution_count": 10,
   "metadata": {
    "pycharm": {
     "is_executing": false
    }
   },
   "outputs": [
    {
     "data": {
      "text/plain": "<Figure size 432x288 with 1 Axes>",
      "image/png": "[encoded data removed]"
     },
     "metadata": {
      "needs_background": "light"
     },
     "output_type": "display_data"
    }
   ],
   "source": [
    "##利用循环 打印出上述fpr tpr 生成roc曲线\n",
    "colors = cycle(['aqua', 'darkorange', 'cornflowerblue'])\n",
    "\n",
    "for i, color in zip(range(n_classes), colors):\n",
    "    plt.plot(fpr[i],tpr[i] , color = color ,\n",
    "             label='ROC curve of class {0} (area = {1:0.2f})'\n",
    "             ''.format(i, roc_auc[i]))\n",
    "    \n",
    "########################################\n",
    "lw = 2   # 虚线的大小\n",
    "plt.plot([0, 1], [0, 1], color='navy', lw=lw, linestyle='--')\n",
    "plt.xlim([0.0, 1.0])\n",
    "plt.ylim([0.0, 1.05])\n",
    "\n",
    "plt.xlabel('False Positive Rate')\n",
    "plt.ylabel('True Positive Rate')\n",
    "plt.title('Receiver operating characteristic example')\n",
    "plt.legend(loc=\"lower right\")     # 调用legend函数设置图例标签\n",
    "plt.show()"
   ]
  },
  {
   "cell_type": "code",
   "execution_count": 11,
   "metadata": {
    "pycharm": {
     "is_executing": false
    }
   },
   "outputs": [],
   "source": [
    "#将 one-hot标签 转化为 list形式的3值标签 pred_class已经给出 请对true_class作出\n",
    "pred_class= []\n",
    "for i in range(len(y_pred)):\n",
    "    if y_pred.iloc[i,0] == 1:\n",
    "        pred_class.append('label_1')\n",
    "    if y_pred.iloc[i,1] == 1:\n",
    "        pred_class.append('label_2')\n",
    "    if y_pred.iloc[i,2] == 1:\n",
    "        pred_class.append('label_3')\n",
    "    if y_pred.iloc[i,0] == y_pred.iloc[i,1] == y_pred.iloc[i,2] == 0:\n",
    "        pred_class.append('no_class')       \n",
    "pred_class\n",
    "\n",
    "true_class= []\n",
    "for i in range(len(y_test)):\n",
    "    if y_test.iloc[i,0] == 1:\n",
    "        true_class.append('label_1')\n",
    "    if y_test.iloc[i,1] == 1:\n",
    "        true_class.append('label_2')\n",
    "    if y_test.iloc[i,2] == 1:\n",
    "        true_class.append('label_3')\n",
    "    \n",
    "\n"
   ]
  },
  {
   "cell_type": "code",
   "execution_count": 12,
   "metadata": {
    "pycharm": {
     "is_executing": false
    }
   },
   "outputs": [
    {
     "data": {
      "text/plain": "Text(0.5, 14.09375, 'Predicted label')"
     },
     "metadata": {},
     "output_type": "execute_result",
     "execution_count": 12
    },
    {
     "data": {
      "text/plain": "<Figure size 396x288 with 2 Axes>",
      "image/png": "[encoded data removed]"
     },
     "metadata": {
      "needs_background": "light"
     },
     "output_type": "display_data"
    }
   ],
   "source": [
    "##利用confusion_matrix函数 生成混淆矩阵 confusion_matrix(y_true, y_pred, labels=None, sample_weight=None)[source]¶\n",
    "cm = confusion_matrix(true_class,pred_class)\n",
    "cm_df = pd.DataFrame(cm,\n",
    "                     index = ['label_1','label_2','label_3','noclass'],    # Y轴的轴标\n",
    "                     columns = ['label_1','label_2','label_3','noclass'])  # X轴的轴标\n",
    "plt.figure(figsize=(5.5,4))\n",
    "sns.heatmap(cm_df, annot=True)    # 二维数组热力图例\n",
    "\n",
    "plt.title('example of confusion matrix')\n",
    "plt.ylabel('True label')\n",
    "plt.xlabel('Predicted label')"
   ]
  },
  {
   "cell_type": "code",
   "execution_count": null,
   "metadata": {},
   "outputs": [],
   "source": [
    "### 问题\n",
    "### 上图中应该如何计算 TP TN FP FN\n",
    "#  TP： 4\n",
    "#  TN:\n",
    "#  FP: 2 + 2 = 4\n",
    "#  FN:\n",
    "# Ture lable_1数量 = 12+1=13\n",
    "\n",
    "#   纵轴：  TPR = TP / (TP+FN=P) \n",
    "#   横轴： FPR = FP / (FP+TN=N)"
   ]
  }
 ],
 "metadata": {
  "kernelspec": {
   "display_name": "Python 3",
   "language": "python",
   "name": "python3"
  },
  "language_info": {
   "codemirror_mode": {
    "name": "ipython",
    "version": 3
   },
   "file_extension": ".py",
   "mimetype": "text/x-python",
   "name": "python",
   "nbconvert_exporter": "python",
   "pygments_lexer": "ipython3",
   "version": "3.7.3"
  },
  "pycharm": {
   "stem_cell": {
    "cell_type": "raw",
    "source": [],
    "metadata": {
     "collapsed": false
    }
   }
  }
 },
 "nbformat": 4,
 "nbformat_minor": 2
}