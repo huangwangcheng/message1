{
 "cells": [
  {
   "cell_type": "code",
   "execution_count": 2,
   "metadata": {
    "collapsed": true,
    "pycharm": {
     "is_executing": false
    }
   },
   "outputs": [],
   "source": [
    "from collections import defaultdict\n",
    "import math\n",
    "def defItemIndex(DictUser):\n",
    "    DictItem=defaultdict(defaultdict)  ##遍历每个⽤户\n",
    "    for key in DictUser:  ##遍历⽤户k的购买记录\n",
    "        for i in DictUser[key]:\n",
    "            DictItem[i[0]][key]=i[1]\n",
    "    return DictItem"
   ]
  },
  {
   "cell_type": "code",
   "execution_count": 3,
   "outputs": [],
   "source": [
    "def defUserSimilarity(DictItem):\n",
    "    N=dict() #⽤户购买的数量\n",
    "    C=defaultdict(defaultdict)\n",
    "    W=defaultdict(defaultdict)\n",
    "    for key in DictItem:   ##遍历每个物品\n",
    "        for i in DictItem[key]:  ##遍历⽤户k购买过的物品\n",
    "            if i[0] not in N.keys():  #i[0]表示⽤户的id ，如果未计算过，则初始化为0\n",
    "                N[i[0]]=0\n",
    "                N[i[0]]+=1\n",
    "            for j in DictItem[key]:   ## (i,j)是物品k同时被购买的⽤户两两匹配对\n",
    "                if i(0)==j(0):\n",
    "                    continue\n",
    "                if j[0] not in C[i[0]].keys():\n",
    "                    C[i[0]][j[0]]=0  #C[i[0]][j[0]]表示⽤户i和j购买同样物品的数量\n",
    "                    C[i[0]][j[0]]+=1\n",
    "    for i,related_user in C.items():\n",
    "        for j,cij in related_user.items():\n",
    "            W[i][j]=cij/math.sqrt(N[i]*N[j])\n",
    "    return W\n",
    "\n"
   ],
   "metadata": {
    "collapsed": false,
    "pycharm": {
     "name": "#%%\n",
     "is_executing": false
    }
   }
  }
 ],
 "metadata": {
  "kernelspec": {
   "display_name": "Python 3",
   "language": "python",
   "name": "python3"
  },
  "language_info": {
   "codemirror_mode": {
    "name": "ipython",
    "version": 2
   },
   "file_extension": ".py",
   "mimetype": "text/x-python",
   "name": "python",
   "nbconvert_exporter": "python",
   "pygments_lexer": "ipython2",
   "version": "2.7.6"
  },
  "pycharm": {
   "stem_cell": {
    "cell_type": "raw",
    "source": [],
    "metadata": {
     "collapsed": false
    }
   }
  }
 },
 "nbformat": 4,
 "nbformat_minor": 0
}