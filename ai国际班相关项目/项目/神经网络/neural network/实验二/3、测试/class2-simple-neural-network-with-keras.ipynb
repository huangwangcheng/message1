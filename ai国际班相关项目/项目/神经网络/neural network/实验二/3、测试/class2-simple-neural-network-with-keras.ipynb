{
  "cells": [
    {
      "cell_type": "code",
      "execution_count": 5,
      "metadata": {
        "_cell_guid": "b1076dfc-b9ad-4769-8c92-a6c4dae69d19",
        "_uuid": "8f2839f25d086af736a60e9eeb907d3b93b6e0e5",
        "pycharm": {
          "is_executing": false
        }
      },
      "outputs": [
        {
          "name": "stdout",
          "text": [
            "[\u0027bike-sharing-dataset\u0027, \u0027data.csv\u0027, \u0027heart.csv\u0027]\n[\u0027day.csv\u0027, \u0027hour.csv\u0027]\n"
          ],
          "output_type": "stream"
        }
      ],
      "source": "# This Python 3 environment comes with many helpful analytics libraries installed\n# It is defined by the kaggle/python docker image: https://github.com/kaggle/docker-python\n# For example, here\u0027s several helpful packages to load in \n\nimport numpy as np # linear algebra\nimport pandas as pd # data processing, CSV file I/O (e.g. pd.read_csv)\n\n# Input data files are available in the \"../input/\" directory.\n# For example, running this (by clicking run or pressing Shift+Enter) will list the files in the input directory\n\nimport os\n\n#####################请修改成自己存储数据的路径名####################################\nprint(os.listdir(\"C:/Users/Lenovo/Desktop/AI/nurual network/实验二/1、数据\"))\nprint(os.listdir(\"C:/Users/Lenovo/Desktop/AI/nurual network/实验二/1、数据/bike-sharing-dataset\"))\n#####################请修改成自己存储数据的路径名####################################\n\n# Any results you write to the current directory are saved as output."
    },
    {
      "cell_type": "code",
      "execution_count": 6,
      "metadata": {
        "_uuid": "a923d8df94956ec5276242dd75075ff4d3932fd0",
        "pycharm": {
          "is_executing": false
        }
      },
      "outputs": [],
      "source": "#############################填写：将hour.csv文件读入到raw###########################################\nraw \u003d pd.read_csv(\"C:/Users/Lenovo/Desktop/AI/nurual network/实验二/1、数据/bike-sharing-dataset/hour.csv\")\n\n#############################填写：将hour.csv文件读入到raw###########################################"
    },
    {
      "cell_type": "markdown",
      "metadata": {
        "_uuid": "78daaa1cd7e68a8af43c0fe7fd871288f5cfc14e",
        "pycharm": {}
      },
      "source": [
        "## Now, we are going to explore that data and understand it. The description reads as this\n",
        "\n",
        "Both hour.csv and day.csv have the following fields, except hr which is not available in day.csv\n",
        "\t\n",
        "\t- instant: record index\n",
        "\t- dteday : date\n",
        "\t- season : season (1:springer, 2:summer, 3:fall, 4:winter)\n",
        "\t- yr : year (0: 2011, 1:2012)\n",
        "\t- mnth : month ( 1 to 12)\n",
        "\t- hr : hour (0 to 23)\n",
        "\t- holiday : weather day is holiday or not (extracted from http://dchr.dc.gov/page/holiday-schedule)\n",
        "\t- weekday : day of the week\n",
        "\t- workingday : if day is neither weekend nor holiday is 1, otherwise is 0.\n",
        "\t+ weathersit : \n",
        "\t\t- 1: Clear, Few clouds, Partly cloudy, Partly cloudy\n",
        "\t\t- 2: Mist + Cloudy, Mist + Broken clouds, Mist + Few clouds, Mist\n",
        "\t\t- 3: Light Snow, Light Rain + Thunderstorm + Scattered clouds, Light Rain + Scattered clouds\n",
        "\t\t- 4: Heavy Rain + Ice Pallets + Thunderstorm + Mist, Snow + Fog\n",
        "\t- temp : Normalized temperature in Celsius. The values are divided to 41 (max)\n",
        "\t- atemp: Normalized feeling temperature in Celsius. The values are divided to 50 (max)\n",
        "\t- hum: Normalized humidity. The values are divided to 100 (max)\n",
        "\t- windspeed: Normalized wind speed. The values are divided to 67 (max)\n",
        "\t- casual: count of casual users\n",
        "\t- registered: count of registered users\n",
        "\t- cnt: count of total rental bikes including both casual and registered"
      ]
    },
    {
      "cell_type": "code",
      "execution_count": 7,
      "metadata": {
        "_uuid": "d8344034f3aed7ee9f56e1cced3ddfd007b085e1",
        "pycharm": {
          "is_executing": false
        }
      },
      "outputs": [
        {
          "data": {
            "text/plain": "   instant      dteday  season  yr  mnth  hr  holiday  weekday  workingday  \\\n0        1  2011-01-01       1   0     1   0        0        6           0   \n1        2  2011-01-01       1   0     1   1        0        6           0   \n2        3  2011-01-01       1   0     1   2        0        6           0   \n3        4  2011-01-01       1   0     1   3        0        6           0   \n4        5  2011-01-01       1   0     1   4        0        6           0   \n\n   weathersit  temp   atemp   hum  windspeed  casual  registered  cnt  \n0           1  0.24  0.2879  0.81        0.0       3          13   16  \n1           1  0.22  0.2727  0.80        0.0       8          32   40  \n2           1  0.22  0.2727  0.80        0.0       5          27   32  \n3           1  0.24  0.2879  0.75        0.0       3          10   13  \n4           1  0.24  0.2879  0.75        0.0       0           1    1  ",
            "text/html": "\u003cdiv\u003e\n\u003cstyle scoped\u003e\n    .dataframe tbody tr th:only-of-type {\n        vertical-align: middle;\n    }\n\n    .dataframe tbody tr th {\n        vertical-align: top;\n    }\n\n    .dataframe thead th {\n        text-align: right;\n    }\n\u003c/style\u003e\n\u003ctable border\u003d\"1\" class\u003d\"dataframe\"\u003e\n  \u003cthead\u003e\n    \u003ctr style\u003d\"text-align: right;\"\u003e\n      \u003cth\u003e\u003c/th\u003e\n      \u003cth\u003einstant\u003c/th\u003e\n      \u003cth\u003edteday\u003c/th\u003e\n      \u003cth\u003eseason\u003c/th\u003e\n      \u003cth\u003eyr\u003c/th\u003e\n      \u003cth\u003emnth\u003c/th\u003e\n      \u003cth\u003ehr\u003c/th\u003e\n      \u003cth\u003eholiday\u003c/th\u003e\n      \u003cth\u003eweekday\u003c/th\u003e\n      \u003cth\u003eworkingday\u003c/th\u003e\n      \u003cth\u003eweathersit\u003c/th\u003e\n      \u003cth\u003etemp\u003c/th\u003e\n      \u003cth\u003eatemp\u003c/th\u003e\n      \u003cth\u003ehum\u003c/th\u003e\n      \u003cth\u003ewindspeed\u003c/th\u003e\n      \u003cth\u003ecasual\u003c/th\u003e\n      \u003cth\u003eregistered\u003c/th\u003e\n      \u003cth\u003ecnt\u003c/th\u003e\n    \u003c/tr\u003e\n  \u003c/thead\u003e\n  \u003ctbody\u003e\n    \u003ctr\u003e\n      \u003cth\u003e0\u003c/th\u003e\n      \u003ctd\u003e1\u003c/td\u003e\n      \u003ctd\u003e2011-01-01\u003c/td\u003e\n      \u003ctd\u003e1\u003c/td\u003e\n      \u003ctd\u003e0\u003c/td\u003e\n      \u003ctd\u003e1\u003c/td\u003e\n      \u003ctd\u003e0\u003c/td\u003e\n      \u003ctd\u003e0\u003c/td\u003e\n      \u003ctd\u003e6\u003c/td\u003e\n      \u003ctd\u003e0\u003c/td\u003e\n      \u003ctd\u003e1\u003c/td\u003e\n      \u003ctd\u003e0.24\u003c/td\u003e\n      \u003ctd\u003e0.2879\u003c/td\u003e\n      \u003ctd\u003e0.81\u003c/td\u003e\n      \u003ctd\u003e0.0\u003c/td\u003e\n      \u003ctd\u003e3\u003c/td\u003e\n      \u003ctd\u003e13\u003c/td\u003e\n      \u003ctd\u003e16\u003c/td\u003e\n    \u003c/tr\u003e\n    \u003ctr\u003e\n      \u003cth\u003e1\u003c/th\u003e\n      \u003ctd\u003e2\u003c/td\u003e\n      \u003ctd\u003e2011-01-01\u003c/td\u003e\n      \u003ctd\u003e1\u003c/td\u003e\n      \u003ctd\u003e0\u003c/td\u003e\n      \u003ctd\u003e1\u003c/td\u003e\n      \u003ctd\u003e1\u003c/td\u003e\n      \u003ctd\u003e0\u003c/td\u003e\n      \u003ctd\u003e6\u003c/td\u003e\n      \u003ctd\u003e0\u003c/td\u003e\n      \u003ctd\u003e1\u003c/td\u003e\n      \u003ctd\u003e0.22\u003c/td\u003e\n      \u003ctd\u003e0.2727\u003c/td\u003e\n      \u003ctd\u003e0.80\u003c/td\u003e\n      \u003ctd\u003e0.0\u003c/td\u003e\n      \u003ctd\u003e8\u003c/td\u003e\n      \u003ctd\u003e32\u003c/td\u003e\n      \u003ctd\u003e40\u003c/td\u003e\n    \u003c/tr\u003e\n    \u003ctr\u003e\n      \u003cth\u003e2\u003c/th\u003e\n      \u003ctd\u003e3\u003c/td\u003e\n      \u003ctd\u003e2011-01-01\u003c/td\u003e\n      \u003ctd\u003e1\u003c/td\u003e\n      \u003ctd\u003e0\u003c/td\u003e\n      \u003ctd\u003e1\u003c/td\u003e\n      \u003ctd\u003e2\u003c/td\u003e\n      \u003ctd\u003e0\u003c/td\u003e\n      \u003ctd\u003e6\u003c/td\u003e\n      \u003ctd\u003e0\u003c/td\u003e\n      \u003ctd\u003e1\u003c/td\u003e\n      \u003ctd\u003e0.22\u003c/td\u003e\n      \u003ctd\u003e0.2727\u003c/td\u003e\n      \u003ctd\u003e0.80\u003c/td\u003e\n      \u003ctd\u003e0.0\u003c/td\u003e\n      \u003ctd\u003e5\u003c/td\u003e\n      \u003ctd\u003e27\u003c/td\u003e\n      \u003ctd\u003e32\u003c/td\u003e\n    \u003c/tr\u003e\n    \u003ctr\u003e\n      \u003cth\u003e3\u003c/th\u003e\n      \u003ctd\u003e4\u003c/td\u003e\n      \u003ctd\u003e2011-01-01\u003c/td\u003e\n      \u003ctd\u003e1\u003c/td\u003e\n      \u003ctd\u003e0\u003c/td\u003e\n      \u003ctd\u003e1\u003c/td\u003e\n      \u003ctd\u003e3\u003c/td\u003e\n      \u003ctd\u003e0\u003c/td\u003e\n      \u003ctd\u003e6\u003c/td\u003e\n      \u003ctd\u003e0\u003c/td\u003e\n      \u003ctd\u003e1\u003c/td\u003e\n      \u003ctd\u003e0.24\u003c/td\u003e\n      \u003ctd\u003e0.2879\u003c/td\u003e\n      \u003ctd\u003e0.75\u003c/td\u003e\n      \u003ctd\u003e0.0\u003c/td\u003e\n      \u003ctd\u003e3\u003c/td\u003e\n      \u003ctd\u003e10\u003c/td\u003e\n      \u003ctd\u003e13\u003c/td\u003e\n    \u003c/tr\u003e\n    \u003ctr\u003e\n      \u003cth\u003e4\u003c/th\u003e\n      \u003ctd\u003e5\u003c/td\u003e\n      \u003ctd\u003e2011-01-01\u003c/td\u003e\n      \u003ctd\u003e1\u003c/td\u003e\n      \u003ctd\u003e0\u003c/td\u003e\n      \u003ctd\u003e1\u003c/td\u003e\n      \u003ctd\u003e4\u003c/td\u003e\n      \u003ctd\u003e0\u003c/td\u003e\n      \u003ctd\u003e6\u003c/td\u003e\n      \u003ctd\u003e0\u003c/td\u003e\n      \u003ctd\u003e1\u003c/td\u003e\n      \u003ctd\u003e0.24\u003c/td\u003e\n      \u003ctd\u003e0.2879\u003c/td\u003e\n      \u003ctd\u003e0.75\u003c/td\u003e\n      \u003ctd\u003e0.0\u003c/td\u003e\n      \u003ctd\u003e0\u003c/td\u003e\n      \u003ctd\u003e1\u003c/td\u003e\n      \u003ctd\u003e1\u003c/td\u003e\n    \u003c/tr\u003e\n  \u003c/tbody\u003e\n\u003c/table\u003e\n\u003c/div\u003e"
          },
          "metadata": {},
          "output_type": "execute_result",
          "execution_count": 7
        }
      ],
      "source": "#####################填写：实现功能：查看读入数据的前5行###################################\nraw.head()\n\n\n\n#####################填写：实现功能：查看读入数据的前5行####################################"
    },
    {
      "cell_type": "markdown",
      "metadata": {
        "_uuid": "9e9527a1561fced8edc9e65b2a4007cf926e4a99",
        "pycharm": {}
      },
      "source": [
        "## Lets get a deeper look"
      ]
    },
    {
      "cell_type": "code",
      "execution_count": 4,
      "metadata": {
        "_uuid": "a54fe7e4c8950916048d5ef5f68913a533575446",
        "pycharm": {}
      },
      "outputs": [
        {
          "data": {
            "text/plain": [
              "Index([\u0027instant\u0027, \u0027dteday\u0027, \u0027season\u0027, \u0027yr\u0027, \u0027mnth\u0027, \u0027hr\u0027, \u0027holiday\u0027, \u0027weekday\u0027,\n",
              "       \u0027workingday\u0027, \u0027weathersit\u0027, \u0027temp\u0027, \u0027atemp\u0027, \u0027hum\u0027, \u0027windspeed\u0027,\n",
              "       \u0027casual\u0027, \u0027registered\u0027, \u0027cnt\u0027],\n",
              "      dtype\u003d\u0027object\u0027)"
            ]
          },
          "execution_count": 4,
          "metadata": {},
          "output_type": "execute_result"
        }
      ],
      "source": [
        "raw.columns"
      ]
    },
    {
      "cell_type": "markdown",
      "metadata": {
        "_uuid": "ae30fc288b0a0a2d75974e2c3da23c76673087f4",
        "pycharm": {}
      },
      "source": [
        "##  Lets check the categorical variables now.\n",
        "\n",
        "### We have some variables such as the week days in which we do NOT really want to use numbers, but we just simply want to denotate whether or not a bicycle was used in a given day (Monday, Tuesday). At the moment that is done by assigning to the column \"weekday\" a value between 0 and 6, we want to change that... lets use dummy variables"
      ]
    },
    {
      "cell_type": "code",
      "execution_count": 11,
      "metadata": {
        "_uuid": "7c29a217af92318ff60976f6e5362591e8fe140c",
        "pycharm": {
          "is_executing": false
        }
      },
      "outputs": [],
      "source": "\ndef generate_dummies(df, dummy_column):\n    \n    #####################填写：实现功能：将dummy_column中的特征转变成one-hot特征###################################\n    dummies \u003d pd.get_dummies(df[dummy_column],prefix\u003ddummy_column)\n    \n    \n    #####################填写：实现功能：将dummy_columns中的特征转变成one-hot特征####################################\n    \n    df \u003d pd.concat([df, dummies], axis\u003d1)###############将转变后的特征连接到df之后#################\n    return df\n\nX \u003d pd.DataFrame.copy(raw)\ndummy_columns \u003d [\"season\",     # season (1:springer, 2:summer, 3:fall, 4:winter)\n                 \"yr\",          # year (0: 2011, 1:2012)\n                 \"mnth\",        # month ( 1 to 12)\n                 \"hr\",          # hour (0 to 23)\n                 \"weekday\",     # weekday : day of the week\n                 \"weathersit\"   # weathersit : \n                                 # - 1: Clear, Few clouds, Partly cloudy, Partly cloudy\n                                 # - 2: Mist + Cloudy, Mist + Broken clouds, Mist + Few clouds, Mist\n                                 # - 3: Light Snow, Light Rain + Thunderstorm + Scattered clouds, Light Rain + Scattered clouds\n                                 # - 4: Heavy Rain + Ice Pallets + Thunderstorm + Mist, Snow + Fog\n                ]\nfor dummy_column in dummy_columns:\n    X \u003d generate_dummies(X, dummy_column)"
    },
    {
      "cell_type": "code",
      "execution_count": 33,
      "metadata": {
        "_uuid": "7a7e8aafb0fcc52000936f93cbaed97715a75386",
        "pycharm": {
          "is_executing": false
        }
      },
      "outputs": [
        {
          "data": {
            "text/plain": "   instant      dteday  holiday  workingday  temp   atemp   hum  windspeed  \\\n0        1  2011-01-01        0           0  0.24  0.2879  0.81        0.0   \n1        2  2011-01-01        0           0  0.22  0.2727  0.80        0.0   \n2        3  2011-01-01        0           0  0.22  0.2727  0.80        0.0   \n3        4  2011-01-01        0           0  0.24  0.2879  0.75        0.0   \n4        5  2011-01-01        0           0  0.24  0.2879  0.75        0.0   \n\n   casual  registered  ...  weekday_1  weekday_2  weekday_3  weekday_4  \\\n0       3          13  ...          0          0          0          0   \n1       8          32  ...          0          0          0          0   \n2       5          27  ...          0          0          0          0   \n3       3          10  ...          0          0          0          0   \n4       0           1  ...          0          0          0          0   \n\n   weekday_5  weekday_6  weathersit_1  weathersit_2  weathersit_3  \\\n0          0          1             1             0             0   \n1          0          1             1             0             0   \n2          0          1             1             0             0   \n3          0          1             1             0             0   \n4          0          1             1             0             0   \n\n   weathersit_4  \n0             0  \n1             0  \n2             0  \n3             0  \n4             0  \n\n[5 rows x 64 columns]",
            "text/html": "\u003cdiv\u003e\n\u003cstyle scoped\u003e\n    .dataframe tbody tr th:only-of-type {\n        vertical-align: middle;\n    }\n\n    .dataframe tbody tr th {\n        vertical-align: top;\n    }\n\n    .dataframe thead th {\n        text-align: right;\n    }\n\u003c/style\u003e\n\u003ctable border\u003d\"1\" class\u003d\"dataframe\"\u003e\n  \u003cthead\u003e\n    \u003ctr style\u003d\"text-align: right;\"\u003e\n      \u003cth\u003e\u003c/th\u003e\n      \u003cth\u003einstant\u003c/th\u003e\n      \u003cth\u003edteday\u003c/th\u003e\n      \u003cth\u003eholiday\u003c/th\u003e\n      \u003cth\u003eworkingday\u003c/th\u003e\n      \u003cth\u003etemp\u003c/th\u003e\n      \u003cth\u003eatemp\u003c/th\u003e\n      \u003cth\u003ehum\u003c/th\u003e\n      \u003cth\u003ewindspeed\u003c/th\u003e\n      \u003cth\u003ecasual\u003c/th\u003e\n      \u003cth\u003eregistered\u003c/th\u003e\n      \u003cth\u003e...\u003c/th\u003e\n      \u003cth\u003eweekday_1\u003c/th\u003e\n      \u003cth\u003eweekday_2\u003c/th\u003e\n      \u003cth\u003eweekday_3\u003c/th\u003e\n      \u003cth\u003eweekday_4\u003c/th\u003e\n      \u003cth\u003eweekday_5\u003c/th\u003e\n      \u003cth\u003eweekday_6\u003c/th\u003e\n      \u003cth\u003eweathersit_1\u003c/th\u003e\n      \u003cth\u003eweathersit_2\u003c/th\u003e\n      \u003cth\u003eweathersit_3\u003c/th\u003e\n      \u003cth\u003eweathersit_4\u003c/th\u003e\n    \u003c/tr\u003e\n  \u003c/thead\u003e\n  \u003ctbody\u003e\n    \u003ctr\u003e\n      \u003cth\u003e0\u003c/th\u003e\n      \u003ctd\u003e1\u003c/td\u003e\n      \u003ctd\u003e2011-01-01\u003c/td\u003e\n      \u003ctd\u003e0\u003c/td\u003e\n      \u003ctd\u003e0\u003c/td\u003e\n      \u003ctd\u003e0.24\u003c/td\u003e\n      \u003ctd\u003e0.2879\u003c/td\u003e\n      \u003ctd\u003e0.81\u003c/td\u003e\n      \u003ctd\u003e0.0\u003c/td\u003e\n      \u003ctd\u003e3\u003c/td\u003e\n      \u003ctd\u003e13\u003c/td\u003e\n      \u003ctd\u003e...\u003c/td\u003e\n      \u003ctd\u003e0\u003c/td\u003e\n      \u003ctd\u003e0\u003c/td\u003e\n      \u003ctd\u003e0\u003c/td\u003e\n      \u003ctd\u003e0\u003c/td\u003e\n      \u003ctd\u003e0\u003c/td\u003e\n      \u003ctd\u003e1\u003c/td\u003e\n      \u003ctd\u003e1\u003c/td\u003e\n      \u003ctd\u003e0\u003c/td\u003e\n      \u003ctd\u003e0\u003c/td\u003e\n      \u003ctd\u003e0\u003c/td\u003e\n    \u003c/tr\u003e\n    \u003ctr\u003e\n      \u003cth\u003e1\u003c/th\u003e\n      \u003ctd\u003e2\u003c/td\u003e\n      \u003ctd\u003e2011-01-01\u003c/td\u003e\n      \u003ctd\u003e0\u003c/td\u003e\n      \u003ctd\u003e0\u003c/td\u003e\n      \u003ctd\u003e0.22\u003c/td\u003e\n      \u003ctd\u003e0.2727\u003c/td\u003e\n      \u003ctd\u003e0.80\u003c/td\u003e\n      \u003ctd\u003e0.0\u003c/td\u003e\n      \u003ctd\u003e8\u003c/td\u003e\n      \u003ctd\u003e32\u003c/td\u003e\n      \u003ctd\u003e...\u003c/td\u003e\n      \u003ctd\u003e0\u003c/td\u003e\n      \u003ctd\u003e0\u003c/td\u003e\n      \u003ctd\u003e0\u003c/td\u003e\n      \u003ctd\u003e0\u003c/td\u003e\n      \u003ctd\u003e0\u003c/td\u003e\n      \u003ctd\u003e1\u003c/td\u003e\n      \u003ctd\u003e1\u003c/td\u003e\n      \u003ctd\u003e0\u003c/td\u003e\n      \u003ctd\u003e0\u003c/td\u003e\n      \u003ctd\u003e0\u003c/td\u003e\n    \u003c/tr\u003e\n    \u003ctr\u003e\n      \u003cth\u003e2\u003c/th\u003e\n      \u003ctd\u003e3\u003c/td\u003e\n      \u003ctd\u003e2011-01-01\u003c/td\u003e\n      \u003ctd\u003e0\u003c/td\u003e\n      \u003ctd\u003e0\u003c/td\u003e\n      \u003ctd\u003e0.22\u003c/td\u003e\n      \u003ctd\u003e0.2727\u003c/td\u003e\n      \u003ctd\u003e0.80\u003c/td\u003e\n      \u003ctd\u003e0.0\u003c/td\u003e\n      \u003ctd\u003e5\u003c/td\u003e\n      \u003ctd\u003e27\u003c/td\u003e\n      \u003ctd\u003e...\u003c/td\u003e\n      \u003ctd\u003e0\u003c/td\u003e\n      \u003ctd\u003e0\u003c/td\u003e\n      \u003ctd\u003e0\u003c/td\u003e\n      \u003ctd\u003e0\u003c/td\u003e\n      \u003ctd\u003e0\u003c/td\u003e\n      \u003ctd\u003e1\u003c/td\u003e\n      \u003ctd\u003e1\u003c/td\u003e\n      \u003ctd\u003e0\u003c/td\u003e\n      \u003ctd\u003e0\u003c/td\u003e\n      \u003ctd\u003e0\u003c/td\u003e\n    \u003c/tr\u003e\n    \u003ctr\u003e\n      \u003cth\u003e3\u003c/th\u003e\n      \u003ctd\u003e4\u003c/td\u003e\n      \u003ctd\u003e2011-01-01\u003c/td\u003e\n      \u003ctd\u003e0\u003c/td\u003e\n      \u003ctd\u003e0\u003c/td\u003e\n      \u003ctd\u003e0.24\u003c/td\u003e\n      \u003ctd\u003e0.2879\u003c/td\u003e\n      \u003ctd\u003e0.75\u003c/td\u003e\n      \u003ctd\u003e0.0\u003c/td\u003e\n      \u003ctd\u003e3\u003c/td\u003e\n      \u003ctd\u003e10\u003c/td\u003e\n      \u003ctd\u003e...\u003c/td\u003e\n      \u003ctd\u003e0\u003c/td\u003e\n      \u003ctd\u003e0\u003c/td\u003e\n      \u003ctd\u003e0\u003c/td\u003e\n      \u003ctd\u003e0\u003c/td\u003e\n      \u003ctd\u003e0\u003c/td\u003e\n      \u003ctd\u003e1\u003c/td\u003e\n      \u003ctd\u003e1\u003c/td\u003e\n      \u003ctd\u003e0\u003c/td\u003e\n      \u003ctd\u003e0\u003c/td\u003e\n      \u003ctd\u003e0\u003c/td\u003e\n    \u003c/tr\u003e\n    \u003ctr\u003e\n      \u003cth\u003e4\u003c/th\u003e\n      \u003ctd\u003e5\u003c/td\u003e\n      \u003ctd\u003e2011-01-01\u003c/td\u003e\n      \u003ctd\u003e0\u003c/td\u003e\n      \u003ctd\u003e0\u003c/td\u003e\n      \u003ctd\u003e0.24\u003c/td\u003e\n      \u003ctd\u003e0.2879\u003c/td\u003e\n      \u003ctd\u003e0.75\u003c/td\u003e\n      \u003ctd\u003e0.0\u003c/td\u003e\n      \u003ctd\u003e0\u003c/td\u003e\n      \u003ctd\u003e1\u003c/td\u003e\n      \u003ctd\u003e...\u003c/td\u003e\n      \u003ctd\u003e0\u003c/td\u003e\n      \u003ctd\u003e0\u003c/td\u003e\n      \u003ctd\u003e0\u003c/td\u003e\n      \u003ctd\u003e0\u003c/td\u003e\n      \u003ctd\u003e0\u003c/td\u003e\n      \u003ctd\u003e1\u003c/td\u003e\n      \u003ctd\u003e1\u003c/td\u003e\n      \u003ctd\u003e0\u003c/td\u003e\n      \u003ctd\u003e0\u003c/td\u003e\n      \u003ctd\u003e0\u003c/td\u003e\n    \u003c/tr\u003e\n  \u003c/tbody\u003e\n\u003c/table\u003e\n\u003cp\u003e5 rows × 64 columns\u003c/p\u003e\n\u003c/div\u003e"
          },
          "metadata": {},
          "output_type": "execute_result",
          "execution_count": 33
        }
      ],
      "source": [
        "X.head()"
      ]
    },
    {
      "cell_type": "code",
      "execution_count": 31,
      "metadata": {
        "_uuid": "4fd2865f9ac4a8b1ac1cacf203602460d99b768d",
        "pycharm": {
          "is_executing": false
        }
      },
      "outputs": [
        {
          "data": {
            "text/plain": "Index([\u0027instant\u0027, \u0027dteday\u0027, \u0027holiday\u0027, \u0027workingday\u0027, \u0027temp\u0027, \u0027atemp\u0027, \u0027hum\u0027,\n       \u0027windspeed\u0027, \u0027casual\u0027, \u0027registered\u0027, \u0027cnt\u0027, \u0027season_1\u0027, \u0027season_2\u0027,\n       \u0027season_3\u0027, \u0027season_4\u0027, \u0027yr_0\u0027, \u0027yr_1\u0027, \u0027mnth_1\u0027, \u0027mnth_2\u0027, \u0027mnth_3\u0027,\n       \u0027mnth_4\u0027, \u0027mnth_5\u0027, \u0027mnth_6\u0027, \u0027mnth_7\u0027, \u0027mnth_8\u0027, \u0027mnth_9\u0027, \u0027mnth_10\u0027,\n       \u0027mnth_11\u0027, \u0027mnth_12\u0027, \u0027hr_0\u0027, \u0027hr_1\u0027, \u0027hr_2\u0027, \u0027hr_3\u0027, \u0027hr_4\u0027, \u0027hr_5\u0027,\n       \u0027hr_6\u0027, \u0027hr_7\u0027, \u0027hr_8\u0027, \u0027hr_9\u0027, \u0027hr_10\u0027, \u0027hr_11\u0027, \u0027hr_12\u0027, \u0027hr_13\u0027,\n       \u0027hr_14\u0027, \u0027hr_15\u0027, \u0027hr_16\u0027, \u0027hr_17\u0027, \u0027hr_18\u0027, \u0027hr_19\u0027, \u0027hr_20\u0027, \u0027hr_21\u0027,\n       \u0027hr_22\u0027, \u0027hr_23\u0027, \u0027weekday_0\u0027, \u0027weekday_1\u0027, \u0027weekday_2\u0027, \u0027weekday_3\u0027,\n       \u0027weekday_4\u0027, \u0027weekday_5\u0027, \u0027weekday_6\u0027, \u0027weathersit_1\u0027, \u0027weathersit_2\u0027,\n       \u0027weathersit_3\u0027, \u0027weathersit_4\u0027],\n      dtype\u003d\u0027object\u0027)"
          },
          "metadata": {},
          "output_type": "execute_result",
          "execution_count": 31
        }
      ],
      "source": [
        "X.columns"
      ]
    },
    {
      "cell_type": "markdown",
      "metadata": {
        "_uuid": "f1b07ae2d7bd1ab4844b248db7b478b5c5d64905",
        "pycharm": {}
      },
      "source": [
        "## Now we need to drop the columns used originally for dummies, notice that now we have weekday_0, weekday_1 ... weekday_6, which represents Sunday to Monday (personal note here!!: I am Spanish and in Spain weekday 0 would be Monday... in English however the first day of the week is Sunday... keep in in mind!)\n",
        "\n",
        "### In any case, despite having weekday_1... weekday_6 we still have the column weekday, which is of no use already, so lets remove it along with the rest of dummy columns"
      ]
    },
    {
      "cell_type": "code",
      "execution_count": 32,
      "metadata": {
        "_uuid": "aded9f182bf21522a7df69c9e771c9ca159f1cd9",
        "pycharm": {
          "is_executing": false
        }
      },
      "outputs": [
        {
          "traceback": [
            "\u001b[1;31m---------------------------------------------------------------------------\u001b[0m",
            "\u001b[1;31mKeyError\u001b[0m                                  Traceback (most recent call last)",
            "\u001b[1;32m~\\Anaconda3\\lib\\site-packages\\pandas\\core\\indexes\\base.py\u001b[0m in \u001b[0;36mget_loc\u001b[1;34m(self, key, method, tolerance)\u001b[0m\n\u001b[0;32m   2656\u001b[0m             \u001b[1;32mtry\u001b[0m\u001b[1;33m:\u001b[0m\u001b[1;33m\u001b[0m\u001b[1;33m\u001b[0m\u001b[0m\n\u001b[1;32m-\u003e 2657\u001b[1;33m                 \u001b[1;32mreturn\u001b[0m \u001b[0mself\u001b[0m\u001b[1;33m.\u001b[0m\u001b[0m_engine\u001b[0m\u001b[1;33m.\u001b[0m\u001b[0mget_loc\u001b[0m\u001b[1;33m(\u001b[0m\u001b[0mkey\u001b[0m\u001b[1;33m)\u001b[0m\u001b[1;33m\u001b[0m\u001b[1;33m\u001b[0m\u001b[0m\n\u001b[0m\u001b[0;32m   2658\u001b[0m             \u001b[1;32mexcept\u001b[0m \u001b[0mKeyError\u001b[0m\u001b[1;33m:\u001b[0m\u001b[1;33m\u001b[0m\u001b[1;33m\u001b[0m\u001b[0m\n",
            "\u001b[1;32mpandas/_libs/index.pyx\u001b[0m in \u001b[0;36mpandas._libs.index.IndexEngine.get_loc\u001b[1;34m()\u001b[0m\n",
            "\u001b[1;32mpandas/_libs/index.pyx\u001b[0m in \u001b[0;36mpandas._libs.index.IndexEngine.get_loc\u001b[1;34m()\u001b[0m\n",
            "\u001b[1;32mpandas/_libs/hashtable_class_helper.pxi\u001b[0m in \u001b[0;36mpandas._libs.hashtable.PyObjectHashTable.get_item\u001b[1;34m()\u001b[0m\n",
            "\u001b[1;32mpandas/_libs/hashtable_class_helper.pxi\u001b[0m in \u001b[0;36mpandas._libs.hashtable.PyObjectHashTable.get_item\u001b[1;34m()\u001b[0m\n",
            "\u001b[1;31mKeyError\u001b[0m: \u0027season\u0027",
            "\nDuring handling of the above exception, another exception occurred:\n",
            "\u001b[1;31mKeyError\u001b[0m                                  Traceback (most recent call last)",
            "\u001b[1;32m\u003cipython-input-32-c4120e1b4e2d\u003e\u001b[0m in \u001b[0;36m\u003cmodule\u003e\u001b[1;34m\u001b[0m\n\u001b[0;32m      1\u001b[0m \u001b[1;32mfor\u001b[0m \u001b[0mdummy_column\u001b[0m \u001b[1;32min\u001b[0m \u001b[0mdummy_columns\u001b[0m\u001b[1;33m:\u001b[0m\u001b[1;33m\u001b[0m\u001b[1;33m\u001b[0m\u001b[0m\n\u001b[0;32m      2\u001b[0m     \u001b[1;31m#####################填写：实现功能：删除X中的第dummy_column列###################################\u001b[0m\u001b[1;33m\u001b[0m\u001b[1;33m\u001b[0m\u001b[1;33m\u001b[0m\u001b[0m\n\u001b[1;32m----\u003e 3\u001b[1;33m    \u001b[1;32mdel\u001b[0m \u001b[0mX\u001b[0m\u001b[1;33m[\u001b[0m\u001b[0mdummy_column\u001b[0m\u001b[1;33m]\u001b[0m\u001b[1;33m\u001b[0m\u001b[1;33m\u001b[0m\u001b[0m\n\u001b[0m\u001b[0;32m      4\u001b[0m \u001b[1;33m\u001b[0m\u001b[0m\n\u001b[0;32m      5\u001b[0m     \u001b[1;31m#####################填写：实现功能：删除X中的第dummy_column列###################################\u001b[0m\u001b[1;33m\u001b[0m\u001b[1;33m\u001b[0m\u001b[1;33m\u001b[0m\u001b[0m\n",
            "\u001b[1;32m~\\Anaconda3\\lib\\site-packages\\pandas\\core\\generic.py\u001b[0m in \u001b[0;36m__delitem__\u001b[1;34m(self, key)\u001b[0m\n\u001b[0;32m   3313\u001b[0m             \u001b[1;31m# there was no match, this call should raise the appropriate\u001b[0m\u001b[1;33m\u001b[0m\u001b[1;33m\u001b[0m\u001b[1;33m\u001b[0m\u001b[0m\n\u001b[0;32m   3314\u001b[0m             \u001b[1;31m# exception:\u001b[0m\u001b[1;33m\u001b[0m\u001b[1;33m\u001b[0m\u001b[1;33m\u001b[0m\u001b[0m\n\u001b[1;32m-\u003e 3315\u001b[1;33m             \u001b[0mself\u001b[0m\u001b[1;33m.\u001b[0m\u001b[0m_data\u001b[0m\u001b[1;33m.\u001b[0m\u001b[0mdelete\u001b[0m\u001b[1;33m(\u001b[0m\u001b[0mkey\u001b[0m\u001b[1;33m)\u001b[0m\u001b[1;33m\u001b[0m\u001b[1;33m\u001b[0m\u001b[0m\n\u001b[0m\u001b[0;32m   3316\u001b[0m \u001b[1;33m\u001b[0m\u001b[0m\n\u001b[0;32m   3317\u001b[0m         \u001b[1;31m# delete from the caches\u001b[0m\u001b[1;33m\u001b[0m\u001b[1;33m\u001b[0m\u001b[1;33m\u001b[0m\u001b[0m\n",
            "\u001b[1;32m~\\Anaconda3\\lib\\site-packages\\pandas\\core\\internals\\managers.py\u001b[0m in \u001b[0;36mdelete\u001b[1;34m(self, item)\u001b[0m\n\u001b[0;32m    983\u001b[0m         \u001b[0mDelete\u001b[0m \u001b[0mselected\u001b[0m \u001b[0mitem\u001b[0m \u001b[1;33m(\u001b[0m\u001b[0mitems\u001b[0m \u001b[1;32mif\u001b[0m \u001b[0mnon\u001b[0m\u001b[1;33m-\u001b[0m\u001b[0munique\u001b[0m\u001b[1;33m)\u001b[0m \u001b[1;32min\u001b[0m\u001b[1;33m-\u001b[0m\u001b[0mplace\u001b[0m\u001b[1;33m.\u001b[0m\u001b[1;33m\u001b[0m\u001b[1;33m\u001b[0m\u001b[0m\n\u001b[0;32m    984\u001b[0m         \"\"\"\n\u001b[1;32m--\u003e 985\u001b[1;33m         \u001b[0mindexer\u001b[0m \u001b[1;33m\u003d\u001b[0m \u001b[0mself\u001b[0m\u001b[1;33m.\u001b[0m\u001b[0mitems\u001b[0m\u001b[1;33m.\u001b[0m\u001b[0mget_loc\u001b[0m\u001b[1;33m(\u001b[0m\u001b[0mitem\u001b[0m\u001b[1;33m)\u001b[0m\u001b[1;33m\u001b[0m\u001b[1;33m\u001b[0m\u001b[0m\n\u001b[0m\u001b[0;32m    986\u001b[0m \u001b[1;33m\u001b[0m\u001b[0m\n\u001b[0;32m    987\u001b[0m         \u001b[0mis_deleted\u001b[0m \u001b[1;33m\u003d\u001b[0m \u001b[0mnp\u001b[0m\u001b[1;33m.\u001b[0m\u001b[0mzeros\u001b[0m\u001b[1;33m(\u001b[0m\u001b[0mself\u001b[0m\u001b[1;33m.\u001b[0m\u001b[0mshape\u001b[0m\u001b[1;33m[\u001b[0m\u001b[1;36m0\u001b[0m\u001b[1;33m]\u001b[0m\u001b[1;33m,\u001b[0m \u001b[0mdtype\u001b[0m\u001b[1;33m\u003d\u001b[0m\u001b[0mnp\u001b[0m\u001b[1;33m.\u001b[0m\u001b[0mbool_\u001b[0m\u001b[1;33m)\u001b[0m\u001b[1;33m\u001b[0m\u001b[1;33m\u001b[0m\u001b[0m\n",
            "\u001b[1;32m~\\Anaconda3\\lib\\site-packages\\pandas\\core\\indexes\\base.py\u001b[0m in \u001b[0;36mget_loc\u001b[1;34m(self, key, method, tolerance)\u001b[0m\n\u001b[0;32m   2657\u001b[0m                 \u001b[1;32mreturn\u001b[0m \u001b[0mself\u001b[0m\u001b[1;33m.\u001b[0m\u001b[0m_engine\u001b[0m\u001b[1;33m.\u001b[0m\u001b[0mget_loc\u001b[0m\u001b[1;33m(\u001b[0m\u001b[0mkey\u001b[0m\u001b[1;33m)\u001b[0m\u001b[1;33m\u001b[0m\u001b[1;33m\u001b[0m\u001b[0m\n\u001b[0;32m   2658\u001b[0m             \u001b[1;32mexcept\u001b[0m \u001b[0mKeyError\u001b[0m\u001b[1;33m:\u001b[0m\u001b[1;33m\u001b[0m\u001b[1;33m\u001b[0m\u001b[0m\n\u001b[1;32m-\u003e 2659\u001b[1;33m                 \u001b[1;32mreturn\u001b[0m \u001b[0mself\u001b[0m\u001b[1;33m.\u001b[0m\u001b[0m_engine\u001b[0m\u001b[1;33m.\u001b[0m\u001b[0mget_loc\u001b[0m\u001b[1;33m(\u001b[0m\u001b[0mself\u001b[0m\u001b[1;33m.\u001b[0m\u001b[0m_maybe_cast_indexer\u001b[0m\u001b[1;33m(\u001b[0m\u001b[0mkey\u001b[0m\u001b[1;33m)\u001b[0m\u001b[1;33m)\u001b[0m\u001b[1;33m\u001b[0m\u001b[1;33m\u001b[0m\u001b[0m\n\u001b[0m\u001b[0;32m   2660\u001b[0m         \u001b[0mindexer\u001b[0m \u001b[1;33m\u003d\u001b[0m \u001b[0mself\u001b[0m\u001b[1;33m.\u001b[0m\u001b[0mget_indexer\u001b[0m\u001b[1;33m(\u001b[0m\u001b[1;33m[\u001b[0m\u001b[0mkey\u001b[0m\u001b[1;33m]\u001b[0m\u001b[1;33m,\u001b[0m \u001b[0mmethod\u001b[0m\u001b[1;33m\u003d\u001b[0m\u001b[0mmethod\u001b[0m\u001b[1;33m,\u001b[0m \u001b[0mtolerance\u001b[0m\u001b[1;33m\u003d\u001b[0m\u001b[0mtolerance\u001b[0m\u001b[1;33m)\u001b[0m\u001b[1;33m\u001b[0m\u001b[1;33m\u001b[0m\u001b[0m\n\u001b[0;32m   2661\u001b[0m         \u001b[1;32mif\u001b[0m \u001b[0mindexer\u001b[0m\u001b[1;33m.\u001b[0m\u001b[0mndim\u001b[0m \u001b[1;33m\u003e\u001b[0m \u001b[1;36m1\u001b[0m \u001b[1;32mor\u001b[0m \u001b[0mindexer\u001b[0m\u001b[1;33m.\u001b[0m\u001b[0msize\u001b[0m \u001b[1;33m\u003e\u001b[0m \u001b[1;36m1\u001b[0m\u001b[1;33m:\u001b[0m\u001b[1;33m\u001b[0m\u001b[1;33m\u001b[0m\u001b[0m\n",
            "\u001b[1;32mpandas/_libs/index.pyx\u001b[0m in \u001b[0;36mpandas._libs.index.IndexEngine.get_loc\u001b[1;34m()\u001b[0m\n",
            "\u001b[1;32mpandas/_libs/index.pyx\u001b[0m in \u001b[0;36mpandas._libs.index.IndexEngine.get_loc\u001b[1;34m()\u001b[0m\n",
            "\u001b[1;32mpandas/_libs/hashtable_class_helper.pxi\u001b[0m in \u001b[0;36mpandas._libs.hashtable.PyObjectHashTable.get_item\u001b[1;34m()\u001b[0m\n",
            "\u001b[1;32mpandas/_libs/hashtable_class_helper.pxi\u001b[0m in \u001b[0;36mpandas._libs.hashtable.PyObjectHashTable.get_item\u001b[1;34m()\u001b[0m\n",
            "\u001b[1;31mKeyError\u001b[0m: \u0027season\u0027"
          ],
          "ename": "KeyError",
          "evalue": "\u0027season\u0027",
          "output_type": "error"
        }
      ],
      "source": "for dummy_column in dummy_columns:\n    #####################填写：实现功能：删除X中的第dummy_column列###################################\n   del X[dummy_column]\n    \n    #####################填写：实现功能：删除X中的第dummy_column列###################################\n\nX.columns"
    },
    {
      "cell_type": "markdown",
      "metadata": {
        "_uuid": "b725632b8f9bea4da37c12a05c00ff0f5c111062",
        "pycharm": {}
      },
      "source": [
        "### And now, lets see how our data looks like"
      ]
    },
    {
      "cell_type": "code",
      "execution_count": 9,
      "metadata": {
        "_uuid": "d9ae61bc5c127d1c021ff17f5e2102c4e77412ba",
        "pycharm": {}
      },
      "outputs": [
        {
          "data": {
            "text/html": [
              "\u003cdiv\u003e\n",
              "\u003cstyle scoped\u003e\n",
              "    .dataframe tbody tr th:only-of-type {\n",
              "        vertical-align: middle;\n",
              "    }\n",
              "\n",
              "    .dataframe tbody tr th {\n",
              "        vertical-align: top;\n",
              "    }\n",
              "\n",
              "    .dataframe thead th {\n",
              "        text-align: right;\n",
              "    }\n",
              "\u003c/style\u003e\n",
              "\u003ctable border\u003d\"1\" class\u003d\"dataframe\"\u003e\n",
              "  \u003cthead\u003e\n",
              "    \u003ctr style\u003d\"text-align: right;\"\u003e\n",
              "      \u003cth\u003e\u003c/th\u003e\n",
              "      \u003cth\u003einstant\u003c/th\u003e\n",
              "      \u003cth\u003edteday\u003c/th\u003e\n",
              "      \u003cth\u003eholiday\u003c/th\u003e\n",
              "      \u003cth\u003eworkingday\u003c/th\u003e\n",
              "      \u003cth\u003etemp\u003c/th\u003e\n",
              "      \u003cth\u003eatemp\u003c/th\u003e\n",
              "      \u003cth\u003ehum\u003c/th\u003e\n",
              "      \u003cth\u003ewindspeed\u003c/th\u003e\n",
              "      \u003cth\u003ecasual\u003c/th\u003e\n",
              "      \u003cth\u003eregistered\u003c/th\u003e\n",
              "      \u003cth\u003e...\u003c/th\u003e\n",
              "      \u003cth\u003eweekday_1\u003c/th\u003e\n",
              "      \u003cth\u003eweekday_2\u003c/th\u003e\n",
              "      \u003cth\u003eweekday_3\u003c/th\u003e\n",
              "      \u003cth\u003eweekday_4\u003c/th\u003e\n",
              "      \u003cth\u003eweekday_5\u003c/th\u003e\n",
              "      \u003cth\u003eweekday_6\u003c/th\u003e\n",
              "      \u003cth\u003eweathersit_1\u003c/th\u003e\n",
              "      \u003cth\u003eweathersit_2\u003c/th\u003e\n",
              "      \u003cth\u003eweathersit_3\u003c/th\u003e\n",
              "      \u003cth\u003eweathersit_4\u003c/th\u003e\n",
              "    \u003c/tr\u003e\n",
              "  \u003c/thead\u003e\n",
              "  \u003ctbody\u003e\n",
              "    \u003ctr\u003e\n",
              "      \u003cth\u003e0\u003c/th\u003e\n",
              "      \u003ctd\u003e1\u003c/td\u003e\n",
              "      \u003ctd\u003e2011/1/1\u003c/td\u003e\n",
              "      \u003ctd\u003e0\u003c/td\u003e\n",
              "      \u003ctd\u003e0\u003c/td\u003e\n",
              "      \u003ctd\u003e0.24\u003c/td\u003e\n",
              "      \u003ctd\u003e0.2879\u003c/td\u003e\n",
              "      \u003ctd\u003e0.81\u003c/td\u003e\n",
              "      \u003ctd\u003e0.0\u003c/td\u003e\n",
              "      \u003ctd\u003e3\u003c/td\u003e\n",
              "      \u003ctd\u003e13\u003c/td\u003e\n",
              "      \u003ctd\u003e...\u003c/td\u003e\n",
              "      \u003ctd\u003e0\u003c/td\u003e\n",
              "      \u003ctd\u003e0\u003c/td\u003e\n",
              "      \u003ctd\u003e0\u003c/td\u003e\n",
              "      \u003ctd\u003e0\u003c/td\u003e\n",
              "      \u003ctd\u003e0\u003c/td\u003e\n",
              "      \u003ctd\u003e1\u003c/td\u003e\n",
              "      \u003ctd\u003e1\u003c/td\u003e\n",
              "      \u003ctd\u003e0\u003c/td\u003e\n",
              "      \u003ctd\u003e0\u003c/td\u003e\n",
              "      \u003ctd\u003e0\u003c/td\u003e\n",
              "    \u003c/tr\u003e\n",
              "    \u003ctr\u003e\n",
              "      \u003cth\u003e1\u003c/th\u003e\n",
              "      \u003ctd\u003e2\u003c/td\u003e\n",
              "      \u003ctd\u003e2011/1/1\u003c/td\u003e\n",
              "      \u003ctd\u003e0\u003c/td\u003e\n",
              "      \u003ctd\u003e0\u003c/td\u003e\n",
              "      \u003ctd\u003e0.22\u003c/td\u003e\n",
              "      \u003ctd\u003e0.2727\u003c/td\u003e\n",
              "      \u003ctd\u003e0.80\u003c/td\u003e\n",
              "      \u003ctd\u003e0.0\u003c/td\u003e\n",
              "      \u003ctd\u003e8\u003c/td\u003e\n",
              "      \u003ctd\u003e32\u003c/td\u003e\n",
              "      \u003ctd\u003e...\u003c/td\u003e\n",
              "      \u003ctd\u003e0\u003c/td\u003e\n",
              "      \u003ctd\u003e0\u003c/td\u003e\n",
              "      \u003ctd\u003e0\u003c/td\u003e\n",
              "      \u003ctd\u003e0\u003c/td\u003e\n",
              "      \u003ctd\u003e0\u003c/td\u003e\n",
              "      \u003ctd\u003e1\u003c/td\u003e\n",
              "      \u003ctd\u003e1\u003c/td\u003e\n",
              "      \u003ctd\u003e0\u003c/td\u003e\n",
              "      \u003ctd\u003e0\u003c/td\u003e\n",
              "      \u003ctd\u003e0\u003c/td\u003e\n",
              "    \u003c/tr\u003e\n",
              "    \u003ctr\u003e\n",
              "      \u003cth\u003e2\u003c/th\u003e\n",
              "      \u003ctd\u003e3\u003c/td\u003e\n",
              "      \u003ctd\u003e2011/1/1\u003c/td\u003e\n",
              "      \u003ctd\u003e0\u003c/td\u003e\n",
              "      \u003ctd\u003e0\u003c/td\u003e\n",
              "      \u003ctd\u003e0.22\u003c/td\u003e\n",
              "      \u003ctd\u003e0.2727\u003c/td\u003e\n",
              "      \u003ctd\u003e0.80\u003c/td\u003e\n",
              "      \u003ctd\u003e0.0\u003c/td\u003e\n",
              "      \u003ctd\u003e5\u003c/td\u003e\n",
              "      \u003ctd\u003e27\u003c/td\u003e\n",
              "      \u003ctd\u003e...\u003c/td\u003e\n",
              "      \u003ctd\u003e0\u003c/td\u003e\n",
              "      \u003ctd\u003e0\u003c/td\u003e\n",
              "      \u003ctd\u003e0\u003c/td\u003e\n",
              "      \u003ctd\u003e0\u003c/td\u003e\n",
              "      \u003ctd\u003e0\u003c/td\u003e\n",
              "      \u003ctd\u003e1\u003c/td\u003e\n",
              "      \u003ctd\u003e1\u003c/td\u003e\n",
              "      \u003ctd\u003e0\u003c/td\u003e\n",
              "      \u003ctd\u003e0\u003c/td\u003e\n",
              "      \u003ctd\u003e0\u003c/td\u003e\n",
              "    \u003c/tr\u003e\n",
              "    \u003ctr\u003e\n",
              "      \u003cth\u003e3\u003c/th\u003e\n",
              "      \u003ctd\u003e4\u003c/td\u003e\n",
              "      \u003ctd\u003e2011/1/1\u003c/td\u003e\n",
              "      \u003ctd\u003e0\u003c/td\u003e\n",
              "      \u003ctd\u003e0\u003c/td\u003e\n",
              "      \u003ctd\u003e0.24\u003c/td\u003e\n",
              "      \u003ctd\u003e0.2879\u003c/td\u003e\n",
              "      \u003ctd\u003e0.75\u003c/td\u003e\n",
              "      \u003ctd\u003e0.0\u003c/td\u003e\n",
              "      \u003ctd\u003e3\u003c/td\u003e\n",
              "      \u003ctd\u003e10\u003c/td\u003e\n",
              "      \u003ctd\u003e...\u003c/td\u003e\n",
              "      \u003ctd\u003e0\u003c/td\u003e\n",
              "      \u003ctd\u003e0\u003c/td\u003e\n",
              "      \u003ctd\u003e0\u003c/td\u003e\n",
              "      \u003ctd\u003e0\u003c/td\u003e\n",
              "      \u003ctd\u003e0\u003c/td\u003e\n",
              "      \u003ctd\u003e1\u003c/td\u003e\n",
              "      \u003ctd\u003e1\u003c/td\u003e\n",
              "      \u003ctd\u003e0\u003c/td\u003e\n",
              "      \u003ctd\u003e0\u003c/td\u003e\n",
              "      \u003ctd\u003e0\u003c/td\u003e\n",
              "    \u003c/tr\u003e\n",
              "    \u003ctr\u003e\n",
              "      \u003cth\u003e4\u003c/th\u003e\n",
              "      \u003ctd\u003e5\u003c/td\u003e\n",
              "      \u003ctd\u003e2011/1/1\u003c/td\u003e\n",
              "      \u003ctd\u003e0\u003c/td\u003e\n",
              "      \u003ctd\u003e0\u003c/td\u003e\n",
              "      \u003ctd\u003e0.24\u003c/td\u003e\n",
              "      \u003ctd\u003e0.2879\u003c/td\u003e\n",
              "      \u003ctd\u003e0.75\u003c/td\u003e\n",
              "      \u003ctd\u003e0.0\u003c/td\u003e\n",
              "      \u003ctd\u003e0\u003c/td\u003e\n",
              "      \u003ctd\u003e1\u003c/td\u003e\n",
              "      \u003ctd\u003e...\u003c/td\u003e\n",
              "      \u003ctd\u003e0\u003c/td\u003e\n",
              "      \u003ctd\u003e0\u003c/td\u003e\n",
              "      \u003ctd\u003e0\u003c/td\u003e\n",
              "      \u003ctd\u003e0\u003c/td\u003e\n",
              "      \u003ctd\u003e0\u003c/td\u003e\n",
              "      \u003ctd\u003e1\u003c/td\u003e\n",
              "      \u003ctd\u003e1\u003c/td\u003e\n",
              "      \u003ctd\u003e0\u003c/td\u003e\n",
              "      \u003ctd\u003e0\u003c/td\u003e\n",
              "      \u003ctd\u003e0\u003c/td\u003e\n",
              "    \u003c/tr\u003e\n",
              "  \u003c/tbody\u003e\n",
              "\u003c/table\u003e\n",
              "\u003cp\u003e5 rows × 64 columns\u003c/p\u003e\n",
              "\u003c/div\u003e"
            ],
            "text/plain": [
              "   instant    dteday  holiday  workingday  temp   atemp   hum  windspeed  \\\n",
              "0        1  2011/1/1        0           0  0.24  0.2879  0.81        0.0   \n",
              "1        2  2011/1/1        0           0  0.22  0.2727  0.80        0.0   \n",
              "2        3  2011/1/1        0           0  0.22  0.2727  0.80        0.0   \n",
              "3        4  2011/1/1        0           0  0.24  0.2879  0.75        0.0   \n",
              "4        5  2011/1/1        0           0  0.24  0.2879  0.75        0.0   \n",
              "\n",
              "   casual  registered  ...  weekday_1  weekday_2  weekday_3  weekday_4  \\\n",
              "0       3          13  ...          0          0          0          0   \n",
              "1       8          32  ...          0          0          0          0   \n",
              "2       5          27  ...          0          0          0          0   \n",
              "3       3          10  ...          0          0          0          0   \n",
              "4       0           1  ...          0          0          0          0   \n",
              "\n",
              "   weekday_5  weekday_6  weathersit_1  weathersit_2  weathersit_3  \\\n",
              "0          0          1             1             0             0   \n",
              "1          0          1             1             0             0   \n",
              "2          0          1             1             0             0   \n",
              "3          0          1             1             0             0   \n",
              "4          0          1             1             0             0   \n",
              "\n",
              "   weathersit_4  \n",
              "0             0  \n",
              "1             0  \n",
              "2             0  \n",
              "3             0  \n",
              "4             0  \n",
              "\n",
              "[5 rows x 64 columns]"
            ]
          },
          "execution_count": 9,
          "metadata": {},
          "output_type": "execute_result"
        }
      ],
      "source": [
        "X.head()"
      ]
    },
    {
      "cell_type": "code",
      "execution_count": 10,
      "metadata": {
        "_uuid": "b1402712610922d629123e1e2f8af70741c0560b",
        "scrolled": true,
        "pycharm": {}
      },
      "outputs": [
        {
          "data": {
            "text/html": [
              "\u003cdiv\u003e\n",
              "\u003cstyle scoped\u003e\n",
              "    .dataframe tbody tr th:only-of-type {\n",
              "        vertical-align: middle;\n",
              "    }\n",
              "\n",
              "    .dataframe tbody tr th {\n",
              "        vertical-align: top;\n",
              "    }\n",
              "\n",
              "    .dataframe thead th {\n",
              "        text-align: right;\n",
              "    }\n",
              "\u003c/style\u003e\n",
              "\u003ctable border\u003d\"1\" class\u003d\"dataframe\"\u003e\n",
              "  \u003cthead\u003e\n",
              "    \u003ctr style\u003d\"text-align: right;\"\u003e\n",
              "      \u003cth\u003e\u003c/th\u003e\n",
              "      \u003cth\u003einstant\u003c/th\u003e\n",
              "      \u003cth\u003eholiday\u003c/th\u003e\n",
              "      \u003cth\u003eworkingday\u003c/th\u003e\n",
              "      \u003cth\u003etemp\u003c/th\u003e\n",
              "      \u003cth\u003eatemp\u003c/th\u003e\n",
              "      \u003cth\u003ehum\u003c/th\u003e\n",
              "      \u003cth\u003ewindspeed\u003c/th\u003e\n",
              "      \u003cth\u003ecasual\u003c/th\u003e\n",
              "      \u003cth\u003eregistered\u003c/th\u003e\n",
              "      \u003cth\u003ecnt\u003c/th\u003e\n",
              "      \u003cth\u003e...\u003c/th\u003e\n",
              "      \u003cth\u003eweekday_1\u003c/th\u003e\n",
              "      \u003cth\u003eweekday_2\u003c/th\u003e\n",
              "      \u003cth\u003eweekday_3\u003c/th\u003e\n",
              "      \u003cth\u003eweekday_4\u003c/th\u003e\n",
              "      \u003cth\u003eweekday_5\u003c/th\u003e\n",
              "      \u003cth\u003eweekday_6\u003c/th\u003e\n",
              "      \u003cth\u003eweathersit_1\u003c/th\u003e\n",
              "      \u003cth\u003eweathersit_2\u003c/th\u003e\n",
              "      \u003cth\u003eweathersit_3\u003c/th\u003e\n",
              "      \u003cth\u003eweathersit_4\u003c/th\u003e\n",
              "    \u003c/tr\u003e\n",
              "  \u003c/thead\u003e\n",
              "  \u003ctbody\u003e\n",
              "    \u003ctr\u003e\n",
              "      \u003cth\u003ecount\u003c/th\u003e\n",
              "      \u003ctd\u003e17379.0000\u003c/td\u003e\n",
              "      \u003ctd\u003e17379.000000\u003c/td\u003e\n",
              "      \u003ctd\u003e17379.000000\u003c/td\u003e\n",
              "      \u003ctd\u003e17379.000000\u003c/td\u003e\n",
              "      \u003ctd\u003e17379.000000\u003c/td\u003e\n",
              "      \u003ctd\u003e17379.000000\u003c/td\u003e\n",
              "      \u003ctd\u003e17379.000000\u003c/td\u003e\n",
              "      \u003ctd\u003e17379.000000\u003c/td\u003e\n",
              "      \u003ctd\u003e17379.000000\u003c/td\u003e\n",
              "      \u003ctd\u003e17379.000000\u003c/td\u003e\n",
              "      \u003ctd\u003e...\u003c/td\u003e\n",
              "      \u003ctd\u003e17379.000000\u003c/td\u003e\n",
              "      \u003ctd\u003e17379.000000\u003c/td\u003e\n",
              "      \u003ctd\u003e17379.000000\u003c/td\u003e\n",
              "      \u003ctd\u003e17379.000000\u003c/td\u003e\n",
              "      \u003ctd\u003e17379.000000\u003c/td\u003e\n",
              "      \u003ctd\u003e17379.000000\u003c/td\u003e\n",
              "      \u003ctd\u003e17379.000000\u003c/td\u003e\n",
              "      \u003ctd\u003e17379.000000\u003c/td\u003e\n",
              "      \u003ctd\u003e17379.000000\u003c/td\u003e\n",
              "      \u003ctd\u003e17379.000000\u003c/td\u003e\n",
              "    \u003c/tr\u003e\n",
              "    \u003ctr\u003e\n",
              "      \u003cth\u003emean\u003c/th\u003e\n",
              "      \u003ctd\u003e8690.0000\u003c/td\u003e\n",
              "      \u003ctd\u003e0.028770\u003c/td\u003e\n",
              "      \u003ctd\u003e0.682721\u003c/td\u003e\n",
              "      \u003ctd\u003e0.496987\u003c/td\u003e\n",
              "      \u003ctd\u003e0.475775\u003c/td\u003e\n",
              "      \u003ctd\u003e0.627229\u003c/td\u003e\n",
              "      \u003ctd\u003e0.190098\u003c/td\u003e\n",
              "      \u003ctd\u003e35.676218\u003c/td\u003e\n",
              "      \u003ctd\u003e153.786869\u003c/td\u003e\n",
              "      \u003ctd\u003e189.463088\u003c/td\u003e\n",
              "      \u003ctd\u003e...\u003c/td\u003e\n",
              "      \u003ctd\u003e0.142643\u003c/td\u003e\n",
              "      \u003ctd\u003e0.141147\u003c/td\u003e\n",
              "      \u003ctd\u003e0.142413\u003c/td\u003e\n",
              "      \u003ctd\u003e0.142183\u003c/td\u003e\n",
              "      \u003ctd\u003e0.143104\u003c/td\u003e\n",
              "      \u003ctd\u003e0.144542\u003c/td\u003e\n",
              "      \u003ctd\u003e0.656712\u003c/td\u003e\n",
              "      \u003ctd\u003e0.261465\u003c/td\u003e\n",
              "      \u003ctd\u003e0.081650\u003c/td\u003e\n",
              "      \u003ctd\u003e0.000173\u003c/td\u003e\n",
              "    \u003c/tr\u003e\n",
              "    \u003ctr\u003e\n",
              "      \u003cth\u003estd\u003c/th\u003e\n",
              "      \u003ctd\u003e5017.0295\u003c/td\u003e\n",
              "      \u003ctd\u003e0.167165\u003c/td\u003e\n",
              "      \u003ctd\u003e0.465431\u003c/td\u003e\n",
              "      \u003ctd\u003e0.192556\u003c/td\u003e\n",
              "      \u003ctd\u003e0.171850\u003c/td\u003e\n",
              "      \u003ctd\u003e0.192930\u003c/td\u003e\n",
              "      \u003ctd\u003e0.122340\u003c/td\u003e\n",
              "      \u003ctd\u003e49.305030\u003c/td\u003e\n",
              "      \u003ctd\u003e151.357286\u003c/td\u003e\n",
              "      \u003ctd\u003e181.387599\u003c/td\u003e\n",
              "      \u003ctd\u003e...\u003c/td\u003e\n",
              "      \u003ctd\u003e0.349719\u003c/td\u003e\n",
              "      \u003ctd\u003e0.348184\u003c/td\u003e\n",
              "      \u003ctd\u003e0.349484\u003c/td\u003e\n",
              "      \u003ctd\u003e0.349248\u003c/td\u003e\n",
              "      \u003ctd\u003e0.350189\u003c/td\u003e\n",
              "      \u003ctd\u003e0.351649\u003c/td\u003e\n",
              "      \u003ctd\u003e0.474820\u003c/td\u003e\n",
              "      \u003ctd\u003e0.439445\u003c/td\u003e\n",
              "      \u003ctd\u003e0.273839\u003c/td\u003e\n",
              "      \u003ctd\u003e0.013138\u003c/td\u003e\n",
              "    \u003c/tr\u003e\n",
              "    \u003ctr\u003e\n",
              "      \u003cth\u003emin\u003c/th\u003e\n",
              "      \u003ctd\u003e1.0000\u003c/td\u003e\n",
              "      \u003ctd\u003e0.000000\u003c/td\u003e\n",
              "      \u003ctd\u003e0.000000\u003c/td\u003e\n",
              "      \u003ctd\u003e0.020000\u003c/td\u003e\n",
              "      \u003ctd\u003e0.000000\u003c/td\u003e\n",
              "      \u003ctd\u003e0.000000\u003c/td\u003e\n",
              "      \u003ctd\u003e0.000000\u003c/td\u003e\n",
              "      \u003ctd\u003e0.000000\u003c/td\u003e\n",
              "      \u003ctd\u003e0.000000\u003c/td\u003e\n",
              "      \u003ctd\u003e1.000000\u003c/td\u003e\n",
              "      \u003ctd\u003e...\u003c/td\u003e\n",
              "      \u003ctd\u003e0.000000\u003c/td\u003e\n",
              "      \u003ctd\u003e0.000000\u003c/td\u003e\n",
              "      \u003ctd\u003e0.000000\u003c/td\u003e\n",
              "      \u003ctd\u003e0.000000\u003c/td\u003e\n",
              "      \u003ctd\u003e0.000000\u003c/td\u003e\n",
              "      \u003ctd\u003e0.000000\u003c/td\u003e\n",
              "      \u003ctd\u003e0.000000\u003c/td\u003e\n",
              "      \u003ctd\u003e0.000000\u003c/td\u003e\n",
              "      \u003ctd\u003e0.000000\u003c/td\u003e\n",
              "      \u003ctd\u003e0.000000\u003c/td\u003e\n",
              "    \u003c/tr\u003e\n",
              "    \u003ctr\u003e\n",
              "      \u003cth\u003e25%\u003c/th\u003e\n",
              "      \u003ctd\u003e4345.5000\u003c/td\u003e\n",
              "      \u003ctd\u003e0.000000\u003c/td\u003e\n",
              "      \u003ctd\u003e0.000000\u003c/td\u003e\n",
              "      \u003ctd\u003e0.340000\u003c/td\u003e\n",
              "      \u003ctd\u003e0.333300\u003c/td\u003e\n",
              "      \u003ctd\u003e0.480000\u003c/td\u003e\n",
              "      \u003ctd\u003e0.104500\u003c/td\u003e\n",
              "      \u003ctd\u003e4.000000\u003c/td\u003e\n",
              "      \u003ctd\u003e34.000000\u003c/td\u003e\n",
              "      \u003ctd\u003e40.000000\u003c/td\u003e\n",
              "      \u003ctd\u003e...\u003c/td\u003e\n",
              "      \u003ctd\u003e0.000000\u003c/td\u003e\n",
              "      \u003ctd\u003e0.000000\u003c/td\u003e\n",
              "      \u003ctd\u003e0.000000\u003c/td\u003e\n",
              "      \u003ctd\u003e0.000000\u003c/td\u003e\n",
              "      \u003ctd\u003e0.000000\u003c/td\u003e\n",
              "      \u003ctd\u003e0.000000\u003c/td\u003e\n",
              "      \u003ctd\u003e0.000000\u003c/td\u003e\n",
              "      \u003ctd\u003e0.000000\u003c/td\u003e\n",
              "      \u003ctd\u003e0.000000\u003c/td\u003e\n",
              "      \u003ctd\u003e0.000000\u003c/td\u003e\n",
              "    \u003c/tr\u003e\n",
              "    \u003ctr\u003e\n",
              "      \u003cth\u003e50%\u003c/th\u003e\n",
              "      \u003ctd\u003e8690.0000\u003c/td\u003e\n",
              "      \u003ctd\u003e0.000000\u003c/td\u003e\n",
              "      \u003ctd\u003e1.000000\u003c/td\u003e\n",
              "      \u003ctd\u003e0.500000\u003c/td\u003e\n",
              "      \u003ctd\u003e0.484800\u003c/td\u003e\n",
              "      \u003ctd\u003e0.630000\u003c/td\u003e\n",
              "      \u003ctd\u003e0.194000\u003c/td\u003e\n",
              "      \u003ctd\u003e17.000000\u003c/td\u003e\n",
              "      \u003ctd\u003e115.000000\u003c/td\u003e\n",
              "      \u003ctd\u003e142.000000\u003c/td\u003e\n",
              "      \u003ctd\u003e...\u003c/td\u003e\n",
              "      \u003ctd\u003e0.000000\u003c/td\u003e\n",
              "      \u003ctd\u003e0.000000\u003c/td\u003e\n",
              "      \u003ctd\u003e0.000000\u003c/td\u003e\n",
              "      \u003ctd\u003e0.000000\u003c/td\u003e\n",
              "      \u003ctd\u003e0.000000\u003c/td\u003e\n",
              "      \u003ctd\u003e0.000000\u003c/td\u003e\n",
              "      \u003ctd\u003e1.000000\u003c/td\u003e\n",
              "      \u003ctd\u003e0.000000\u003c/td\u003e\n",
              "      \u003ctd\u003e0.000000\u003c/td\u003e\n",
              "      \u003ctd\u003e0.000000\u003c/td\u003e\n",
              "    \u003c/tr\u003e\n",
              "    \u003ctr\u003e\n",
              "      \u003cth\u003e75%\u003c/th\u003e\n",
              "      \u003ctd\u003e13034.5000\u003c/td\u003e\n",
              "      \u003ctd\u003e0.000000\u003c/td\u003e\n",
              "      \u003ctd\u003e1.000000\u003c/td\u003e\n",
              "      \u003ctd\u003e0.660000\u003c/td\u003e\n",
              "      \u003ctd\u003e0.621200\u003c/td\u003e\n",
              "      \u003ctd\u003e0.780000\u003c/td\u003e\n",
              "      \u003ctd\u003e0.253700\u003c/td\u003e\n",
              "      \u003ctd\u003e48.000000\u003c/td\u003e\n",
              "      \u003ctd\u003e220.000000\u003c/td\u003e\n",
              "      \u003ctd\u003e281.000000\u003c/td\u003e\n",
              "      \u003ctd\u003e...\u003c/td\u003e\n",
              "      \u003ctd\u003e0.000000\u003c/td\u003e\n",
              "      \u003ctd\u003e0.000000\u003c/td\u003e\n",
              "      \u003ctd\u003e0.000000\u003c/td\u003e\n",
              "      \u003ctd\u003e0.000000\u003c/td\u003e\n",
              "      \u003ctd\u003e0.000000\u003c/td\u003e\n",
              "      \u003ctd\u003e0.000000\u003c/td\u003e\n",
              "      \u003ctd\u003e1.000000\u003c/td\u003e\n",
              "      \u003ctd\u003e1.000000\u003c/td\u003e\n",
              "      \u003ctd\u003e0.000000\u003c/td\u003e\n",
              "      \u003ctd\u003e0.000000\u003c/td\u003e\n",
              "    \u003c/tr\u003e\n",
              "    \u003ctr\u003e\n",
              "      \u003cth\u003emax\u003c/th\u003e\n",
              "      \u003ctd\u003e17379.0000\u003c/td\u003e\n",
              "      \u003ctd\u003e1.000000\u003c/td\u003e\n",
              "      \u003ctd\u003e1.000000\u003c/td\u003e\n",
              "      \u003ctd\u003e1.000000\u003c/td\u003e\n",
              "      \u003ctd\u003e1.000000\u003c/td\u003e\n",
              "      \u003ctd\u003e1.000000\u003c/td\u003e\n",
              "      \u003ctd\u003e0.850700\u003c/td\u003e\n",
              "      \u003ctd\u003e367.000000\u003c/td\u003e\n",
              "      \u003ctd\u003e886.000000\u003c/td\u003e\n",
              "      \u003ctd\u003e977.000000\u003c/td\u003e\n",
              "      \u003ctd\u003e...\u003c/td\u003e\n",
              "      \u003ctd\u003e1.000000\u003c/td\u003e\n",
              "      \u003ctd\u003e1.000000\u003c/td\u003e\n",
              "      \u003ctd\u003e1.000000\u003c/td\u003e\n",
              "      \u003ctd\u003e1.000000\u003c/td\u003e\n",
              "      \u003ctd\u003e1.000000\u003c/td\u003e\n",
              "      \u003ctd\u003e1.000000\u003c/td\u003e\n",
              "      \u003ctd\u003e1.000000\u003c/td\u003e\n",
              "      \u003ctd\u003e1.000000\u003c/td\u003e\n",
              "      \u003ctd\u003e1.000000\u003c/td\u003e\n",
              "      \u003ctd\u003e1.000000\u003c/td\u003e\n",
              "    \u003c/tr\u003e\n",
              "  \u003c/tbody\u003e\n",
              "\u003c/table\u003e\n",
              "\u003cp\u003e8 rows × 63 columns\u003c/p\u003e\n",
              "\u003c/div\u003e"
            ],
            "text/plain": [
              "          instant       holiday    workingday          temp         atemp  \\\n",
              "count  17379.0000  17379.000000  17379.000000  17379.000000  17379.000000   \n",
              "mean    8690.0000      0.028770      0.682721      0.496987      0.475775   \n",
              "std     5017.0295      0.167165      0.465431      0.192556      0.171850   \n",
              "min        1.0000      0.000000      0.000000      0.020000      0.000000   \n",
              "25%     4345.5000      0.000000      0.000000      0.340000      0.333300   \n",
              "50%     8690.0000      0.000000      1.000000      0.500000      0.484800   \n",
              "75%    13034.5000      0.000000      1.000000      0.660000      0.621200   \n",
              "max    17379.0000      1.000000      1.000000      1.000000      1.000000   \n",
              "\n",
              "                hum     windspeed        casual    registered           cnt  \\\n",
              "count  17379.000000  17379.000000  17379.000000  17379.000000  17379.000000   \n",
              "mean       0.627229      0.190098     35.676218    153.786869    189.463088   \n",
              "std        0.192930      0.122340     49.305030    151.357286    181.387599   \n",
              "min        0.000000      0.000000      0.000000      0.000000      1.000000   \n",
              "25%        0.480000      0.104500      4.000000     34.000000     40.000000   \n",
              "50%        0.630000      0.194000     17.000000    115.000000    142.000000   \n",
              "75%        0.780000      0.253700     48.000000    220.000000    281.000000   \n",
              "max        1.000000      0.850700    367.000000    886.000000    977.000000   \n",
              "\n",
              "       ...     weekday_1     weekday_2     weekday_3     weekday_4  \\\n",
              "count  ...  17379.000000  17379.000000  17379.000000  17379.000000   \n",
              "mean   ...      0.142643      0.141147      0.142413      0.142183   \n",
              "std    ...      0.349719      0.348184      0.349484      0.349248   \n",
              "min    ...      0.000000      0.000000      0.000000      0.000000   \n",
              "25%    ...      0.000000      0.000000      0.000000      0.000000   \n",
              "50%    ...      0.000000      0.000000      0.000000      0.000000   \n",
              "75%    ...      0.000000      0.000000      0.000000      0.000000   \n",
              "max    ...      1.000000      1.000000      1.000000      1.000000   \n",
              "\n",
              "          weekday_5     weekday_6  weathersit_1  weathersit_2  weathersit_3  \\\n",
              "count  17379.000000  17379.000000  17379.000000  17379.000000  17379.000000   \n",
              "mean       0.143104      0.144542      0.656712      0.261465      0.081650   \n",
              "std        0.350189      0.351649      0.474820      0.439445      0.273839   \n",
              "min        0.000000      0.000000      0.000000      0.000000      0.000000   \n",
              "25%        0.000000      0.000000      0.000000      0.000000      0.000000   \n",
              "50%        0.000000      0.000000      1.000000      0.000000      0.000000   \n",
              "75%        0.000000      0.000000      1.000000      1.000000      0.000000   \n",
              "max        1.000000      1.000000      1.000000      1.000000      1.000000   \n",
              "\n",
              "       weathersit_4  \n",
              "count  17379.000000  \n",
              "mean       0.000173  \n",
              "std        0.013138  \n",
              "min        0.000000  \n",
              "25%        0.000000  \n",
              "50%        0.000000  \n",
              "75%        0.000000  \n",
              "max        1.000000  \n",
              "\n",
              "[8 rows x 63 columns]"
            ]
          },
          "execution_count": 10,
          "metadata": {},
          "output_type": "execute_result"
        }
      ],
      "source": [
        "X.describe()"
      ]
    },
    {
      "cell_type": "markdown",
      "metadata": {
        "_uuid": "a846cd537b31ffc1903ddb0805be500f8c74b01c",
        "pycharm": {}
      },
      "source": [
        "### Time for us to plot some data and get an idea of what\u0027s going on here"
      ]
    },
    {
      "cell_type": "code",
      "execution_count": 34,
      "metadata": {
        "_uuid": "80e3edb647e5f19a4f26e47fceaa0bfbce2dcd77",
        "pycharm": {
          "is_executing": false
        }
      },
      "outputs": [
        {
          "data": {
            "text/plain": "\u003cmatplotlib.axes._subplots.AxesSubplot at 0x1e06344dba8\u003e"
          },
          "metadata": {},
          "output_type": "execute_result",
          "execution_count": 34
        }
      ],
      "source": "first_3_weeks \u003d 3*7*24 # 3 weeks (7 days), 24 hours each day\n#####################填写：实现功能：对X中前first_3_weeks数据画图，x轴为dteday，y轴为cnt，size为（18，5）###################################\nX[:first_3_weeks].plot(x\u003d\u0027dteday\u0027,y\u003d\u0027cnt\u0027,figsize\u003d(18,5))\n    \n    \n#####################填写：实现功能：对X中前first_3_weeks数据画图，x轴为dteday，y轴为cnt，size为（18，5）######################################\n"
    },
    {
      "cell_type": "markdown",
      "metadata": {
        "_uuid": "471d096d54ec6f69335d8f4fbf794674ecda4174",
        "pycharm": {}
      },
      "source": [
        "### It is also obvious that we do not need the \"instant\", \"\u0027dteday\" columns, lets remove them"
      ]
    },
    {
      "cell_type": "code",
      "execution_count": 35,
      "metadata": {
        "_uuid": "53956058495eebbea17840f2d32cad30fc321fac",
        "pycharm": {
          "is_executing": false
        }
      },
      "outputs": [],
      "source": [
        "del X[\"instant\"]\n",
        "del X[\"dteday\"]"
      ]
    },
    {
      "cell_type": "markdown",
      "metadata": {
        "_uuid": "aaa76887ee33537f47f39aeacaa194773a09fdc0",
        "pycharm": {}
      },
      "source": [
        "### Finally, we need to declare which one will be our \"target\" column, that is, what do we want to predict? in this case it would be either \"casual\", \"registered\" or \"cnt\". I will use \"cnt\""
      ]
    },
    {
      "cell_type": "code",
      "execution_count": 36,
      "metadata": {
        "_uuid": "197e960ba00184b4fd4c5b389b8a20206a1c25d2",
        "pycharm": {
          "is_executing": false
        }
      },
      "outputs": [],
      "source": [
        "y \u003d X[\"cnt\"]\n",
        "del X[\"cnt\"]\n",
        "del X[\"registered\"]\n",
        "del X[\"casual\"]"
      ]
    },
    {
      "cell_type": "code",
      "execution_count": 37,
      "metadata": {
        "_uuid": "96b3ba17d72598903be7d06b7b2bad9b1c84281c",
        "pycharm": {
          "is_executing": false
        }
      },
      "outputs": [
        {
          "data": {
            "text/plain": "   holiday  workingday  temp   atemp   hum  windspeed  season_1  season_2  \\\n0        0           0  0.24  0.2879  0.81        0.0         1         0   \n1        0           0  0.22  0.2727  0.80        0.0         1         0   \n2        0           0  0.22  0.2727  0.80        0.0         1         0   \n3        0           0  0.24  0.2879  0.75        0.0         1         0   \n4        0           0  0.24  0.2879  0.75        0.0         1         0   \n\n   season_3  season_4  ...  weekday_1  weekday_2  weekday_3  weekday_4  \\\n0         0         0  ...          0          0          0          0   \n1         0         0  ...          0          0          0          0   \n2         0         0  ...          0          0          0          0   \n3         0         0  ...          0          0          0          0   \n4         0         0  ...          0          0          0          0   \n\n   weekday_5  weekday_6  weathersit_1  weathersit_2  weathersit_3  \\\n0          0          1             1             0             0   \n1          0          1             1             0             0   \n2          0          1             1             0             0   \n3          0          1             1             0             0   \n4          0          1             1             0             0   \n\n   weathersit_4  \n0             0  \n1             0  \n2             0  \n3             0  \n4             0  \n\n[5 rows x 59 columns]",
            "text/html": "\u003cdiv\u003e\n\u003cstyle scoped\u003e\n    .dataframe tbody tr th:only-of-type {\n        vertical-align: middle;\n    }\n\n    .dataframe tbody tr th {\n        vertical-align: top;\n    }\n\n    .dataframe thead th {\n        text-align: right;\n    }\n\u003c/style\u003e\n\u003ctable border\u003d\"1\" class\u003d\"dataframe\"\u003e\n  \u003cthead\u003e\n    \u003ctr style\u003d\"text-align: right;\"\u003e\n      \u003cth\u003e\u003c/th\u003e\n      \u003cth\u003eholiday\u003c/th\u003e\n      \u003cth\u003eworkingday\u003c/th\u003e\n      \u003cth\u003etemp\u003c/th\u003e\n      \u003cth\u003eatemp\u003c/th\u003e\n      \u003cth\u003ehum\u003c/th\u003e\n      \u003cth\u003ewindspeed\u003c/th\u003e\n      \u003cth\u003eseason_1\u003c/th\u003e\n      \u003cth\u003eseason_2\u003c/th\u003e\n      \u003cth\u003eseason_3\u003c/th\u003e\n      \u003cth\u003eseason_4\u003c/th\u003e\n      \u003cth\u003e...\u003c/th\u003e\n      \u003cth\u003eweekday_1\u003c/th\u003e\n      \u003cth\u003eweekday_2\u003c/th\u003e\n      \u003cth\u003eweekday_3\u003c/th\u003e\n      \u003cth\u003eweekday_4\u003c/th\u003e\n      \u003cth\u003eweekday_5\u003c/th\u003e\n      \u003cth\u003eweekday_6\u003c/th\u003e\n      \u003cth\u003eweathersit_1\u003c/th\u003e\n      \u003cth\u003eweathersit_2\u003c/th\u003e\n      \u003cth\u003eweathersit_3\u003c/th\u003e\n      \u003cth\u003eweathersit_4\u003c/th\u003e\n    \u003c/tr\u003e\n  \u003c/thead\u003e\n  \u003ctbody\u003e\n    \u003ctr\u003e\n      \u003cth\u003e0\u003c/th\u003e\n      \u003ctd\u003e0\u003c/td\u003e\n      \u003ctd\u003e0\u003c/td\u003e\n      \u003ctd\u003e0.24\u003c/td\u003e\n      \u003ctd\u003e0.2879\u003c/td\u003e\n      \u003ctd\u003e0.81\u003c/td\u003e\n      \u003ctd\u003e0.0\u003c/td\u003e\n      \u003ctd\u003e1\u003c/td\u003e\n      \u003ctd\u003e0\u003c/td\u003e\n      \u003ctd\u003e0\u003c/td\u003e\n      \u003ctd\u003e0\u003c/td\u003e\n      \u003ctd\u003e...\u003c/td\u003e\n      \u003ctd\u003e0\u003c/td\u003e\n      \u003ctd\u003e0\u003c/td\u003e\n      \u003ctd\u003e0\u003c/td\u003e\n      \u003ctd\u003e0\u003c/td\u003e\n      \u003ctd\u003e0\u003c/td\u003e\n      \u003ctd\u003e1\u003c/td\u003e\n      \u003ctd\u003e1\u003c/td\u003e\n      \u003ctd\u003e0\u003c/td\u003e\n      \u003ctd\u003e0\u003c/td\u003e\n      \u003ctd\u003e0\u003c/td\u003e\n    \u003c/tr\u003e\n    \u003ctr\u003e\n      \u003cth\u003e1\u003c/th\u003e\n      \u003ctd\u003e0\u003c/td\u003e\n      \u003ctd\u003e0\u003c/td\u003e\n      \u003ctd\u003e0.22\u003c/td\u003e\n      \u003ctd\u003e0.2727\u003c/td\u003e\n      \u003ctd\u003e0.80\u003c/td\u003e\n      \u003ctd\u003e0.0\u003c/td\u003e\n      \u003ctd\u003e1\u003c/td\u003e\n      \u003ctd\u003e0\u003c/td\u003e\n      \u003ctd\u003e0\u003c/td\u003e\n      \u003ctd\u003e0\u003c/td\u003e\n      \u003ctd\u003e...\u003c/td\u003e\n      \u003ctd\u003e0\u003c/td\u003e\n      \u003ctd\u003e0\u003c/td\u003e\n      \u003ctd\u003e0\u003c/td\u003e\n      \u003ctd\u003e0\u003c/td\u003e\n      \u003ctd\u003e0\u003c/td\u003e\n      \u003ctd\u003e1\u003c/td\u003e\n      \u003ctd\u003e1\u003c/td\u003e\n      \u003ctd\u003e0\u003c/td\u003e\n      \u003ctd\u003e0\u003c/td\u003e\n      \u003ctd\u003e0\u003c/td\u003e\n    \u003c/tr\u003e\n    \u003ctr\u003e\n      \u003cth\u003e2\u003c/th\u003e\n      \u003ctd\u003e0\u003c/td\u003e\n      \u003ctd\u003e0\u003c/td\u003e\n      \u003ctd\u003e0.22\u003c/td\u003e\n      \u003ctd\u003e0.2727\u003c/td\u003e\n      \u003ctd\u003e0.80\u003c/td\u003e\n      \u003ctd\u003e0.0\u003c/td\u003e\n      \u003ctd\u003e1\u003c/td\u003e\n      \u003ctd\u003e0\u003c/td\u003e\n      \u003ctd\u003e0\u003c/td\u003e\n      \u003ctd\u003e0\u003c/td\u003e\n      \u003ctd\u003e...\u003c/td\u003e\n      \u003ctd\u003e0\u003c/td\u003e\n      \u003ctd\u003e0\u003c/td\u003e\n      \u003ctd\u003e0\u003c/td\u003e\n      \u003ctd\u003e0\u003c/td\u003e\n      \u003ctd\u003e0\u003c/td\u003e\n      \u003ctd\u003e1\u003c/td\u003e\n      \u003ctd\u003e1\u003c/td\u003e\n      \u003ctd\u003e0\u003c/td\u003e\n      \u003ctd\u003e0\u003c/td\u003e\n      \u003ctd\u003e0\u003c/td\u003e\n    \u003c/tr\u003e\n    \u003ctr\u003e\n      \u003cth\u003e3\u003c/th\u003e\n      \u003ctd\u003e0\u003c/td\u003e\n      \u003ctd\u003e0\u003c/td\u003e\n      \u003ctd\u003e0.24\u003c/td\u003e\n      \u003ctd\u003e0.2879\u003c/td\u003e\n      \u003ctd\u003e0.75\u003c/td\u003e\n      \u003ctd\u003e0.0\u003c/td\u003e\n      \u003ctd\u003e1\u003c/td\u003e\n      \u003ctd\u003e0\u003c/td\u003e\n      \u003ctd\u003e0\u003c/td\u003e\n      \u003ctd\u003e0\u003c/td\u003e\n      \u003ctd\u003e...\u003c/td\u003e\n      \u003ctd\u003e0\u003c/td\u003e\n      \u003ctd\u003e0\u003c/td\u003e\n      \u003ctd\u003e0\u003c/td\u003e\n      \u003ctd\u003e0\u003c/td\u003e\n      \u003ctd\u003e0\u003c/td\u003e\n      \u003ctd\u003e1\u003c/td\u003e\n      \u003ctd\u003e1\u003c/td\u003e\n      \u003ctd\u003e0\u003c/td\u003e\n      \u003ctd\u003e0\u003c/td\u003e\n      \u003ctd\u003e0\u003c/td\u003e\n    \u003c/tr\u003e\n    \u003ctr\u003e\n      \u003cth\u003e4\u003c/th\u003e\n      \u003ctd\u003e0\u003c/td\u003e\n      \u003ctd\u003e0\u003c/td\u003e\n      \u003ctd\u003e0.24\u003c/td\u003e\n      \u003ctd\u003e0.2879\u003c/td\u003e\n      \u003ctd\u003e0.75\u003c/td\u003e\n      \u003ctd\u003e0.0\u003c/td\u003e\n      \u003ctd\u003e1\u003c/td\u003e\n      \u003ctd\u003e0\u003c/td\u003e\n      \u003ctd\u003e0\u003c/td\u003e\n      \u003ctd\u003e0\u003c/td\u003e\n      \u003ctd\u003e...\u003c/td\u003e\n      \u003ctd\u003e0\u003c/td\u003e\n      \u003ctd\u003e0\u003c/td\u003e\n      \u003ctd\u003e0\u003c/td\u003e\n      \u003ctd\u003e0\u003c/td\u003e\n      \u003ctd\u003e0\u003c/td\u003e\n      \u003ctd\u003e1\u003c/td\u003e\n      \u003ctd\u003e1\u003c/td\u003e\n      \u003ctd\u003e0\u003c/td\u003e\n      \u003ctd\u003e0\u003c/td\u003e\n      \u003ctd\u003e0\u003c/td\u003e\n    \u003c/tr\u003e\n  \u003c/tbody\u003e\n\u003c/table\u003e\n\u003cp\u003e5 rows × 59 columns\u003c/p\u003e\n\u003c/div\u003e"
          },
          "metadata": {},
          "output_type": "execute_result",
          "execution_count": 37
        }
      ],
      "source": [
        "X.head()"
      ]
    },
    {
      "cell_type": "markdown",
      "metadata": {
        "_uuid": "cfa7eb357e66406567016dd09ca00e5f1e016dca",
        "pycharm": {}
      },
      "source": [
        "## We will now split into train data and test data, using 70% as train data"
      ]
    },
    {
      "cell_type": "code",
      "execution_count": 39,
      "metadata": {
        "_uuid": "0db8cfec32b945856419305ee763deb505b9b86c",
        "pycharm": {
          "is_executing": false
        }
      },
      "outputs": [
        {
          "name": "stdout",
          "text": [
            "Total observations 17379\nTotal number of days 724\n"
          ],
          "output_type": "stream"
        }
      ],
      "source": "all_days \u003d len(X) // 24\nprint(\"Total observations\", len(X))\nprint(\"Total number of days\", all_days)\ndays_for_training \u003d int(all_days * 0.7)\n\n#####################填写：实现功能：X_train赋值为X中的前days_for_training行数据，X_test赋值为其余数据###################################\nX_train \u003d X[0:days_for_training]\nX_test \u003d X[days_for_training:]\n\n#####################填写：实现功能：X_train赋值为X中的前days_for_training行数据，X_test赋值为其余数据###################################"
    },
    {
      "cell_type": "code",
      "execution_count": 42,
      "metadata": {
        "_uuid": "7e02a1a843398de830a33116b665b76f2f692f23",
        "pycharm": {
          "is_executing": false
        }
      },
      "outputs": [
        {
          "name": "stdout",
          "text": [
            "Observations for training 506\nObservations for testing 16873\nSome target values 0    16\n1    40\n2    32\n3    13\n4     1\nName: cnt, dtype: int64\n"
          ],
          "output_type": "stream"
        }
      ],
      "source": [
        "print(\"Observations for training\", len(X_train))\n",
        "print(\"Observations for testing\", len(X_test))\n",
        "print(\"Some target values\", y.head())"
      ]
    },
    {
      "cell_type": "markdown",
      "metadata": {
        "_uuid": "557714cb6be142242d75d9f50199a1ea0c5c6717",
        "pycharm": {}
      },
      "source": [
        "### We still need to normalize our target values!"
      ]
    },
    {
      "cell_type": "code",
      "execution_count": 43,
      "metadata": {
        "_uuid": "e3b8beb802f66052a3f33ff8783313efdf8c79cc",
        "pycharm": {
          "is_executing": false
        }
      },
      "outputs": [],
      "source": "\n#####################填写：实现功能：将y进行最小最大标准化###################################\n\ny_normalized \u003d (y-y.min()) / (y.max()-y.min())\n\n#####################填写：实现功能：将y进行最小最大标准化###################################\n\ny_normalized.head()\n\ny_train \u003d y[0:days_for_training]\ny_test \u003d y[days_for_training:]\ny_train_normalized \u003d y_normalized[0:days_for_training]\ny_test_normalized \u003d y_normalized[days_for_training:]"
    },
    {
      "cell_type": "markdown",
      "metadata": {
        "_uuid": "a40042f57c8020a57f813d5ce6f4f5494ef713c8",
        "pycharm": {}
      },
      "source": [
        "## We will now build a simple model"
      ]
    },
    {
      "cell_type": "code",
      "execution_count": 18,
      "metadata": {
        "_uuid": "4271cd598a8e2175584cc91bc314d2f90a42f9ab",
        "pycharm": {}
      },
      "outputs": [
        {
          "name": "stderr",
          "output_type": "stream",
          "text": [
            "Using TensorFlow backend.\n",
            "D:\\ProgramData\\Anaconda3\\lib\\site-packages\\tensorflow\\python\\framework\\dtypes.py:516: FutureWarning: Passing (type, 1) or \u00271type\u0027 as a synonym of type is deprecated; in a future version of numpy, it will be understood as (type, (1,)) / \u0027(1,)type\u0027.\n",
            "  _np_qint8 \u003d np.dtype([(\"qint8\", np.int8, 1)])\n",
            "D:\\ProgramData\\Anaconda3\\lib\\site-packages\\tensorflow\\python\\framework\\dtypes.py:517: FutureWarning: Passing (type, 1) or \u00271type\u0027 as a synonym of type is deprecated; in a future version of numpy, it will be understood as (type, (1,)) / \u0027(1,)type\u0027.\n",
            "  _np_quint8 \u003d np.dtype([(\"quint8\", np.uint8, 1)])\n",
            "D:\\ProgramData\\Anaconda3\\lib\\site-packages\\tensorflow\\python\\framework\\dtypes.py:518: FutureWarning: Passing (type, 1) or \u00271type\u0027 as a synonym of type is deprecated; in a future version of numpy, it will be understood as (type, (1,)) / \u0027(1,)type\u0027.\n",
            "  _np_qint16 \u003d np.dtype([(\"qint16\", np.int16, 1)])\n",
            "D:\\ProgramData\\Anaconda3\\lib\\site-packages\\tensorflow\\python\\framework\\dtypes.py:519: FutureWarning: Passing (type, 1) or \u00271type\u0027 as a synonym of type is deprecated; in a future version of numpy, it will be understood as (type, (1,)) / \u0027(1,)type\u0027.\n",
            "  _np_quint16 \u003d np.dtype([(\"quint16\", np.uint16, 1)])\n",
            "D:\\ProgramData\\Anaconda3\\lib\\site-packages\\tensorflow\\python\\framework\\dtypes.py:520: FutureWarning: Passing (type, 1) or \u00271type\u0027 as a synonym of type is deprecated; in a future version of numpy, it will be understood as (type, (1,)) / \u0027(1,)type\u0027.\n",
            "  _np_qint32 \u003d np.dtype([(\"qint32\", np.int32, 1)])\n",
            "D:\\ProgramData\\Anaconda3\\lib\\site-packages\\tensorflow\\python\\framework\\dtypes.py:525: FutureWarning: Passing (type, 1) or \u00271type\u0027 as a synonym of type is deprecated; in a future version of numpy, it will be understood as (type, (1,)) / \u0027(1,)type\u0027.\n",
            "  np_resource \u003d np.dtype([(\"resource\", np.ubyte, 1)])\n",
            "D:\\ProgramData\\Anaconda3\\lib\\site-packages\\tensorboard\\compat\\tensorflow_stub\\dtypes.py:541: FutureWarning: Passing (type, 1) or \u00271type\u0027 as a synonym of type is deprecated; in a future version of numpy, it will be understood as (type, (1,)) / \u0027(1,)type\u0027.\n",
            "  _np_qint8 \u003d np.dtype([(\"qint8\", np.int8, 1)])\n",
            "D:\\ProgramData\\Anaconda3\\lib\\site-packages\\tensorboard\\compat\\tensorflow_stub\\dtypes.py:542: FutureWarning: Passing (type, 1) or \u00271type\u0027 as a synonym of type is deprecated; in a future version of numpy, it will be understood as (type, (1,)) / \u0027(1,)type\u0027.\n",
            "  _np_quint8 \u003d np.dtype([(\"quint8\", np.uint8, 1)])\n",
            "D:\\ProgramData\\Anaconda3\\lib\\site-packages\\tensorboard\\compat\\tensorflow_stub\\dtypes.py:543: FutureWarning: Passing (type, 1) or \u00271type\u0027 as a synonym of type is deprecated; in a future version of numpy, it will be understood as (type, (1,)) / \u0027(1,)type\u0027.\n",
            "  _np_qint16 \u003d np.dtype([(\"qint16\", np.int16, 1)])\n",
            "D:\\ProgramData\\Anaconda3\\lib\\site-packages\\tensorboard\\compat\\tensorflow_stub\\dtypes.py:544: FutureWarning: Passing (type, 1) or \u00271type\u0027 as a synonym of type is deprecated; in a future version of numpy, it will be understood as (type, (1,)) / \u0027(1,)type\u0027.\n",
            "  _np_quint16 \u003d np.dtype([(\"quint16\", np.uint16, 1)])\n",
            "D:\\ProgramData\\Anaconda3\\lib\\site-packages\\tensorboard\\compat\\tensorflow_stub\\dtypes.py:545: FutureWarning: Passing (type, 1) or \u00271type\u0027 as a synonym of type is deprecated; in a future version of numpy, it will be understood as (type, (1,)) / \u0027(1,)type\u0027.\n",
            "  _np_qint32 \u003d np.dtype([(\"qint32\", np.int32, 1)])\n",
            "D:\\ProgramData\\Anaconda3\\lib\\site-packages\\tensorboard\\compat\\tensorflow_stub\\dtypes.py:550: FutureWarning: Passing (type, 1) or \u00271type\u0027 as a synonym of type is deprecated; in a future version of numpy, it will be understood as (type, (1,)) / \u0027(1,)type\u0027.\n",
            "  np_resource \u003d np.dtype([(\"resource\", np.ubyte, 1)])\n",
            "WARNING: Logging before flag parsing goes to stderr.\n",
            "W1017 17:21:56.456006 11128 deprecation_wrapper.py:119] From D:\\ProgramData\\Anaconda3\\lib\\site-packages\\keras\\backend\\tensorflow_backend.py:66: The name tf.get_default_graph is deprecated. Please use tf.compat.v1.get_default_graph instead.\n",
            "\n",
            "W1017 17:21:56.471995 11128 deprecation_wrapper.py:119] From D:\\ProgramData\\Anaconda3\\lib\\site-packages\\keras\\backend\\tensorflow_backend.py:541: The name tf.placeholder is deprecated. Please use tf.compat.v1.placeholder instead.\n",
            "\n",
            "W1017 17:21:56.473959 11128 deprecation_wrapper.py:119] From D:\\ProgramData\\Anaconda3\\lib\\site-packages\\keras\\backend\\tensorflow_backend.py:4432: The name tf.random_uniform is deprecated. Please use tf.random.uniform instead.\n",
            "\n",
            "W1017 17:21:56.487920 11128 deprecation_wrapper.py:119] From D:\\ProgramData\\Anaconda3\\lib\\site-packages\\keras\\backend\\tensorflow_backend.py:148: The name tf.placeholder_with_default is deprecated. Please use tf.compat.v1.placeholder_with_default instead.\n",
            "\n",
            "W1017 17:21:56.496897 11128 deprecation.py:506] From D:\\ProgramData\\Anaconda3\\lib\\site-packages\\keras\\backend\\tensorflow_backend.py:3733: calling dropout (from tensorflow.python.ops.nn_ops) with keep_prob is deprecated and will be removed in a future version.\n",
            "Instructions for updating:\n",
            "Please use `rate` instead of `keep_prob`. Rate should be set to `rate \u003d 1 - keep_prob`.\n",
            "W1017 17:21:56.498892 11128 nn_ops.py:4224] Large dropout rate: 0.75 (\u003e0.5). In TensorFlow 2.x, dropout() uses dropout rate instead of keep_prob. Please ensure that this is intended.\n"
          ]
        },
        {
          "name": "stdout",
          "output_type": "stream",
          "text": [
            "Model: \"sequential_1\"\n",
            "_________________________________________________________________\n",
            "Layer (type)                 Output Shape              Param #   \n",
            "\u003d\u003d\u003d\u003d\u003d\u003d\u003d\u003d\u003d\u003d\u003d\u003d\u003d\u003d\u003d\u003d\u003d\u003d\u003d\u003d\u003d\u003d\u003d\u003d\u003d\u003d\u003d\u003d\u003d\u003d\u003d\u003d\u003d\u003d\u003d\u003d\u003d\u003d\u003d\u003d\u003d\u003d\u003d\u003d\u003d\u003d\u003d\u003d\u003d\u003d\u003d\u003d\u003d\u003d\u003d\u003d\u003d\u003d\u003d\u003d\u003d\u003d\u003d\u003d\u003d\n",
            "dense_1 (Dense)              (None, 13)                780       \n",
            "_________________________________________________________________\n",
            "dropout_1 (Dropout)          (None, 13)                0         \n",
            "_________________________________________________________________\n",
            "dense_2 (Dense)              (None, 1)                 14        \n",
            "\u003d\u003d\u003d\u003d\u003d\u003d\u003d\u003d\u003d\u003d\u003d\u003d\u003d\u003d\u003d\u003d\u003d\u003d\u003d\u003d\u003d\u003d\u003d\u003d\u003d\u003d\u003d\u003d\u003d\u003d\u003d\u003d\u003d\u003d\u003d\u003d\u003d\u003d\u003d\u003d\u003d\u003d\u003d\u003d\u003d\u003d\u003d\u003d\u003d\u003d\u003d\u003d\u003d\u003d\u003d\u003d\u003d\u003d\u003d\u003d\u003d\u003d\u003d\u003d\u003d\n",
            "Total params: 794\n",
            "Trainable params: 794\n",
            "Non-trainable params: 0\n",
            "_________________________________________________________________\n"
          ]
        }
      ],
      "source": [
        "####################################实现利用keras调用神经网络的建模功能#################################################\n",
        "from keras.models import Sequential\n",
        "from keras.layers import Dense, Dropout\n",
        "\n",
        "features \u003d X.shape[1]                                 #获取特征的个数\n",
        "model \u003d Sequential()                                  #建立顺序模型\n",
        "#####################填写：实现功能：该部分为设置网络模型##########################\n",
        "#1、设置第一层隐藏层网络，节点个数为13个，输入层特征个数为features，激活函数为relu\n",
        "\n",
        "\n",
        "#2、在第一层隐藏层中删掉一些神经元，增加随机性，避免过拟合\n",
        "\n",
        "\n",
        "#3、设置输出层，节点个数为1，激活函数为linear\n",
        "\n",
        "                        \n",
        "#####################填写：实现功能：该部分为设置网络模型##########################\n",
        "model.summary()            #显示model的结构\n"
      ]
    },
    {
      "cell_type": "code",
      "execution_count": 19,
      "metadata": {
        "_uuid": "c42c3ac1c7c9da87b9e6069cc7ac1fbdc3ec57f9",
        "pycharm": {}
      },
      "outputs": [
        {
          "name": "stderr",
          "output_type": "stream",
          "text": [
            "W1017 17:21:56.555740 11128 deprecation_wrapper.py:119] From D:\\ProgramData\\Anaconda3\\lib\\site-packages\\keras\\optimizers.py:793: The name tf.train.Optimizer is deprecated. Please use tf.compat.v1.train.Optimizer instead.\n",
            "\n"
          ]
        }
      ],
      "source": [
        "###########设置权值更新算法——梯度下降算法##############\n",
        "from keras.optimizers import SGD\n",
        "sgd \u003d SGD(lr\u003d0.01)\n",
        "model.compile(optimizer\u003dsgd, loss\u003d\"mean_squared_error\")\n",
        "###########设置权值更新算法——梯度下降算法##############"
      ]
    },
    {
      "cell_type": "code",
      "execution_count": 20,
      "metadata": {
        "_uuid": "630c5cf9c39ce00f5347d87836238dd30a302d65",
        "pycharm": {}
      },
      "outputs": [
        {
          "name": "stderr",
          "output_type": "stream",
          "text": [
            "W1017 17:21:56.685423 11128 deprecation_wrapper.py:119] From D:\\ProgramData\\Anaconda3\\lib\\site-packages\\keras\\backend\\tensorflow_backend.py:1033: The name tf.assign_add is deprecated. Please use tf.compat.v1.assign_add instead.\n",
            "\n"
          ]
        },
        {
          "name": "stdout",
          "output_type": "stream",
          "text": [
            "Train on 506 samples, validate on 16873 samples\n",
            "Epoch 1/10\n",
            "506/506 [\u003d\u003d\u003d\u003d\u003d\u003d\u003d\u003d\u003d\u003d\u003d\u003d\u003d\u003d\u003d\u003d\u003d\u003d\u003d\u003d\u003d\u003d\u003d\u003d\u003d\u003d\u003d\u003d\u003d\u003d] - 2s 4ms/step - loss: 0.1336 - val_loss: 0.0952\n",
            "Epoch 2/10\n",
            "506/506 [\u003d\u003d\u003d\u003d\u003d\u003d\u003d\u003d\u003d\u003d\u003d\u003d\u003d\u003d\u003d\u003d\u003d\u003d\u003d\u003d\u003d\u003d\u003d\u003d\u003d\u003d\u003d\u003d\u003d\u003d] - 1s 1ms/step - loss: 0.0438 - val_loss: 0.0878\n",
            "Epoch 3/10\n",
            "506/506 [\u003d\u003d\u003d\u003d\u003d\u003d\u003d\u003d\u003d\u003d\u003d\u003d\u003d\u003d\u003d\u003d\u003d\u003d\u003d\u003d\u003d\u003d\u003d\u003d\u003d\u003d\u003d\u003d\u003d\u003d] - 1s 1ms/step - loss: 0.0289 - val_loss: 0.0839\n",
            "Epoch 4/10\n",
            "506/506 [\u003d\u003d\u003d\u003d\u003d\u003d\u003d\u003d\u003d\u003d\u003d\u003d\u003d\u003d\u003d\u003d\u003d\u003d\u003d\u003d\u003d\u003d\u003d\u003d\u003d\u003d\u003d\u003d\u003d\u003d] - 1s 1ms/step - loss: 0.0216 - val_loss: 0.0812\n",
            "Epoch 5/10\n",
            "506/506 [\u003d\u003d\u003d\u003d\u003d\u003d\u003d\u003d\u003d\u003d\u003d\u003d\u003d\u003d\u003d\u003d\u003d\u003d\u003d\u003d\u003d\u003d\u003d\u003d\u003d\u003d\u003d\u003d\u003d\u003d] - 1s 1ms/step - loss: 0.0153 - val_loss: 0.0796\n",
            "Epoch 6/10\n",
            "506/506 [\u003d\u003d\u003d\u003d\u003d\u003d\u003d\u003d\u003d\u003d\u003d\u003d\u003d\u003d\u003d\u003d\u003d\u003d\u003d\u003d\u003d\u003d\u003d\u003d\u003d\u003d\u003d\u003d\u003d\u003d] - 1s 1ms/step - loss: 0.0155 - val_loss: 0.0784\n",
            "Epoch 7/10\n",
            "506/506 [\u003d\u003d\u003d\u003d\u003d\u003d\u003d\u003d\u003d\u003d\u003d\u003d\u003d\u003d\u003d\u003d\u003d\u003d\u003d\u003d\u003d\u003d\u003d\u003d\u003d\u003d\u003d\u003d\u003d\u003d] - 1s 1ms/step - loss: 0.0113 - val_loss: 0.0773\n",
            "Epoch 8/10\n",
            "506/506 [\u003d\u003d\u003d\u003d\u003d\u003d\u003d\u003d\u003d\u003d\u003d\u003d\u003d\u003d\u003d\u003d\u003d\u003d\u003d\u003d\u003d\u003d\u003d\u003d\u003d\u003d\u003d\u003d\u003d\u003d] - 1s 1ms/step - loss: 0.0102 - val_loss: 0.0766\n",
            "Epoch 9/10\n",
            "506/506 [\u003d\u003d\u003d\u003d\u003d\u003d\u003d\u003d\u003d\u003d\u003d\u003d\u003d\u003d\u003d\u003d\u003d\u003d\u003d\u003d\u003d\u003d\u003d\u003d\u003d\u003d\u003d\u003d\u003d\u003d] - 1s 1ms/step - loss: 0.0105 - val_loss: 0.0756\n",
            "Epoch 10/10\n",
            "506/506 [\u003d\u003d\u003d\u003d\u003d\u003d\u003d\u003d\u003d\u003d\u003d\u003d\u003d\u003d\u003d\u003d\u003d\u003d\u003d\u003d\u003d\u003d\u003d\u003d\u003d\u003d\u003d\u003d\u003d\u003d] - 1s 1ms/step - loss: 0.0081 - val_loss: 0.0748\n"
          ]
        }
      ],
      "source": [
        "##############修改：生成model，尝试修改epochs值##########\n",
        "results \u003d model.fit(X_train, y_train_normalized, epochs\u003d10, validation_data \u003d (X_test, y_test_normalized))\n",
        "##############修改：生成model，尝试修改epochs值##########"
      ]
    },
    {
      "cell_type": "code",
      "execution_count": 21,
      "metadata": {
        "_uuid": "c12acc3e953d6e8dccdd785462e2be836d1f7890",
        "scrolled": true,
        "pycharm": {}
      },
      "outputs": [
        {
          "data": {
            "text/plain": [
              "\u003cmatplotlib.axes._subplots.AxesSubplot at 0x2274964d438\u003e"
            ]
          },
          "execution_count": 21,
          "metadata": {},
          "output_type": "execute_result"
        },
        {
          "data": {
            "image/png": "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\u003d\u003d\n",
            "text/plain": [
              "\u003cFigure size 432x288 with 1 Axes\u003e"
            ]
          },
          "metadata": {
            "needs_background": "light"
          },
          "output_type": "display_data"
        }
      ],
      "source": [
        "results.history\n",
        "pd.DataFrame.from_dict(results.history).plot()"
      ]
    },
    {
      "cell_type": "code",
      "execution_count": null,
      "metadata": {
        "_uuid": "b290d8d8e3ad647a1e8d2d67146bf0d1bbc0a0ad",
        "pycharm": {}
      },
      "outputs": [],
      "source": [
        "from sklearn.metrics import mean_squared_error, r2_score\n",
        "from math import sqrt\n",
        "\n",
        "y_test_normalized\u003dnp.array(y_test_normalized)\n",
        "\n",
        "##############填写：实现功能：测试集为X_test，利用model预测y_pred##########\n",
        "y_pred \u003d                \n",
        "\n",
        "##############填写：实现功能：测试集为X_test，利用model预测y_pred##########\n",
        "\n",
        "\n",
        "##############填写：实现功能：利用y_test_normalized和y_pred计算rmse和r2##########\n",
        "rmse \u003d \n",
        "r2 \u003d \n",
        "##############填写：实现功能：利用y_test_normalized和y_pred计算rmse和r2##########\n",
        "\n",
        "print(\"RMSE:\",rmse)\n",
        "print(\"R2:\",r2)"
      ]
    }
  ],
  "metadata": {
    "kernelspec": {
      "display_name": "Python 3",
      "language": "python",
      "name": "python3"
    },
    "language_info": {
      "codemirror_mode": {
        "name": "ipython",
        "version": 3
      },
      "file_extension": ".py",
      "mimetype": "text/x-python",
      "name": "python",
      "nbconvert_exporter": "python",
      "pygments_lexer": "ipython3",
      "version": "3.6.8"
    }
  },
  "nbformat": 4,
  "nbformat_minor": 1
}