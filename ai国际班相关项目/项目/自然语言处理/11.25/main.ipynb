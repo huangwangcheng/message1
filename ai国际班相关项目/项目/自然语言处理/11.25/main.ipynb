{
 "cells": [
  {
   "cell_type": "code",
   "execution_count": 1,
   "metadata": {
    "collapsed": true,
    "pycharm": {
     "is_executing": false
    }
   },
   "outputs": [],
   "source": [
    "import nltk.classify.util\n",
    "from nltk.classify import NaiveBayesClassifier\n",
    "from nltk.corpus import movie_reviews"
   ]
  },
  {
   "cell_type": "code",
   "execution_count": 2,
   "outputs": [],
   "source": [
    "# 导入movie review数据\n",
    "if __name__ == '__main__':\n",
    " positive_fileids = movie_reviews.fileids('pos')\n",
    " negative_fileids = movie_reviews.fileids('neg')\n"
   ],
   "metadata": {
    "collapsed": false,
    "pycharm": {
     "name": "#%%\n",
     "is_executing": false
    }
   }
  },
  {
   "cell_type": "code",
   "execution_count": 4,
   "outputs": [],
   "source": [
    "# 定义一个函数，用来提取特征数据\n",
    "def extract_features(word_list):\n",
    " return dict([(word,True) for word in word_list])"
   ],
   "metadata": {
    "collapsed": false,
    "pycharm": {
     "name": "#%%\n",
     "is_executing": false
    }
   }
  },
  {
   "cell_type": "code",
   "execution_count": 5,
   "outputs": [],
   "source": [
    "# 将语料库中的数据通过刚才定义的函数提取出来\n",
    "features_positive =[(extract_features(movie_reviews.words(fileids=[f])),'Positive') for f in positive_fileids]\n",
    "features_negative =[(extract_features(movie_reviews.words(fileids=[f])),'Negative') for f in negative_fileids]"
   ],
   "metadata": {
    "collapsed": false,
    "pycharm": {
     "name": "#%%\n",
     "is_executing": false
    }
   }
  },
  {
   "cell_type": "code",
   "execution_count": 7,
   "outputs": [],
   "source": [
    "# 将数据分成训练数据和测试数据\n",
    "# Split the data into train and test (80/20)\n",
    "threshold_factor = 0.8\n",
    "threshold_positive =int(threshold_factor*len(features_positive))\n",
    "threshold_negative =int(threshold_factor*len(features_negative))\n",
    "features_train = features_positive[:threshold_positive] + features_negative[:threshold_negative]\n",
    "features_test = features_positive[threshold_positive:] + features_negative[threshold_negative:]"
   ],
   "metadata": {
    "collapsed": false,
    "pycharm": {
     "name": "#%%\n",
     "is_executing": false
    }
   }
  },
  {
   "cell_type": "code",
   "execution_count": 8,
   "outputs": [
    {
     "name": "stdout",
     "text": [
      "\nAccuracy of the classifier: 0.735\n"
     ],
     "output_type": "stream"
    }
   ],
   "source": [
    "# 使用朴素贝叶斯分类器训练\n",
    "# Train a Naive Bayes classifier\n",
    "classifier = NaiveBayesClassifier.train(features_train)\n",
    "print (\"\\nAccuracy of the classifier:\",\n",
    "nltk.classify.util.accuracy(classifier, features_test))"
   ],
   "metadata": {
    "collapsed": false,
    "pycharm": {
     "name": "#%%\n",
     "is_executing": false
    }
   }
  },
  {
   "cell_type": "code",
   "execution_count": 9,
   "outputs": [
    {
     "name": "stdout",
     "text": [
      "\nTop 10 most informative words:\n",
      "outstanding\ninsulting\nvulnerable\nludicrous\nuninvolving\nastounding\navoids\nfascination\nseagal\nsymbol\n"
     ],
     "output_type": "stream"
    }
   ],
   "source": [
    "# 分类器对象中存有从训练数据中获取的对语义最有影响的单词，我们将他们输出\n",
    "print (\"\\nTop 10 most informative words:\")\n",
    "for item in classifier.most_informative_features()[:10]:\n",
    " print (item[0])"
   ],
   "metadata": {
    "collapsed": false,
    "pycharm": {
     "name": "#%%\n",
     "is_executing": false
    }
   }
  },
  {
   "cell_type": "code",
   "execution_count": 10,
   "outputs": [],
   "source": [
    "# 给一些输入文本\n",
    "# Sample input reviews\n",
    "input_reviews = [\n",
    " \"It is an amazing movie\",\n",
    " \"This is a dull movie. I would never recommend it toanyone.\",\n",
    " \"A complete and utter destruction of one of the most iconic superheroes. 0.1 effort and thought put into the storyline. A coming of age awkward teenage movie with a 'spiderman' stamp put on it. Bad jokes aimed at teenagers (at best). A complete caricature of a villain, a complete caricature of a Spiderman. Just please stop making this garbage Put some god damn effort! A total waste of time\",\n",
    " \"Just staving off some negative reviews. Fits well into the Marvel movies to date and is an excellent follow up to Avengers: Endgame.\"\n",
    "]"
   ],
   "metadata": {
    "collapsed": false,
    "pycharm": {
     "name": "#%%\n",
     "is_executing": false
    }
   }
  },
  {
   "cell_type": "code",
   "execution_count": 11,
   "outputs": [
    {
     "name": "stdout",
     "text": [
      "\nPredictions:\n\nReview: It is an amazing movie\nPredicted sentiment: Positive\nProbability: 0.61\n\nReview: This is a dull movie. I would never recommend it toanyone.\nPredicted sentiment: Negative\nProbability: 0.77\n\nReview: A complete and utter destruction of one of the most iconic superheroes. 0.1 effort and thought put into the storyline. A coming of age awkward teenage movie with a 'spiderman' stamp put on it. Bad jokes aimed at teenagers (at best). A complete caricature of a villain, a complete caricature of a Spiderman. Just please stop making this garbage Put some god damn effort! A total waste of time\nPredicted sentiment: Negative\nProbability: 0.99\n\nReview: Just staving off some negative reviews. Fits well into the Marvel movies to date and is an excellent follow up to Avengers: Endgame.\nPredicted sentiment: Positive\nProbability: 0.92\n"
     ],
     "output_type": "stream"
    }
   ],
   "source": [
    "# ⽤我们之前训练出的分类器预测这些⽂本的分类\n",
    "print (\"\\nPredictions:\")\n",
    "for review in input_reviews:\n",
    " print (\"\\nReview:\", review)\n",
    " probdist = classifier.prob_classify(extract_features(review.split()))\n",
    " pred_sentiment = probdist.max()\n",
    " print (\"Predicted sentiment:\", pred_sentiment )\n",
    " print (\"Probability:\",\n",
    "round(probdist.prob(pred_sentiment), 2))\n"
   ],
   "metadata": {
    "collapsed": false,
    "pycharm": {
     "name": "#%%\n",
     "is_executing": false
    }
   }
  }
 ],
 "metadata": {
  "kernelspec": {
   "display_name": "Python 3",
   "language": "python",
   "name": "python3"
  },
  "language_info": {
   "codemirror_mode": {
    "name": "ipython",
    "version": 2
   },
   "file_extension": ".py",
   "mimetype": "text/x-python",
   "name": "python",
   "nbconvert_exporter": "python",
   "pygments_lexer": "ipython2",
   "version": "2.7.6"
  },
  "pycharm": {
   "stem_cell": {
    "cell_type": "raw",
    "source": [],
    "metadata": {
     "collapsed": false
    }
   }
  }
 },
 "nbformat": 4,
 "nbformat_minor": 0
}