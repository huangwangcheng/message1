{
 "cells": [
  {
   "cell_type": "code",
   "execution_count": null,
   "metadata": {
    "collapsed": true
   },
   "outputs": [],
   "source": [
    "from keras.models import Sequential\n",
    "from keras.layers import Conv2D, MaxPooling2D, ZeroPadding2D, Convolution2D\n",
    "from keras.layers import Activation, Dropout, Flatten, Dense\n",
    "\n",
    "model = Sequential()\n",
    "\n",
    "model.add(ZeroPadding2D((1,1),input_shape=(3,224,224)))  # 卷积层输入，指定了输入图像的大小\n",
    "model.add(Convolution2D(64, 3, 3, activation='relu')) # 64个3*3的卷积层，生成64*224*224d的图像\n",
    "model.add(ZeroPadding2D((1,1)))   # 补0，保证图像卷积后图像大小不变\n",
    "model.add(Convolution2D(64, 3, 3, activation='relu'))  # 再来一次卷积，生成64*224*224\n",
    "model.add(MaxPooling2D((2,2), strides=(2,2),dim_ordering = \"tf\")) # pooling操作，相当于变成64*112*112\n",
    "# dim_ordering = \"tf\" 维度的顺序\n",
    "\n",
    "model.add(ZeroPadding2D((1,1)))  # 补0，保证图像卷积后图像大小不变\n",
    "model.add(Convolution2D(128, 3, 3, activation='relu')) # 128个3*3的卷积层，生成128*112*112\n",
    "model.add(ZeroPadding2D((1,1)))  # 补0，保证图像卷积后图像大小不变\n",
    "model.add(Convolution2D(128, 3, 3, activation='relu'))   # 再来一次卷积，生成128*112*112\n",
    "model.add(MaxPooling2D((2,2), strides=(2,2),dim_ordering = \"tf\"))   # pooling操作，相当于变成128*56*56\n",
    "\n",
    "model.add(ZeroPadding2D((1,1))) # 补0，保证图像卷积后图像大小不变\n",
    "model.add(Convolution2D(256, 3, 3, activation='relu')) # 256个3*3的卷积层，生成256*56*56\n",
    "model.add(ZeroPadding2D((1,1))) # 补0，保证图像卷积后图像大小不变\n",
    "model.add(Convolution2D(256, 3, 3, activation='relu'))  # 再来一次卷积，生成256*56*56\n",
    "model.add(ZeroPadding2D((1,1))) # 补0，保证图像卷积后图像大小不变\n",
    "model.add(Convolution2D(256, 3, 3, activation='relu')) # 再来一次卷积，生成256*56*56\n",
    "model.add(MaxPooling2D((2,2), strides=(2,2),dim_ordering = \"tf\"))  # pooling操作，相当于变成256*28*28\n",
    "\n",
    "model.add(ZeroPadding2D((1,1))) # 补0，保证图像卷积后图像大小不变\n",
    "model.add(Convolution2D(512, 3, 3, activation='relu'))  # 512个3*3的卷积层，生成512*28*28\n",
    "model.add(ZeroPadding2D((1,1))) # 补0，保证图像卷积后图像大小不变\n",
    "model.add(Convolution2D(512, 3, 3, activation='relu')) # 再来一次卷积，生成512*28*28\n",
    "model.add(ZeroPadding2D((1,1))) # 补0，保证图像卷积后图像大小不变\n",
    "model.add(Convolution2D(512, 3, 3, activation='relu'))  # 再来一次卷积，生成512*28*28\n",
    "model.add(MaxPooling2D((2,2), strides=(2,2),dim_ordering = \"tf\")) # pooling操作，相当于变成512*14*14\n",
    "\n",
    "model.add(ZeroPadding2D((1,1))) # 补0，保证图像卷积后图像大小不变\n",
    "model.add(Convolution2D(512, 3, 3, activation='relu')) # 512个3*3的卷积层，生成512*14*14\n",
    "model.add(ZeroPadding2D((1,1))) # 补0，保证图像卷积后图像大小不变\n",
    "model.add(Convolution2D(512, 3, 3, activation='relu')) # 再来一次卷积，生成512*14*14\n",
    "model.add(ZeroPadding2D((1,1))) # 补0，保证图像卷积后图像大小不变\n",
    "model.add(Convolution2D(512, 3, 3, activation='relu')) # 再来一次卷积，生成512*14*14\n",
    "model.add(MaxPooling2D((2,2), strides=(2,2),dim_ordering = \"tf\"))  # pooling操作，相当于变成512*7*7\n",
    "\n",
    "model.add(Flatten())  # 压平上述向量，变成一维25088\n",
    "model.add(Dense(4096, activation='relu')) # 全连接层有4096个神经核，参数个数就是4096*25088\n",
    "model.add(Dropout(0.5))  # 0.5的概率抛弃一些连接\n",
    "model.add(Dense(4096, activation='relu')) # 再来一个全连接\n",
    "model.add(Dropout(0.5))\n",
    "model.add(Dense(1, activation='sigmoid'))\n"
   ]
  }
 ],
 "metadata": {
  "kernelspec": {
   "display_name": "Python 3",
   "language": "python",
   "name": "python3"
  },
  "language_info": {
   "codemirror_mode": {
    "name": "ipython",
    "version": 2
   },
   "file_extension": ".py",
   "mimetype": "text/x-python",
   "name": "python",
   "nbconvert_exporter": "python",
   "pygments_lexer": "ipython2",
   "version": "2.7.6"
  },
  "pycharm": {
   "stem_cell": {
    "cell_type": "raw",
    "source": [],
    "metadata": {
     "collapsed": false
    }
   }
  }
 },
 "nbformat": 4,
 "nbformat_minor": 0
}